{
 "cells": [
  {
   "cell_type": "markdown",
   "metadata": {
    "id": "rpuf4Nwziovy"
   },
   "source": [
    "## 자전거 대여 수요 예측(Bike Sharing Demand)\n"
   ]
  },
  {
   "cell_type": "markdown",
   "metadata": {
    "id": "q0D25iDiiov2"
   },
   "source": [
    "- [dataset] https://www.kaggle.com/c/bike-sharing-demand\n",
    "- Overview -> Evaluaton: 성능 평가에 RMSLE 사용\n",
    "- train.csv 파일로 데이터 분할과 분석/예측 모두 진행"
   ]
  },
  {
   "cell_type": "code",
   "execution_count": 1,
   "metadata": {
    "id": "Swpyz63-iov3"
   },
   "outputs": [],
   "source": [
    "import numpy as np\n",
    "import pandas as pd\n",
    "import seaborn as sns\n",
    "import matplotlib.pyplot as plt\n",
    "\n",
    "import warnings\n",
    "warnings.filterwarnings('ignore')"
   ]
  },
  {
   "cell_type": "markdown",
   "metadata": {
    "id": "hGUQgX_yiov4"
   },
   "source": [
    "### 데이터 로드"
   ]
  },
  {
   "cell_type": "code",
   "execution_count": 2,
   "metadata": {
    "id": "MM4FZuxkiov4"
   },
   "outputs": [],
   "source": [
    "# bike_demand.csv 파일 불러오기\n",
    "bike_df = pd.read_csv('bike_demand.csv') # 파일 경로 확인(같은 경로에 위치할 경우 파일명만 입력)"
   ]
  },
  {
   "cell_type": "code",
   "execution_count": 3,
   "metadata": {
    "id": "hS7x1FsNiov5"
   },
   "outputs": [
    {
     "data": {
      "text/plain": [
       "(10886, 12)"
      ]
     },
     "execution_count": 3,
     "metadata": {},
     "output_type": "execute_result"
    }
   ],
   "source": [
    "# bike_df 크기 확인\n",
    "bike_df.shape"
   ]
  },
  {
   "cell_type": "code",
   "execution_count": 4,
   "metadata": {
    "id": "mqJGhHSCiov5"
   },
   "outputs": [
    {
     "data": {
      "text/html": [
       "<div>\n",
       "<style scoped>\n",
       "    .dataframe tbody tr th:only-of-type {\n",
       "        vertical-align: middle;\n",
       "    }\n",
       "\n",
       "    .dataframe tbody tr th {\n",
       "        vertical-align: top;\n",
       "    }\n",
       "\n",
       "    .dataframe thead th {\n",
       "        text-align: right;\n",
       "    }\n",
       "</style>\n",
       "<table border=\"1\" class=\"dataframe\">\n",
       "  <thead>\n",
       "    <tr style=\"text-align: right;\">\n",
       "      <th></th>\n",
       "      <th>datetime</th>\n",
       "      <th>season</th>\n",
       "      <th>holiday</th>\n",
       "      <th>workingday</th>\n",
       "      <th>weather</th>\n",
       "      <th>temp</th>\n",
       "      <th>atemp</th>\n",
       "      <th>humidity</th>\n",
       "      <th>windspeed</th>\n",
       "      <th>casual</th>\n",
       "      <th>registered</th>\n",
       "      <th>count</th>\n",
       "    </tr>\n",
       "  </thead>\n",
       "  <tbody>\n",
       "    <tr>\n",
       "      <th>0</th>\n",
       "      <td>2011-01-01 00:00:00</td>\n",
       "      <td>1</td>\n",
       "      <td>0</td>\n",
       "      <td>0</td>\n",
       "      <td>1</td>\n",
       "      <td>9.84</td>\n",
       "      <td>14.395</td>\n",
       "      <td>81</td>\n",
       "      <td>0.0</td>\n",
       "      <td>3</td>\n",
       "      <td>13</td>\n",
       "      <td>16</td>\n",
       "    </tr>\n",
       "    <tr>\n",
       "      <th>1</th>\n",
       "      <td>2011-01-01 01:00:00</td>\n",
       "      <td>1</td>\n",
       "      <td>0</td>\n",
       "      <td>0</td>\n",
       "      <td>1</td>\n",
       "      <td>9.02</td>\n",
       "      <td>13.635</td>\n",
       "      <td>80</td>\n",
       "      <td>0.0</td>\n",
       "      <td>8</td>\n",
       "      <td>32</td>\n",
       "      <td>40</td>\n",
       "    </tr>\n",
       "    <tr>\n",
       "      <th>2</th>\n",
       "      <td>2011-01-01 02:00:00</td>\n",
       "      <td>1</td>\n",
       "      <td>0</td>\n",
       "      <td>0</td>\n",
       "      <td>1</td>\n",
       "      <td>9.02</td>\n",
       "      <td>13.635</td>\n",
       "      <td>80</td>\n",
       "      <td>0.0</td>\n",
       "      <td>5</td>\n",
       "      <td>27</td>\n",
       "      <td>32</td>\n",
       "    </tr>\n",
       "  </tbody>\n",
       "</table>\n",
       "</div>"
      ],
      "text/plain": [
       "              datetime  season  holiday  workingday  weather  temp   atemp  \\\n",
       "0  2011-01-01 00:00:00       1        0           0        1  9.84  14.395   \n",
       "1  2011-01-01 01:00:00       1        0           0        1  9.02  13.635   \n",
       "2  2011-01-01 02:00:00       1        0           0        1  9.02  13.635   \n",
       "\n",
       "   humidity  windspeed  casual  registered  count  \n",
       "0        81        0.0       3          13     16  \n",
       "1        80        0.0       8          32     40  \n",
       "2        80        0.0       5          27     32  "
      ]
     },
     "execution_count": 4,
     "metadata": {},
     "output_type": "execute_result"
    }
   ],
   "source": [
    "# 상위 3개 데이터 조회\n",
    "bike_df.head(3)"
   ]
  },
  {
   "cell_type": "markdown",
   "metadata": {
    "id": "jvxlkF1biov6"
   },
   "source": [
    "**컬럼 정보** \n",
    "\n",
    "datetime : hourly date + timestamp(날짜와 시간)  \n",
    "season : 1 = 봄, 2 = 여름, 3 = 가을, 4 = 겨울  \n",
    "holiday : 1 = 토, 일요일의 주말을 제외한 국경일 등의 휴일, 0 = 휴일이 아닌 날  \n",
    "workingday : 1 = 토, 일요일의 주말 및 휴일이 아닌 주중, 0 = 주말 및 휴일  \n",
    "weather:  \n",
    "• 1 = 맑음, 약간 구름 낀 흐림  \n",
    "• 2 = 안개, 안개 + 흐림  \n",
    "• 3 = 가벼운 눈, 가벼운 비 + 천둥  \n",
    "• 4 = 심한 눈/비, 천둥/번개  \n",
    "temp : 온도(섭씨)   \n",
    "atemp : 체감온도(섭씨)  \n",
    "humidity : 상대습도  \n",
    "windspeed : 풍속  \n",
    "casual : 사전에 등록되지 않는 사용자가 대여한 횟수(비회원대여량)  \n",
    "registered : 사전에 등록된 사용자가 대여한 횟수(회원대여량)  \n",
    "count : 대여 횟수  "
   ]
  },
  {
   "cell_type": "code",
   "execution_count": 5,
   "metadata": {
    "id": "2IKOV6etiov6"
   },
   "outputs": [
    {
     "name": "stdout",
     "output_type": "stream",
     "text": [
      "<class 'pandas.core.frame.DataFrame'>\n",
      "RangeIndex: 10886 entries, 0 to 10885\n",
      "Data columns (total 12 columns):\n",
      " #   Column      Non-Null Count  Dtype  \n",
      "---  ------      --------------  -----  \n",
      " 0   datetime    10886 non-null  object \n",
      " 1   season      10886 non-null  int64  \n",
      " 2   holiday     10886 non-null  int64  \n",
      " 3   workingday  10886 non-null  int64  \n",
      " 4   weather     10886 non-null  int64  \n",
      " 5   temp        10886 non-null  float64\n",
      " 6   atemp       10886 non-null  float64\n",
      " 7   humidity    10886 non-null  int64  \n",
      " 8   windspeed   10886 non-null  float64\n",
      " 9   casual      10886 non-null  int64  \n",
      " 10  registered  10886 non-null  int64  \n",
      " 11  count       10886 non-null  int64  \n",
      "dtypes: float64(3), int64(8), object(1)\n",
      "memory usage: 1020.7+ KB\n"
     ]
    }
   ],
   "source": [
    "# bike_df 정보 확인(컬럼명, 타입 등)\n",
    "bike_df.info()\n",
    "\n",
    "# null 없이 정제된 데이터\n",
    "# datetime을 제외하면 모두 숫자형 데이터"
   ]
  },
  {
   "cell_type": "markdown",
   "metadata": {
    "id": "JUmKLDoSiov7"
   },
   "source": [
    "## 데이터 준비"
   ]
  },
  {
   "cell_type": "markdown",
   "metadata": {
    "id": "TS5F5l8elYWW"
   },
   "source": [
    "### 컬럼 데이터 타입 변경, 불필요한 컬럼 삭제"
   ]
  },
  {
   "cell_type": "code",
   "execution_count": 6,
   "metadata": {
    "id": "CbCoWlGtiov7"
   },
   "outputs": [],
   "source": [
    "# datetime 컬럼의 데이터 타입을 object에서 datetime으로 변경(to_datetime 함수 사용)\n",
    "bike_df['datetime'] = pd.to_datetime(bike_df['datetime'])"
   ]
  },
  {
   "cell_type": "code",
   "execution_count": 7,
   "metadata": {
    "id": "g7DofWyaiov8"
   },
   "outputs": [
    {
     "name": "stdout",
     "output_type": "stream",
     "text": [
      "<class 'pandas.core.frame.DataFrame'>\n",
      "RangeIndex: 10886 entries, 0 to 10885\n",
      "Data columns (total 12 columns):\n",
      " #   Column      Non-Null Count  Dtype         \n",
      "---  ------      --------------  -----         \n",
      " 0   datetime    10886 non-null  datetime64[ns]\n",
      " 1   season      10886 non-null  int64         \n",
      " 2   holiday     10886 non-null  int64         \n",
      " 3   workingday  10886 non-null  int64         \n",
      " 4   weather     10886 non-null  int64         \n",
      " 5   temp        10886 non-null  float64       \n",
      " 6   atemp       10886 non-null  float64       \n",
      " 7   humidity    10886 non-null  int64         \n",
      " 8   windspeed   10886 non-null  float64       \n",
      " 9   casual      10886 non-null  int64         \n",
      " 10  registered  10886 non-null  int64         \n",
      " 11  count       10886 non-null  int64         \n",
      "dtypes: datetime64[ns](1), float64(3), int64(8)\n",
      "memory usage: 1020.7 KB\n"
     ]
    }
   ],
   "source": [
    "bike_df.info() # 데이터 타입 변경되었는지 확인"
   ]
  },
  {
   "cell_type": "code",
   "execution_count": 8,
   "metadata": {
    "id": "HtX_azE6iov8"
   },
   "outputs": [],
   "source": [
    "# datetime 타입은 object 타입에 비해(추가 코딩 필요) 연, 월, 일, 요일, 시간 등 쉽게 추출 가능\n",
    "# datetime 컬럼에서 연, 월, 일, 시간 추출\n",
    "bike_df['year'] = bike_df['datetime'].dt.year\n",
    "bike_df['month'] = bike_df['datetime'].dt.month\n",
    "bike_df['day'] = bike_df['datetime'].dt.day\n",
    "bike_df['hour'] = bike_df['datetime'].dt.hour"
   ]
  },
  {
   "cell_type": "code",
   "execution_count": 9,
   "metadata": {
    "id": "71VJE6wFiov8",
    "scrolled": true
   },
   "outputs": [
    {
     "data": {
      "text/html": [
       "<div>\n",
       "<style scoped>\n",
       "    .dataframe tbody tr th:only-of-type {\n",
       "        vertical-align: middle;\n",
       "    }\n",
       "\n",
       "    .dataframe tbody tr th {\n",
       "        vertical-align: top;\n",
       "    }\n",
       "\n",
       "    .dataframe thead th {\n",
       "        text-align: right;\n",
       "    }\n",
       "</style>\n",
       "<table border=\"1\" class=\"dataframe\">\n",
       "  <thead>\n",
       "    <tr style=\"text-align: right;\">\n",
       "      <th></th>\n",
       "      <th>datetime</th>\n",
       "      <th>season</th>\n",
       "      <th>holiday</th>\n",
       "      <th>workingday</th>\n",
       "      <th>weather</th>\n",
       "      <th>temp</th>\n",
       "      <th>atemp</th>\n",
       "      <th>humidity</th>\n",
       "      <th>windspeed</th>\n",
       "      <th>casual</th>\n",
       "      <th>registered</th>\n",
       "      <th>count</th>\n",
       "      <th>year</th>\n",
       "      <th>month</th>\n",
       "      <th>day</th>\n",
       "      <th>hour</th>\n",
       "    </tr>\n",
       "  </thead>\n",
       "  <tbody>\n",
       "    <tr>\n",
       "      <th>10881</th>\n",
       "      <td>2012-12-19 19:00:00</td>\n",
       "      <td>4</td>\n",
       "      <td>0</td>\n",
       "      <td>1</td>\n",
       "      <td>1</td>\n",
       "      <td>15.58</td>\n",
       "      <td>19.695</td>\n",
       "      <td>50</td>\n",
       "      <td>26.0027</td>\n",
       "      <td>7</td>\n",
       "      <td>329</td>\n",
       "      <td>336</td>\n",
       "      <td>2012</td>\n",
       "      <td>12</td>\n",
       "      <td>19</td>\n",
       "      <td>19</td>\n",
       "    </tr>\n",
       "    <tr>\n",
       "      <th>10882</th>\n",
       "      <td>2012-12-19 20:00:00</td>\n",
       "      <td>4</td>\n",
       "      <td>0</td>\n",
       "      <td>1</td>\n",
       "      <td>1</td>\n",
       "      <td>14.76</td>\n",
       "      <td>17.425</td>\n",
       "      <td>57</td>\n",
       "      <td>15.0013</td>\n",
       "      <td>10</td>\n",
       "      <td>231</td>\n",
       "      <td>241</td>\n",
       "      <td>2012</td>\n",
       "      <td>12</td>\n",
       "      <td>19</td>\n",
       "      <td>20</td>\n",
       "    </tr>\n",
       "    <tr>\n",
       "      <th>10883</th>\n",
       "      <td>2012-12-19 21:00:00</td>\n",
       "      <td>4</td>\n",
       "      <td>0</td>\n",
       "      <td>1</td>\n",
       "      <td>1</td>\n",
       "      <td>13.94</td>\n",
       "      <td>15.910</td>\n",
       "      <td>61</td>\n",
       "      <td>15.0013</td>\n",
       "      <td>4</td>\n",
       "      <td>164</td>\n",
       "      <td>168</td>\n",
       "      <td>2012</td>\n",
       "      <td>12</td>\n",
       "      <td>19</td>\n",
       "      <td>21</td>\n",
       "    </tr>\n",
       "    <tr>\n",
       "      <th>10884</th>\n",
       "      <td>2012-12-19 22:00:00</td>\n",
       "      <td>4</td>\n",
       "      <td>0</td>\n",
       "      <td>1</td>\n",
       "      <td>1</td>\n",
       "      <td>13.94</td>\n",
       "      <td>17.425</td>\n",
       "      <td>61</td>\n",
       "      <td>6.0032</td>\n",
       "      <td>12</td>\n",
       "      <td>117</td>\n",
       "      <td>129</td>\n",
       "      <td>2012</td>\n",
       "      <td>12</td>\n",
       "      <td>19</td>\n",
       "      <td>22</td>\n",
       "    </tr>\n",
       "    <tr>\n",
       "      <th>10885</th>\n",
       "      <td>2012-12-19 23:00:00</td>\n",
       "      <td>4</td>\n",
       "      <td>0</td>\n",
       "      <td>1</td>\n",
       "      <td>1</td>\n",
       "      <td>13.12</td>\n",
       "      <td>16.665</td>\n",
       "      <td>66</td>\n",
       "      <td>8.9981</td>\n",
       "      <td>4</td>\n",
       "      <td>84</td>\n",
       "      <td>88</td>\n",
       "      <td>2012</td>\n",
       "      <td>12</td>\n",
       "      <td>19</td>\n",
       "      <td>23</td>\n",
       "    </tr>\n",
       "  </tbody>\n",
       "</table>\n",
       "</div>"
      ],
      "text/plain": [
       "                 datetime  season  holiday  workingday  weather   temp  \\\n",
       "10881 2012-12-19 19:00:00       4        0           1        1  15.58   \n",
       "10882 2012-12-19 20:00:00       4        0           1        1  14.76   \n",
       "10883 2012-12-19 21:00:00       4        0           1        1  13.94   \n",
       "10884 2012-12-19 22:00:00       4        0           1        1  13.94   \n",
       "10885 2012-12-19 23:00:00       4        0           1        1  13.12   \n",
       "\n",
       "        atemp  humidity  windspeed  casual  registered  count  year  month  \\\n",
       "10881  19.695        50    26.0027       7         329    336  2012     12   \n",
       "10882  17.425        57    15.0013      10         231    241  2012     12   \n",
       "10883  15.910        61    15.0013       4         164    168  2012     12   \n",
       "10884  17.425        61     6.0032      12         117    129  2012     12   \n",
       "10885  16.665        66     8.9981       4          84     88  2012     12   \n",
       "\n",
       "       day  hour  \n",
       "10881   19    19  \n",
       "10882   19    20  \n",
       "10883   19    21  \n",
       "10884   19    22  \n",
       "10885   19    23  "
      ]
     },
     "execution_count": 9,
     "metadata": {},
     "output_type": "execute_result"
    }
   ],
   "source": [
    "# bike_df의 하위 5개 데이터 조회\n",
    "bike_df.tail()"
   ]
  },
  {
   "cell_type": "code",
   "execution_count": 10,
   "metadata": {
    "id": "LIcdFwPwiov8"
   },
   "outputs": [
    {
     "name": "stdout",
     "output_type": "stream",
     "text": [
      "<class 'pandas.core.frame.DataFrame'>\n",
      "RangeIndex: 10886 entries, 0 to 10885\n",
      "Data columns (total 16 columns):\n",
      " #   Column      Non-Null Count  Dtype         \n",
      "---  ------      --------------  -----         \n",
      " 0   datetime    10886 non-null  datetime64[ns]\n",
      " 1   season      10886 non-null  int64         \n",
      " 2   holiday     10886 non-null  int64         \n",
      " 3   workingday  10886 non-null  int64         \n",
      " 4   weather     10886 non-null  int64         \n",
      " 5   temp        10886 non-null  float64       \n",
      " 6   atemp       10886 non-null  float64       \n",
      " 7   humidity    10886 non-null  int64         \n",
      " 8   windspeed   10886 non-null  float64       \n",
      " 9   casual      10886 non-null  int64         \n",
      " 10  registered  10886 non-null  int64         \n",
      " 11  count       10886 non-null  int64         \n",
      " 12  year        10886 non-null  int64         \n",
      " 13  month       10886 non-null  int64         \n",
      " 14  day         10886 non-null  int64         \n",
      " 15  hour        10886 non-null  int64         \n",
      "dtypes: datetime64[ns](1), float64(3), int64(12)\n",
      "memory usage: 1.3 MB\n"
     ]
    }
   ],
   "source": [
    "bike_df.info()"
   ]
  },
  {
   "cell_type": "code",
   "execution_count": 11,
   "metadata": {
    "id": "wpFVHIXaiov9"
   },
   "outputs": [],
   "source": [
    "# 불필요한 컬럼 삭제\n",
    "drop_columns = ['datetime', 'casual', 'registered'] # 삭제할 컬럼 목록\n",
    "bike_df = bike_df.drop(drop_columns, axis=1)\n",
    "# bike_df.drop(drop_columns, axis=1, inplace = True)"
   ]
  },
  {
   "cell_type": "code",
   "execution_count": 12,
   "metadata": {
    "id": "Oyo9Rjt4iov9"
   },
   "outputs": [
    {
     "data": {
      "text/html": [
       "<div>\n",
       "<style scoped>\n",
       "    .dataframe tbody tr th:only-of-type {\n",
       "        vertical-align: middle;\n",
       "    }\n",
       "\n",
       "    .dataframe tbody tr th {\n",
       "        vertical-align: top;\n",
       "    }\n",
       "\n",
       "    .dataframe thead th {\n",
       "        text-align: right;\n",
       "    }\n",
       "</style>\n",
       "<table border=\"1\" class=\"dataframe\">\n",
       "  <thead>\n",
       "    <tr style=\"text-align: right;\">\n",
       "      <th></th>\n",
       "      <th>season</th>\n",
       "      <th>holiday</th>\n",
       "      <th>workingday</th>\n",
       "      <th>weather</th>\n",
       "      <th>temp</th>\n",
       "      <th>atemp</th>\n",
       "      <th>humidity</th>\n",
       "      <th>windspeed</th>\n",
       "      <th>count</th>\n",
       "      <th>year</th>\n",
       "      <th>month</th>\n",
       "      <th>day</th>\n",
       "      <th>hour</th>\n",
       "    </tr>\n",
       "  </thead>\n",
       "  <tbody>\n",
       "    <tr>\n",
       "      <th>0</th>\n",
       "      <td>1</td>\n",
       "      <td>0</td>\n",
       "      <td>0</td>\n",
       "      <td>1</td>\n",
       "      <td>9.84</td>\n",
       "      <td>14.395</td>\n",
       "      <td>81</td>\n",
       "      <td>0.0</td>\n",
       "      <td>16</td>\n",
       "      <td>2011</td>\n",
       "      <td>1</td>\n",
       "      <td>1</td>\n",
       "      <td>0</td>\n",
       "    </tr>\n",
       "    <tr>\n",
       "      <th>1</th>\n",
       "      <td>1</td>\n",
       "      <td>0</td>\n",
       "      <td>0</td>\n",
       "      <td>1</td>\n",
       "      <td>9.02</td>\n",
       "      <td>13.635</td>\n",
       "      <td>80</td>\n",
       "      <td>0.0</td>\n",
       "      <td>40</td>\n",
       "      <td>2011</td>\n",
       "      <td>1</td>\n",
       "      <td>1</td>\n",
       "      <td>1</td>\n",
       "    </tr>\n",
       "    <tr>\n",
       "      <th>2</th>\n",
       "      <td>1</td>\n",
       "      <td>0</td>\n",
       "      <td>0</td>\n",
       "      <td>1</td>\n",
       "      <td>9.02</td>\n",
       "      <td>13.635</td>\n",
       "      <td>80</td>\n",
       "      <td>0.0</td>\n",
       "      <td>32</td>\n",
       "      <td>2011</td>\n",
       "      <td>1</td>\n",
       "      <td>1</td>\n",
       "      <td>2</td>\n",
       "    </tr>\n",
       "    <tr>\n",
       "      <th>3</th>\n",
       "      <td>1</td>\n",
       "      <td>0</td>\n",
       "      <td>0</td>\n",
       "      <td>1</td>\n",
       "      <td>9.84</td>\n",
       "      <td>14.395</td>\n",
       "      <td>75</td>\n",
       "      <td>0.0</td>\n",
       "      <td>13</td>\n",
       "      <td>2011</td>\n",
       "      <td>1</td>\n",
       "      <td>1</td>\n",
       "      <td>3</td>\n",
       "    </tr>\n",
       "    <tr>\n",
       "      <th>4</th>\n",
       "      <td>1</td>\n",
       "      <td>0</td>\n",
       "      <td>0</td>\n",
       "      <td>1</td>\n",
       "      <td>9.84</td>\n",
       "      <td>14.395</td>\n",
       "      <td>75</td>\n",
       "      <td>0.0</td>\n",
       "      <td>1</td>\n",
       "      <td>2011</td>\n",
       "      <td>1</td>\n",
       "      <td>1</td>\n",
       "      <td>4</td>\n",
       "    </tr>\n",
       "  </tbody>\n",
       "</table>\n",
       "</div>"
      ],
      "text/plain": [
       "   season  holiday  workingday  weather  temp   atemp  humidity  windspeed  \\\n",
       "0       1        0           0        1  9.84  14.395        81        0.0   \n",
       "1       1        0           0        1  9.02  13.635        80        0.0   \n",
       "2       1        0           0        1  9.02  13.635        80        0.0   \n",
       "3       1        0           0        1  9.84  14.395        75        0.0   \n",
       "4       1        0           0        1  9.84  14.395        75        0.0   \n",
       "\n",
       "   count  year  month  day  hour  \n",
       "0     16  2011      1    1     0  \n",
       "1     40  2011      1    1     1  \n",
       "2     32  2011      1    1     2  \n",
       "3     13  2011      1    1     3  \n",
       "4      1  2011      1    1     4  "
      ]
     },
     "execution_count": 12,
     "metadata": {},
     "output_type": "execute_result"
    }
   ],
   "source": [
    "bike_df.head()"
   ]
  },
  {
   "cell_type": "markdown",
   "metadata": {
    "id": "BWttXpDEiov9"
   },
   "source": [
    "### 탐색적 데이터분석(EDA) 및 시각화"
   ]
  },
  {
   "cell_type": "markdown",
   "metadata": {
    "id": "izEfPCewiov9"
   },
   "source": [
    "-  한글폰트 설정\n",
    "  - [나눔고딕 설치 링크](https://hangeul.naver.com/font) "
   ]
  },
  {
   "cell_type": "code",
   "execution_count": 13,
   "metadata": {
    "id": "A8b1G-QMiov9"
   },
   "outputs": [],
   "source": [
    "plt.rc('font', family='Malgun Gothic')  # Malgun Gothic(windows) / AppleGothic(mac os)\n",
    "plt.rcParams['figure.figsize'] = (5, 3)\n",
    "plt.rc('axes', unicode_minus=False)"
   ]
  },
  {
   "cell_type": "code",
   "execution_count": 14,
   "metadata": {
    "id": "bQV_AP0XotOb"
   },
   "outputs": [
    {
     "data": {
      "image/png": "[encoded data removed]",
      "text/plain": [
       "<Figure size 720x576 with 4 Axes>"
      ]
     },
     "metadata": {
      "needs_background": "light"
     },
     "output_type": "display_data"
    }
   ],
   "source": [
    "# 기상정보(temp, atemp, humidity, windspeed)의 분포를 히스토그램으로 확인\n",
    "\n",
    "fig, axes = plt.subplots(2, 2, figsize=(10, 8))\n",
    "\n",
    "# temp\n",
    "sns.histplot(data=bike_df, x='temp', bins=30, ax=axes[0,0]) # axes[0][0]\n",
    "\n",
    "# atemp\n",
    "sns.histplot(data=bike_df, x='atemp', bins=30, ax=axes[0,1]) # axes[0][1]\n",
    "\n",
    "# humidity\n",
    "sns.histplot(data=bike_df, x='humidity', bins=30, ax=axes[1,0]) # axes[1][0]\n",
    "\n",
    "# windspeed\n",
    "sns.histplot(data=bike_df, x='windspeed', bins=30, ax=axes[1,1]) # axes[1][1]\n",
    "\n",
    "fig.subplots_adjust(wspace=0.25, hspace=0.3)\n",
    "# width space, height space: 여러 개의 그래프를 그릴 경우 좌우 간격, 위아래 간격 설정\n",
    "\n",
    "# 머신러닝 학습 전에 미리 가지고 있는 데이터를 확인하는 작업 필요\n",
    "# 데이터가 어떤 식으로 분포하는지, 이상치는 없는지 등"
   ]
  },
  {
   "cell_type": "markdown",
   "metadata": {
    "id": "2FdSC7ZVw83s"
   },
   "source": [
    "#### 박스 플롯(Box plot)\n",
    "- 5가지 요약수치 : 최솟값, 제1사분위수, 제2사분위수, 제3사분위수, 최댓값\n",
    " - 제1사분위수(Q1) : 전체 데이터 중 하위 25%에 해당하는 값\n",
    " - 제2사분위수(Q2) : 50%에 해당하는 값(중앙값)\n",
    " - 제3사분위수(Q3) : 상위 25%에 해당하는 값\n",
    "- 사분위 범위수(IQR) : Q3 - Q1\n",
    "- 최댓값 : Q3 + (1.5 * IQR)\n",
    "- 최솟값 : Q3 - (1.5 * IQR)\n",
    "- 이상치 : 최대값보다 큰 값과 최솟값보다 작은 값"
   ]
  },
  {
   "cell_type": "code",
   "execution_count": 15,
   "metadata": {
    "colab": {
     "base_uri": "https://localhost:8080/",
     "height": 296
    },
    "executionInfo": {
     "elapsed": 984,
     "status": "ok",
     "timestamp": 1656073368375,
     "user": {
      "displayName": "HI Lee",
      "userId": "04262798284985525111"
     },
     "user_tz": -540
    },
    "id": "IHHJ2QoHpeVZ",
    "outputId": "d974a222-d298-4b0d-b3e2-3d47784fb936"
   },
   "outputs": [
    {
     "data": {
      "image/png": "[encoded data removed]",
      "text/plain": [
       "<Figure size 576x288 with 2 Axes>"
      ]
     },
     "metadata": {
      "needs_background": "light"
     },
     "output_type": "display_data"
    }
   ],
   "source": [
    "# 계절(season)과 날씨(weather)에 따른 자전거 대여량(count)을 boxplot으로 확인\n",
    "\n",
    "fig, axes = plt.subplots(1, 2, figsize=(8, 4))\n",
    "\n",
    "# season\n",
    "sns.boxplot(data=bike_df, x='season', y='count', ax=axes[0]) # axes[0]: 행이 1개이므로 1차원 형식\n",
    "\n",
    "# weather\n",
    "sns.boxplot(data=bike_df, x='weather', y='count', ax=axes[1])\n",
    "\n",
    "axes[0].set(xticklabels=['봄', '여름', '가을', '겨울'])\n",
    "axes[1].set(xticklabels=['맑음', '흐림', '가벼운 눈/비', '심한 눈/비'])\n",
    "axes[1].tick_params(axis='x', rotation=30)\n",
    "\n",
    "fig.subplots_adjust(wspace=0.4)"
   ]
  },
  {
   "cell_type": "code",
   "execution_count": 16,
   "metadata": {
    "id": "tYwD2yvaqs1Z"
   },
   "outputs": [
    {
     "data": {
      "text/plain": [
       "<AxesSubplot:xlabel='month', ylabel='count'>"
      ]
     },
     "execution_count": 16,
     "metadata": {},
     "output_type": "execute_result"
    },
    {
     "data": {
      "image/png": "[encoded data removed]",
      "text/plain": [
       "<Figure size 720x288 with 1 Axes>"
      ]
     },
     "metadata": {
      "needs_background": "light"
     },
     "output_type": "display_data"
    }
   ],
   "source": [
    "# 월별 대여량을 barplot으로 확인\n",
    "\n",
    "fig, axes = plt.subplots(figsize=(10, 4))\n",
    "# 그래프가 1개인 경우 subplots를 사용하지 않아도 되지만 습관적으로 해주면 편함\n",
    "\n",
    "# barplot 출력\n",
    "sns.barplot(data=bike_df, x='month', y='count', ci=None)"
   ]
  },
  {
   "cell_type": "code",
   "execution_count": 17,
   "metadata": {
    "colab": {
     "base_uri": "https://localhost:8080/",
     "height": 370
    },
    "executionInfo": {
     "elapsed": 5994,
     "status": "ok",
     "timestamp": 1656073548095,
     "user": {
      "displayName": "HI Lee",
      "userId": "04262798284985525111"
     },
     "user_tz": -540
    },
    "id": "dxoMkOO6rETB",
    "outputId": "08c07172-4f0a-4511-a8e3-899d57a540bc"
   },
   "outputs": [
    {
     "data": {
      "image/png": "[encoded data removed]",
      "text/plain": [
       "<Figure size 1080x360 with 1 Axes>"
      ]
     },
     "metadata": {
      "needs_background": "light"
     },
     "output_type": "display_data"
    }
   ],
   "source": [
    "# 계절별, 시간별 대여량을 pointplot으로 확인\n",
    "\n",
    "fig, ax = plt.subplots(figsize=(15, 5))\n",
    "\n",
    "# 시간별 대여량을 계절(season)로 색상을 구분하여 출력\n",
    "g = sns.pointplot(data=bike_df, x='hour', y='count', hue='season')\n",
    "\n",
    "plt.title('계절별 시간별 대여량', fontsize=15)\n",
    "\n",
    "# 범례 텍스트 변경: seaborn의 범례 편집 방식(matplotlib에서는 더 간단한 방법 사용)\n",
    "g.legend_.texts[0].set_text('봄')\n",
    "g.legend_.texts[1].set_text('여름')\n",
    "g.legend_.texts[2].set_text('가을')\n",
    "g.legend_.texts[3].set_text('겨울')"
   ]
  },
  {
   "cell_type": "markdown",
   "metadata": {
    "id": "_go4T_VMrcEa"
   },
   "source": [
    "## 모델링"
   ]
  },
  {
   "cell_type": "markdown",
   "metadata": {
    "id": "b9OXUOOXiov_"
   },
   "source": [
    "- Evaluation  함수\n",
    "  - RMSLE(Root Mean Squared Logarithmic Error)  \n",
    "\n",
    "$\\sqrt{(\\frac{1}{n})\\sum_{i=1}^{n}(log(y_{i}) - log(x_{i}))^{2}}$"
   ]
  },
  {
   "cell_type": "code",
   "execution_count": 18,
   "metadata": {
    "id": "qGGjAp9Piov_"
   },
   "outputs": [],
   "source": [
    "from sklearn.metrics import mean_squared_error, mean_absolute_error\n",
    "\n",
    "# 실데이터와 예측값의 RMSLE를 반환하는 함수\n",
    "def rmsle(y, pred):\n",
    "    log_y = np.log1p(y) # 실데이터 로그 변환: log(y)\n",
    "    log_pred = np.log1p(pred) # 예측값 로그 변환: log(x)\n",
    "    squared_error = (log_y - log_pred) ** 2\n",
    "    rmsle = np.sqrt(np.mean(squared_error)) # 최소제곱합의 평균에 루트를 씌우는 과정\n",
    "    return rmsle\n",
    "\n",
    "\n",
    "# 로그 변환의 목적:\n",
    "# 큰 값을 같은 비율의 작은 값으로 변환하여 복잡한 계산을 간단하게 하고,\n",
    "# 불균형한(한 쪽에 밀집된) 데이터를 고르게 분포하도록 하여 정규성을 높이고 의미있는 결과를 도출\n",
    "\n",
    "# 로그 변환 시 log()가 아닌 log1p()를 사용하는 이유(log1p(x) = log(x+1)):\n",
    "# 로그 함수는 (0, 1)의 x 구간, (-∞, 0)의 y 구간을 가지기 때문에,\n",
    "# x가 0에 가까워지면(x = 0) y가 -inf(음의 무한대) 값을 반환\n",
    "# 이를 방지하고자 x값에 1을 더하여 음의 무한대인 y값을 0으로 변환"
   ]
  },
  {
   "cell_type": "code",
   "execution_count": 19,
   "metadata": {
    "id": "D6syfx0f3R9P"
   },
   "outputs": [],
   "source": [
    "# 학습과 예측에 사용된 모델의 성능을 그래프로 시각화하여 확인하기 위한 함수 생성\n",
    "\n",
    "import matplotlib.pyplot as plt\n",
    "import seaborn as sns\n",
    "from sklearn.metrics import mean_squared_error\n",
    "\n",
    "\n",
    "# 무작위로 그래프 색상을 선택하기 위한 색상 list\n",
    "colors = ['b','g','r', 'c', 'm', 'y', 'k', \n",
    "          'lightcoral', 'mistyrose', 'tomato', 'darkred', 'sienna',\n",
    "          'forestgreen', 'royalblue', 'orange', 'lemonchiffon','skyblue',\n",
    "          'chocolate', 'greenyellow','lime','aqua','lightpink','lightgreen',\n",
    "          'gold', 'seagreen', 'deepskyblue', 'steelblue', 'slategray']\n",
    "\n",
    "\n",
    "# 1) plot_pred_actual()\n",
    "# 실제값과 예측값을 scatter plot으로 보여주는 함수\n",
    "# 실제값은 'x'로, 예측값은 'o'로 표시하여 어느정도 차이를 보이는지 확인\n",
    "\n",
    "def plot_pred_actual(pred, actual):\n",
    "    \n",
    "    df = pd.DataFrame({'prediction':pred, 'actual':y_test})\n",
    "    df = df.sort_values(by='actual').reset_index(drop=True)\n",
    "\n",
    "    plt.figure(figsize=(8, 6))\n",
    "    plt.scatter(df.index, df['prediction'], marker='x', color='r')\n",
    "    plt.scatter(df.index, df['actual'], alpha=0.5, marker='o', color='b')\n",
    "    plt.title('Linear Regression', fontsize=15)\n",
    "    plt.legend(['prediction', 'actual'], fontsize=12)\n",
    "\n",
    "\n",
    "# 2) add_rmslevalue()\n",
    "# 학습/예측을 실행한 모델명을 key로, 예측값과 실데이터의 RMSLE를 value로 predictions에 저장\n",
    "# predictions에 모델명이 없으면 추가, 이미 존재하면 수정\n",
    "\n",
    "predictions = {} # 알고리즘의 이름과 RMSLE를 저장할 dictionary\n",
    "\n",
    "def add_rmslevalue(model_name, pred, actual):\n",
    "    \n",
    "    global predictions\n",
    "\n",
    "    value = rmsle(actual, pred) # 실제값과 예측값의 RMSLE\n",
    "    predictions[model_name] = value # predictions에 모델 이름과 해당 모델의 RMSLE를 저장\n",
    "\n",
    "\n",
    "# 3) rmsle_graph()\n",
    "# predictions에 저장된 모델명과 RMSLE를 그래프(barh)로 나타내는 함수\n",
    "\n",
    "def rmsle_graph():\n",
    "\n",
    "    global predictions\n",
    "    global colors\n",
    "\n",
    "    eval_value = sorted(predictions.items(), key=lambda x: x[1], reverse=True)\n",
    "    \n",
    "    df = pd.DataFrame(eval_value, columns=['model', 'rmsle'])\n",
    "    print(df)\n",
    "    min_tick = df['rmsle'].min() - 5\n",
    "    max_tick = df['rmsle'].max() + 5\n",
    "    \n",
    "    fig, axes = plt.subplots(figsize=(10, len(df)))\n",
    "    axes.set_yticks(np.arange(len(df)))\n",
    "    axes.set_yticklabels(df['model'], fontsize=15)\n",
    "    bars = axes.barh(np.arange(len(df)), df['rmsle'])\n",
    "    \n",
    "    for i, v in enumerate(df['rmsle']):\n",
    "        idx = np.random.choice(len(colors)) # 그래프 색상은 colors에서 랜덤 지정\n",
    "        bars[i].set_color(colors[idx])\n",
    "        axes.text(v + 1, i, str(round(v, 3)), color='k', fontsize=15, fontweight='bold')\n",
    "        \n",
    "    plt.title('RMSLE ', fontsize=15)\n",
    "    plt.xlim(0, max_tick)"
   ]
  },
  {
   "cell_type": "markdown",
   "metadata": {
    "id": "VSSGKWv-tW4Y"
   },
   "source": [
    "### 데이터 분할"
   ]
  },
  {
   "cell_type": "code",
   "execution_count": 20,
   "metadata": {
    "id": "mgqX4nYNiov_"
   },
   "outputs": [],
   "source": [
    "from sklearn.model_selection import train_test_split\n",
    "\n",
    "# feature, target 분리\n",
    "# target: count 컬럼을 y_target에 저장\n",
    "y_target = bike_df['count']\n",
    "\n",
    "# feature: count를 제외한 나머지 컬럼을 x_features에 저장\n",
    "x_features = bike_df.drop(['count'], axis=1)\n",
    "\n",
    "# 학습/테스트 데이터 분할(test_size 30%)\n",
    "x_train, x_test, y_train, y_test = train_test_split(x_features, y_target,\n",
    "                                                   test_size=0.3, random_state=0)"
   ]
  },
  {
   "cell_type": "markdown",
   "metadata": {
    "id": "SNA99psMty5V"
   },
   "source": [
    "### 모델 훈련: Linear Regression"
   ]
  },
  {
   "cell_type": "code",
   "execution_count": 21,
   "metadata": {
    "id": "UwWAyQTdiov_"
   },
   "outputs": [
    {
     "name": "stdout",
     "output_type": "stream",
     "text": [
      "RMSLE: 1.165\n",
      "RMSE: 140.900\n"
     ]
    }
   ],
   "source": [
    "from sklearn.linear_model import LinearRegression \n",
    "from sklearn.metrics import mean_squared_error\n",
    "\n",
    "# LinearRegression 객체 생성\n",
    "lr_reg = LinearRegression()\n",
    "\n",
    "# 모델 학습\n",
    "lr_reg.fit(x_train, y_train)\n",
    "\n",
    "# 예측값 생성\n",
    "pred = lr_reg.predict(x_test) \n",
    "\n",
    "rmsle_val = rmsle(y_test, pred)\n",
    "rmse_val = np.sqrt(mean_squared_error(y_test, pred)) # MSE에 루트를 씌워 RMSE 반환\n",
    "\n",
    "print(f'RMSLE: {rmsle_val:.3f}')\n",
    "print(f'RMSE: {rmse_val:.3f}')"
   ]
  },
  {
   "cell_type": "code",
   "execution_count": 22,
   "metadata": {
    "id": "mPEgQQA14Noc"
   },
   "outputs": [
    {
     "name": "stdout",
     "output_type": "stream",
     "text": [
      "  model     rmsle\n",
      "0    LR  1.164664\n"
     ]
    },
    {
     "data": {
      "image/png": "[encoded data removed]",
      "text/plain": [
       "<Figure size 720x72 with 1 Axes>"
      ]
     },
     "metadata": {
      "needs_background": "light"
     },
     "output_type": "display_data"
    }
   ],
   "source": [
    "# 모델의 성능(RMSLE) 시각화\n",
    "add_rmslevalue('LR', pred, y_test)\n",
    "rmsle_graph()"
   ]
  },
  {
   "cell_type": "code",
   "execution_count": 23,
   "metadata": {
    "colab": {
     "base_uri": "https://localhost:8080/"
    },
    "executionInfo": {
     "elapsed": 5,
     "status": "ok",
     "timestamp": 1656078992056,
     "user": {
      "displayName": "HI Lee",
      "userId": "04262798284985525111"
     },
     "user_tz": -540
    },
    "id": "lz38i2-jiowA",
    "outputId": "53c56c00-2cfe-4012-a4c7-c4c468d86bb5"
   },
   "outputs": [
    {
     "data": {
      "text/html": [
       "<div>\n",
       "<style scoped>\n",
       "    .dataframe tbody tr th:only-of-type {\n",
       "        vertical-align: middle;\n",
       "    }\n",
       "\n",
       "    .dataframe tbody tr th {\n",
       "        vertical-align: top;\n",
       "    }\n",
       "\n",
       "    .dataframe thead th {\n",
       "        text-align: right;\n",
       "    }\n",
       "</style>\n",
       "<table border=\"1\" class=\"dataframe\">\n",
       "  <thead>\n",
       "    <tr style=\"text-align: right;\">\n",
       "      <th></th>\n",
       "      <th>real_count</th>\n",
       "      <th>predicted_count</th>\n",
       "      <th>diff</th>\n",
       "    </tr>\n",
       "  </thead>\n",
       "  <tbody>\n",
       "    <tr>\n",
       "      <th>1618</th>\n",
       "      <td>890</td>\n",
       "      <td>322.0</td>\n",
       "      <td>568.0</td>\n",
       "    </tr>\n",
       "    <tr>\n",
       "      <th>3151</th>\n",
       "      <td>798</td>\n",
       "      <td>241.0</td>\n",
       "      <td>557.0</td>\n",
       "    </tr>\n",
       "    <tr>\n",
       "      <th>966</th>\n",
       "      <td>884</td>\n",
       "      <td>327.0</td>\n",
       "      <td>557.0</td>\n",
       "    </tr>\n",
       "    <tr>\n",
       "      <th>412</th>\n",
       "      <td>745</td>\n",
       "      <td>194.0</td>\n",
       "      <td>551.0</td>\n",
       "    </tr>\n",
       "    <tr>\n",
       "      <th>2817</th>\n",
       "      <td>856</td>\n",
       "      <td>310.0</td>\n",
       "      <td>546.0</td>\n",
       "    </tr>\n",
       "    <tr>\n",
       "      <th>2277</th>\n",
       "      <td>813</td>\n",
       "      <td>267.0</td>\n",
       "      <td>546.0</td>\n",
       "    </tr>\n",
       "    <tr>\n",
       "      <th>2314</th>\n",
       "      <td>766</td>\n",
       "      <td>222.0</td>\n",
       "      <td>544.0</td>\n",
       "    </tr>\n",
       "    <tr>\n",
       "      <th>454</th>\n",
       "      <td>721</td>\n",
       "      <td>177.0</td>\n",
       "      <td>544.0</td>\n",
       "    </tr>\n",
       "    <tr>\n",
       "      <th>1003</th>\n",
       "      <td>713</td>\n",
       "      <td>171.0</td>\n",
       "      <td>542.0</td>\n",
       "    </tr>\n",
       "    <tr>\n",
       "      <th>2394</th>\n",
       "      <td>684</td>\n",
       "      <td>142.0</td>\n",
       "      <td>542.0</td>\n",
       "    </tr>\n",
       "    <tr>\n",
       "      <th>1181</th>\n",
       "      <td>891</td>\n",
       "      <td>357.0</td>\n",
       "      <td>534.0</td>\n",
       "    </tr>\n",
       "    <tr>\n",
       "      <th>1379</th>\n",
       "      <td>745</td>\n",
       "      <td>212.0</td>\n",
       "      <td>533.0</td>\n",
       "    </tr>\n",
       "    <tr>\n",
       "      <th>2003</th>\n",
       "      <td>770</td>\n",
       "      <td>241.0</td>\n",
       "      <td>529.0</td>\n",
       "    </tr>\n",
       "    <tr>\n",
       "      <th>1029</th>\n",
       "      <td>901</td>\n",
       "      <td>378.0</td>\n",
       "      <td>523.0</td>\n",
       "    </tr>\n",
       "    <tr>\n",
       "      <th>3227</th>\n",
       "      <td>724</td>\n",
       "      <td>202.0</td>\n",
       "      <td>522.0</td>\n",
       "    </tr>\n",
       "    <tr>\n",
       "      <th>1038</th>\n",
       "      <td>873</td>\n",
       "      <td>353.0</td>\n",
       "      <td>520.0</td>\n",
       "    </tr>\n",
       "    <tr>\n",
       "      <th>3197</th>\n",
       "      <td>694</td>\n",
       "      <td>176.0</td>\n",
       "      <td>518.0</td>\n",
       "    </tr>\n",
       "    <tr>\n",
       "      <th>507</th>\n",
       "      <td>688</td>\n",
       "      <td>174.0</td>\n",
       "      <td>514.0</td>\n",
       "    </tr>\n",
       "    <tr>\n",
       "      <th>637</th>\n",
       "      <td>900</td>\n",
       "      <td>393.0</td>\n",
       "      <td>507.0</td>\n",
       "    </tr>\n",
       "    <tr>\n",
       "      <th>87</th>\n",
       "      <td>594</td>\n",
       "      <td>95.0</td>\n",
       "      <td>499.0</td>\n",
       "    </tr>\n",
       "  </tbody>\n",
       "</table>\n",
       "</div>"
      ],
      "text/plain": [
       "      real_count  predicted_count   diff\n",
       "1618         890            322.0  568.0\n",
       "3151         798            241.0  557.0\n",
       "966          884            327.0  557.0\n",
       "412          745            194.0  551.0\n",
       "2817         856            310.0  546.0\n",
       "2277         813            267.0  546.0\n",
       "2314         766            222.0  544.0\n",
       "454          721            177.0  544.0\n",
       "1003         713            171.0  542.0\n",
       "2394         684            142.0  542.0\n",
       "1181         891            357.0  534.0\n",
       "1379         745            212.0  533.0\n",
       "2003         770            241.0  529.0\n",
       "1029         901            378.0  523.0\n",
       "3227         724            202.0  522.0\n",
       "1038         873            353.0  520.0\n",
       "3197         694            176.0  518.0\n",
       "507          688            174.0  514.0\n",
       "637          900            393.0  507.0\n",
       "87           594             95.0  499.0"
      ]
     },
     "execution_count": 23,
     "metadata": {},
     "output_type": "execute_result"
    }
   ],
   "source": [
    "# 앞서 측정한 모델의 성능값만을 가지고 예측을 얼마나 잘했는지 판단할 수 없음\n",
    "# 다른 모델과 성능을 비교하거나 실제 데이터를 직접 살펴보며 예측값과 비교해볼 필요가 있음\n",
    "\n",
    "# 실제 대여횟수(count)와 예측값을 비교하는 데이터프레임 생성\n",
    "result_df = pd.DataFrame(y_test.values, columns=['real_count']) # 실제 대여횟수 'real_count'\n",
    "result_df['predicted_count']= np.round(pred) # 대여횟수 예측값 'predicted_count'\n",
    "result_df['diff'] = np.abs(result_df['real_count'] - result_df['predicted_count'])\n",
    "# 예측값과 실제값의 차이 'diff'\n",
    "\n",
    "# 예측값과 실제값의 차이가 가장 큰 데이터부터 내림차순 출력\n",
    "result_df.sort_values('diff', ascending=False)[:20]\n",
    "\n",
    "# diff 값이 큰 데이터부터 출력한 결과 실제값과 예측값의 차이가 지나치게 크게 나옴\n",
    "# 정답 데이터와 예측값의 차이가 클 때 아래 두 가지 작업을 시도:\n",
    "# 1) 데이터 표준화\n",
    "# 2) 로그 변환"
   ]
  },
  {
   "cell_type": "markdown",
   "metadata": {
    "id": "RnCl0Hfw1DpS"
   },
   "source": [
    "### 데이터 표준화"
   ]
  },
  {
   "cell_type": "code",
   "execution_count": 24,
   "metadata": {
    "colab": {
     "base_uri": "https://localhost:8080/"
    },
    "executionInfo": {
     "elapsed": 275,
     "status": "ok",
     "timestamp": 1656076213885,
     "user": {
      "displayName": "HI Lee",
      "userId": "04262798284985525111"
     },
     "user_tz": -540
    },
    "id": "04WK6SVE1Wyx",
    "outputId": "4fa28a2b-2a85-4351-cd03-9349ca2ceb1c"
   },
   "outputs": [
    {
     "data": {
      "text/plain": [
       "Index(['season', 'holiday', 'workingday', 'weather', 'temp', 'atemp',\n",
       "       'humidity', 'windspeed', 'count', 'year', 'month', 'day', 'hour'],\n",
       "      dtype='object')"
      ]
     },
     "execution_count": 24,
     "metadata": {},
     "output_type": "execute_result"
    }
   ],
   "source": [
    "bike_df.columns"
   ]
  },
  {
   "cell_type": "code",
   "execution_count": 25,
   "metadata": {
    "id": "VKv1ciT412l5"
   },
   "outputs": [],
   "source": [
    "data_scaled = pd.DataFrame() # 표준화된 값을 담기 위한 빈 데이터프레임 생성"
   ]
  },
  {
   "cell_type": "code",
   "execution_count": 26,
   "metadata": {
    "id": "Ku7CYILf1HKi"
   },
   "outputs": [],
   "source": [
    "from sklearn.preprocessing import StandardScaler\n",
    "\n",
    "scaler = StandardScaler() # 스케일러 객체 생성\n",
    "\n",
    "# bike_df.columns -> bike_df의 모든 컬럼에 대한 스케일링 작업 실행\n",
    "data_scaled[bike_df.columns] = scaler.fit_transform(bike_df[bike_df.columns])"
   ]
  },
  {
   "cell_type": "code",
   "execution_count": 27,
   "metadata": {
    "id": "iYHB49EF1g7h"
   },
   "outputs": [
    {
     "data": {
      "text/html": [
       "<div>\n",
       "<style scoped>\n",
       "    .dataframe tbody tr th:only-of-type {\n",
       "        vertical-align: middle;\n",
       "    }\n",
       "\n",
       "    .dataframe tbody tr th {\n",
       "        vertical-align: top;\n",
       "    }\n",
       "\n",
       "    .dataframe thead th {\n",
       "        text-align: right;\n",
       "    }\n",
       "</style>\n",
       "<table border=\"1\" class=\"dataframe\">\n",
       "  <thead>\n",
       "    <tr style=\"text-align: right;\">\n",
       "      <th></th>\n",
       "      <th>season</th>\n",
       "      <th>holiday</th>\n",
       "      <th>workingday</th>\n",
       "      <th>weather</th>\n",
       "      <th>temp</th>\n",
       "      <th>atemp</th>\n",
       "      <th>humidity</th>\n",
       "      <th>windspeed</th>\n",
       "      <th>count</th>\n",
       "      <th>year</th>\n",
       "      <th>month</th>\n",
       "      <th>day</th>\n",
       "      <th>hour</th>\n",
       "    </tr>\n",
       "  </thead>\n",
       "  <tbody>\n",
       "    <tr>\n",
       "      <th>0</th>\n",
       "      <td>-1.349864</td>\n",
       "      <td>-0.17149</td>\n",
       "      <td>-1.460672</td>\n",
       "      <td>-0.660178</td>\n",
       "      <td>-1.333661</td>\n",
       "      <td>-1.092737</td>\n",
       "      <td>0.993213</td>\n",
       "      <td>-1.567754</td>\n",
       "      <td>-0.969294</td>\n",
       "      <td>-1.003866</td>\n",
       "      <td>-1.603121</td>\n",
       "      <td>-1.642070</td>\n",
       "      <td>-1.668944</td>\n",
       "    </tr>\n",
       "    <tr>\n",
       "      <th>1</th>\n",
       "      <td>-1.349864</td>\n",
       "      <td>-0.17149</td>\n",
       "      <td>-1.460672</td>\n",
       "      <td>-0.660178</td>\n",
       "      <td>-1.438907</td>\n",
       "      <td>-1.182421</td>\n",
       "      <td>0.941249</td>\n",
       "      <td>-1.567754</td>\n",
       "      <td>-0.836797</td>\n",
       "      <td>-1.003866</td>\n",
       "      <td>-1.603121</td>\n",
       "      <td>-1.642070</td>\n",
       "      <td>-1.524341</td>\n",
       "    </tr>\n",
       "    <tr>\n",
       "      <th>2</th>\n",
       "      <td>-1.349864</td>\n",
       "      <td>-0.17149</td>\n",
       "      <td>-1.460672</td>\n",
       "      <td>-0.660178</td>\n",
       "      <td>-1.438907</td>\n",
       "      <td>-1.182421</td>\n",
       "      <td>0.941249</td>\n",
       "      <td>-1.567754</td>\n",
       "      <td>-0.880962</td>\n",
       "      <td>-1.003866</td>\n",
       "      <td>-1.603121</td>\n",
       "      <td>-1.642070</td>\n",
       "      <td>-1.379739</td>\n",
       "    </tr>\n",
       "    <tr>\n",
       "      <th>3</th>\n",
       "      <td>-1.349864</td>\n",
       "      <td>-0.17149</td>\n",
       "      <td>-1.460672</td>\n",
       "      <td>-0.660178</td>\n",
       "      <td>-1.333661</td>\n",
       "      <td>-1.092737</td>\n",
       "      <td>0.681430</td>\n",
       "      <td>-1.567754</td>\n",
       "      <td>-0.985856</td>\n",
       "      <td>-1.003866</td>\n",
       "      <td>-1.603121</td>\n",
       "      <td>-1.642070</td>\n",
       "      <td>-1.235137</td>\n",
       "    </tr>\n",
       "    <tr>\n",
       "      <th>4</th>\n",
       "      <td>-1.349864</td>\n",
       "      <td>-0.17149</td>\n",
       "      <td>-1.460672</td>\n",
       "      <td>-0.660178</td>\n",
       "      <td>-1.333661</td>\n",
       "      <td>-1.092737</td>\n",
       "      <td>0.681430</td>\n",
       "      <td>-1.567754</td>\n",
       "      <td>-1.052104</td>\n",
       "      <td>-1.003866</td>\n",
       "      <td>-1.603121</td>\n",
       "      <td>-1.642070</td>\n",
       "      <td>-1.090534</td>\n",
       "    </tr>\n",
       "    <tr>\n",
       "      <th>...</th>\n",
       "      <td>...</td>\n",
       "      <td>...</td>\n",
       "      <td>...</td>\n",
       "      <td>...</td>\n",
       "      <td>...</td>\n",
       "      <td>...</td>\n",
       "      <td>...</td>\n",
       "      <td>...</td>\n",
       "      <td>...</td>\n",
       "      <td>...</td>\n",
       "      <td>...</td>\n",
       "      <td>...</td>\n",
       "      <td>...</td>\n",
       "    </tr>\n",
       "    <tr>\n",
       "      <th>10881</th>\n",
       "      <td>1.338012</td>\n",
       "      <td>-0.17149</td>\n",
       "      <td>0.684616</td>\n",
       "      <td>-0.660178</td>\n",
       "      <td>-0.596935</td>\n",
       "      <td>-0.467310</td>\n",
       "      <td>-0.617666</td>\n",
       "      <td>1.617227</td>\n",
       "      <td>0.797333</td>\n",
       "      <td>0.996149</td>\n",
       "      <td>1.590639</td>\n",
       "      <td>1.644787</td>\n",
       "      <td>1.078500</td>\n",
       "    </tr>\n",
       "    <tr>\n",
       "      <th>10882</th>\n",
       "      <td>1.338012</td>\n",
       "      <td>-0.17149</td>\n",
       "      <td>0.684616</td>\n",
       "      <td>-0.660178</td>\n",
       "      <td>-0.702182</td>\n",
       "      <td>-0.735182</td>\n",
       "      <td>-0.253919</td>\n",
       "      <td>0.269704</td>\n",
       "      <td>0.272866</td>\n",
       "      <td>0.996149</td>\n",
       "      <td>1.590639</td>\n",
       "      <td>1.644787</td>\n",
       "      <td>1.223102</td>\n",
       "    </tr>\n",
       "    <tr>\n",
       "      <th>10883</th>\n",
       "      <td>1.338012</td>\n",
       "      <td>-0.17149</td>\n",
       "      <td>0.684616</td>\n",
       "      <td>-0.660178</td>\n",
       "      <td>-0.807428</td>\n",
       "      <td>-0.913959</td>\n",
       "      <td>-0.046064</td>\n",
       "      <td>0.269704</td>\n",
       "      <td>-0.130146</td>\n",
       "      <td>0.996149</td>\n",
       "      <td>1.590639</td>\n",
       "      <td>1.644787</td>\n",
       "      <td>1.367704</td>\n",
       "    </tr>\n",
       "    <tr>\n",
       "      <th>10884</th>\n",
       "      <td>1.338012</td>\n",
       "      <td>-0.17149</td>\n",
       "      <td>0.684616</td>\n",
       "      <td>-0.660178</td>\n",
       "      <td>-0.807428</td>\n",
       "      <td>-0.735182</td>\n",
       "      <td>-0.046064</td>\n",
       "      <td>-0.832442</td>\n",
       "      <td>-0.345454</td>\n",
       "      <td>0.996149</td>\n",
       "      <td>1.590639</td>\n",
       "      <td>1.644787</td>\n",
       "      <td>1.512307</td>\n",
       "    </tr>\n",
       "    <tr>\n",
       "      <th>10885</th>\n",
       "      <td>1.338012</td>\n",
       "      <td>-0.17149</td>\n",
       "      <td>0.684616</td>\n",
       "      <td>-0.660178</td>\n",
       "      <td>-0.912675</td>\n",
       "      <td>-0.824865</td>\n",
       "      <td>0.213755</td>\n",
       "      <td>-0.465608</td>\n",
       "      <td>-0.571803</td>\n",
       "      <td>0.996149</td>\n",
       "      <td>1.590639</td>\n",
       "      <td>1.644787</td>\n",
       "      <td>1.656909</td>\n",
       "    </tr>\n",
       "  </tbody>\n",
       "</table>\n",
       "<p>10886 rows × 13 columns</p>\n",
       "</div>"
      ],
      "text/plain": [
       "         season  holiday  workingday   weather      temp     atemp  humidity  \\\n",
       "0     -1.349864 -0.17149   -1.460672 -0.660178 -1.333661 -1.092737  0.993213   \n",
       "1     -1.349864 -0.17149   -1.460672 -0.660178 -1.438907 -1.182421  0.941249   \n",
       "2     -1.349864 -0.17149   -1.460672 -0.660178 -1.438907 -1.182421  0.941249   \n",
       "3     -1.349864 -0.17149   -1.460672 -0.660178 -1.333661 -1.092737  0.681430   \n",
       "4     -1.349864 -0.17149   -1.460672 -0.660178 -1.333661 -1.092737  0.681430   \n",
       "...         ...      ...         ...       ...       ...       ...       ...   \n",
       "10881  1.338012 -0.17149    0.684616 -0.660178 -0.596935 -0.467310 -0.617666   \n",
       "10882  1.338012 -0.17149    0.684616 -0.660178 -0.702182 -0.735182 -0.253919   \n",
       "10883  1.338012 -0.17149    0.684616 -0.660178 -0.807428 -0.913959 -0.046064   \n",
       "10884  1.338012 -0.17149    0.684616 -0.660178 -0.807428 -0.735182 -0.046064   \n",
       "10885  1.338012 -0.17149    0.684616 -0.660178 -0.912675 -0.824865  0.213755   \n",
       "\n",
       "       windspeed     count      year     month       day      hour  \n",
       "0      -1.567754 -0.969294 -1.003866 -1.603121 -1.642070 -1.668944  \n",
       "1      -1.567754 -0.836797 -1.003866 -1.603121 -1.642070 -1.524341  \n",
       "2      -1.567754 -0.880962 -1.003866 -1.603121 -1.642070 -1.379739  \n",
       "3      -1.567754 -0.985856 -1.003866 -1.603121 -1.642070 -1.235137  \n",
       "4      -1.567754 -1.052104 -1.003866 -1.603121 -1.642070 -1.090534  \n",
       "...          ...       ...       ...       ...       ...       ...  \n",
       "10881   1.617227  0.797333  0.996149  1.590639  1.644787  1.078500  \n",
       "10882   0.269704  0.272866  0.996149  1.590639  1.644787  1.223102  \n",
       "10883   0.269704 -0.130146  0.996149  1.590639  1.644787  1.367704  \n",
       "10884  -0.832442 -0.345454  0.996149  1.590639  1.644787  1.512307  \n",
       "10885  -0.465608 -0.571803  0.996149  1.590639  1.644787  1.656909  \n",
       "\n",
       "[10886 rows x 13 columns]"
      ]
     },
     "execution_count": 27,
     "metadata": {},
     "output_type": "execute_result"
    }
   ],
   "source": [
    "data_scaled"
   ]
  },
  {
   "cell_type": "code",
   "execution_count": 28,
   "metadata": {
    "id": "2RPshdDR2TXQ"
   },
   "outputs": [],
   "source": [
    "# 표준화된 값으로 Linear Regression 수행\n",
    "\n",
    "# target, feature 분리\n",
    "y_target = data_scaled['count']\n",
    "x_features = data_scaled.drop(['count'], axis=1)\n",
    "\n",
    "# 학습/테스트 데이터 분할(test_size: 30%)\n",
    "x_train, x_test, y_train, y_test = train_test_split(x_features, y_target, \n",
    "                                                test_size=0.3, random_state=0) "
   ]
  },
  {
   "cell_type": "code",
   "execution_count": 29,
   "metadata": {
    "colab": {
     "base_uri": "https://localhost:8080/"
    },
    "executionInfo": {
     "elapsed": 292,
     "status": "ok",
     "timestamp": 1656079022097,
     "user": {
      "displayName": "HI Lee",
      "userId": "04262798284985525111"
     },
     "user_tz": -540
    },
    "id": "H_Jd_LHO2dYx",
    "outputId": "745557c1-a349-46ce-e270-4d4d0b672e9f"
   },
   "outputs": [
    {
     "data": {
      "text/plain": [
       "LinearRegression()"
      ]
     },
     "execution_count": 29,
     "metadata": {},
     "output_type": "execute_result"
    }
   ],
   "source": [
    "from sklearn.linear_model import LinearRegression \n",
    "\n",
    "# 모델 객체 생성\n",
    "lr_reg = LinearRegression()\n",
    "\n",
    "# 모델 학습\n",
    "lr_reg.fit(x_train,y_train)"
   ]
  },
  {
   "cell_type": "code",
   "execution_count": 30,
   "metadata": {
    "colab": {
     "base_uri": "https://localhost:8080/"
    },
    "executionInfo": {
     "elapsed": 262,
     "status": "ok",
     "timestamp": 1656079024876,
     "user": {
      "displayName": "HI Lee",
      "userId": "04262798284985525111"
     },
     "user_tz": -540
    },
    "id": "grHoSG6B2fAx",
    "outputId": "256eab5a-c262-4a70-972f-e49c28a97287"
   },
   "outputs": [
    {
     "name": "stdout",
     "output_type": "stream",
     "text": [
      "RMSLE: 1.152\n",
      "RMSE: 0.778\n"
     ]
    }
   ],
   "source": [
    "# 예측값 생성\n",
    "pred = lr_reg.predict(x_test) \n",
    "\n",
    "rmsle_val = rmsle(y_test, pred)\n",
    "rmse_val = np.sqrt(mean_squared_error(y_test, pred))\n",
    "\n",
    "print(f'RMSLE: {rmsle_val:.3f}')\n",
    "print(f'RMSE: {rmse_val:.3f}')"
   ]
  },
  {
   "cell_type": "code",
   "execution_count": 41,
   "metadata": {
    "id": "SSQqDPio3aKf"
   },
   "outputs": [
    {
     "name": "stdout",
     "output_type": "stream",
     "text": [
      "        model     rmsle\n",
      "0          LR  1.164664\n",
      "1  LR(scaled)  1.152455\n"
     ]
    },
    {
     "data": {
      "image/png": "[encoded data removed]",
      "text/plain": [
       "<Figure size 720x144 with 1 Axes>"
      ]
     },
     "metadata": {
      "needs_background": "light"
     },
     "output_type": "display_data"
    }
   ],
   "source": [
    "# 모델의 성능(RMSLE) 시각화하여 비교\n",
    "add_rmslevalue('LR(scaled)', pred, y_test) # 표준화된 RMSLE 값을 predictions에 추가\n",
    "rmsle_graph()\n",
    "\n",
    "# 표준화 작업 후 RMSLE 값이 감소"
   ]
  },
  {
   "attachments": {
    "25085B3C534EAA5932.png": {
     "image/png": "[encoded data removed]"
    }
   },
   "cell_type": "markdown",
   "metadata": {
    "id": "SoEUS7Qf41ru"
   },
   "source": [
    "### 로그 변환\n",
    "![25085B3C534EAA5932.png](attachment:25085B3C534EAA5932.png)\n",
    "- 로그 함수는 x값이 증가함에 따라 y값이 완만하게 변하는 특성이 있음\n",
    "- target 데이터의 값을 로그 변환하여 값의 차이를 줄임과 동시에 정규분포화\n",
    "- 정답 데이터와 예측값의 차이가 큰 경우 target 값을 정규분포형으로 변환하는 작업 시도"
   ]
  },
  {
   "cell_type": "code",
   "execution_count": 42,
   "metadata": {
    "id": "d_p51JJN5R59"
   },
   "outputs": [],
   "source": [
    "from sklearn.model_selection import train_test_split\n",
    "\n",
    "# target, feature 분리(표준화된 데이터가 아닌 원본 데이터로 진행)\n",
    "y_target = bike_df['count']\n",
    "x_features = bike_df.drop(['count'], axis=1)\n",
    "\n",
    "# 학습/테스트 데이터 분할(test_size: 30%)\n",
    "x_train, x_test, y_train, y_test = train_test_split(x_features, y_target, \n",
    "                                                test_size=0.3, random_state=0)"
   ]
  },
  {
   "cell_type": "code",
   "execution_count": 47,
   "metadata": {
    "colab": {
     "base_uri": "https://localhost:8080/",
     "height": 355
    },
    "executionInfo": {
     "elapsed": 272,
     "status": "ok",
     "timestamp": 1656079036820,
     "user": {
      "displayName": "HI Lee",
      "userId": "04262798284985525111"
     },
     "user_tz": -540
    },
    "id": "gVtssSV8iowA",
    "outputId": "ec6e22d9-1056-4ac5-dcb7-b4924f0769b8"
   },
   "outputs": [
    {
     "data": {
      "text/plain": [
       "(array([4284., 2337., 1686., 1067.,  633.,  426.,  233.,  116.,   85.,\n",
       "          19.]),\n",
       " array([  1. ,  98.6, 196.2, 293.8, 391.4, 489. , 586.6, 684.2, 781.8,\n",
       "        879.4, 977. ]),\n",
       " <BarContainer object of 10 artists>)"
      ]
     },
     "execution_count": 47,
     "metadata": {},
     "output_type": "execute_result"
    },
    {
     "data": {
      "image/png": "[encoded data removed]",
      "text/plain": [
       "<Figure size 360x216 with 1 Axes>"
      ]
     },
     "metadata": {
      "needs_background": "light"
     },
     "output_type": "display_data"
    }
   ],
   "source": [
    "# y_target 값을 히스토그램으로 확인\n",
    "plt.hist(y_target)\n",
    "\n",
    "# 한 쪽으로 치우친 불균형한 분포"
   ]
  },
  {
   "cell_type": "code",
   "execution_count": 48,
   "metadata": {
    "colab": {
     "base_uri": "https://localhost:8080/",
     "height": 265
    },
    "executionInfo": {
     "elapsed": 252,
     "status": "ok",
     "timestamp": 1656078626518,
     "user": {
      "displayName": "HI Lee",
      "userId": "04262798284985525111"
     },
     "user_tz": -540
    },
    "id": "vVLksOiGiowA",
    "outputId": "998c8e20-e2d7-4f34-f2f2-0ae3e5cffb0e"
   },
   "outputs": [
    {
     "data": {
      "text/plain": [
       "(array([ 237.,  462.,  625.,  626.,  805., 1076., 1768., 2544., 2058.,\n",
       "         685.]),\n",
       " array([0.69314718, 1.31238343, 1.93161968, 2.55085593, 3.17009218,\n",
       "        3.78932843, 4.40856467, 5.02780092, 5.64703717, 6.26627342,\n",
       "        6.88550967]),\n",
       " <BarContainer object of 10 artists>)"
      ]
     },
     "execution_count": 48,
     "metadata": {},
     "output_type": "execute_result"
    },
    {
     "data": {
      "image/png": "[encoded data removed]",
      "text/plain": [
       "<Figure size 360x216 with 1 Axes>"
      ]
     },
     "metadata": {
      "needs_background": "light"
     },
     "output_type": "display_data"
    }
   ],
   "source": [
    "# 로그 변환을 통한 데이터의 정규분포화\n",
    "y_log_transform = np.log1p(y_target)\n",
    "plt.hist(y_log_transform)\n",
    "\n",
    "# 원본 데이터의 한계로 여전히 분포가 아주 고르지는 않지만 로그 변환 후 나아진 모습"
   ]
  },
  {
   "cell_type": "code",
   "execution_count": 49,
   "metadata": {
    "id": "t_Cvw8kriowB"
   },
   "outputs": [],
   "source": [
    "# 로그 변환된 target 데이터로 Linear Regression 수행\n",
    "\n",
    "# target 데이터 로그 변환(log1p 사용)\n",
    "y_target_log = np.log1p(y_target)\n",
    "\n",
    "# 로그 변환된 target 데이터를 반영하여 학습/테스트 데이터 분할\n",
    "x_train, x_test, y_train, y_test =  train_test_split(x_features, y_target_log,\n",
    "                                                    test_size=0.3, random_state=0)"
   ]
  },
  {
   "cell_type": "code",
   "execution_count": 50,
   "metadata": {
    "id": "83Q1rrQw5xrl"
   },
   "outputs": [
    {
     "name": "stdout",
     "output_type": "stream",
     "text": [
      "RMSLE: 1.017\n",
      "RMSE: 162.594\n"
     ]
    }
   ],
   "source": [
    "# 모델 객체 생성, 모델 학습, 예측값 생성\n",
    "lr_reg = LinearRegression()\n",
    "lr_reg.fit(x_train, y_train)\n",
    "pred = lr_reg.predict(x_test)\n",
    "\n",
    "# target 데이터가 전체적으로 로그 변환된 상태(y_train, y_test)\n",
    "# 로그 변환된 y_test와 로그 변환된 값을 기반으로 학습/예측을 수행한 pred를 원래 scale로 변환\n",
    "# 예측값과 실제값의 비교는 로그 변환 이전의 상태에서 진행\n",
    "# exp(): 지수 함수\n",
    "# expm1(x) = exp(x)-1 이지만, expm1()가 더 높은 정확도 제공\n",
    "y_test_exp = np.expm1(y_test)\n",
    "pred_exp = np.expm1(pred)     \n",
    "\n",
    "rmsle_val = rmsle(y_test_exp, pred_exp)\n",
    "rmse_val = np.sqrt(mean_squared_error(y_test_exp, pred_exp))\n",
    "print(f'RMSLE: {rmsle_val:.3f}')\n",
    "print(f'RMSE: {rmse_val:.3f}')\n"
   ]
  },
  {
   "cell_type": "code",
   "execution_count": 58,
   "metadata": {
    "id": "IppI6zu26F6M"
   },
   "outputs": [
    {
     "name": "stdout",
     "output_type": "stream",
     "text": [
      "               model     rmsle\n",
      "0                 LR  1.164664\n",
      "1         LR(scaled)  1.152455\n",
      "2  LR(log transform)  1.016827\n"
     ]
    },
    {
     "data": {
      "image/png": "[encoded data removed]",
      "text/plain": [
       "<Figure size 720x216 with 1 Axes>"
      ]
     },
     "metadata": {
      "needs_background": "light"
     },
     "output_type": "display_data"
    }
   ],
   "source": [
    "add_rmslevalue('LR(log transform)', pred_exp, y_test_exp) # 로그 변환된 RMSLE 값을 추가\n",
    "rmsle_graph()\n",
    "\n",
    "# 자전거 대여 데이터의 경우 로그 변환 모델의 성능이 가장 우수함\n",
    "# 어떤 데이터를 가지고 있는지에 따라 성능이 좋은 모델도 달라지므로,\n",
    "# 다양한 시도를 해보는 것이 중요 -> 상대적으로 높은 예측 정확도를 보이는 모델을 선택"
   ]
  },
  {
   "cell_type": "markdown",
   "metadata": {
    "id": "kBeEJy5uiowB"
   },
   "source": [
    "### 회귀계수 시각화"
   ]
  },
  {
   "cell_type": "code",
   "execution_count": 59,
   "metadata": {
    "colab": {
     "base_uri": "https://localhost:8080/",
     "height": 283
    },
    "executionInfo": {
     "elapsed": 323,
     "status": "ok",
     "timestamp": 1656079056939,
     "user": {
      "displayName": "HI Lee",
      "userId": "04262798284985525111"
     },
     "user_tz": -540
    },
    "id": "zbVevwfyiowB",
    "outputId": "245dda5f-3061-4376-ca55-f8f183523da6"
   },
   "outputs": [
    {
     "data": {
      "text/plain": [
       "year          0.418513\n",
       "hour          0.098348\n",
       "month         0.076839\n",
       "atemp         0.030857\n",
       "temp          0.011712\n",
       "windspeed     0.003961\n",
       "day           0.003353\n",
       "humidity     -0.014512\n",
       "weather      -0.014733\n",
       "season       -0.044525\n",
       "holiday      -0.046010\n",
       "workingday   -0.066383\n",
       "dtype: float64"
      ]
     },
     "execution_count": 59,
     "metadata": {},
     "output_type": "execute_result"
    }
   ],
   "source": [
    "# lr_reg.coef_를 Series로 생성(가장 성능이 좋았던 log transform 모델 사용)\n",
    "coef = pd.Series(lr_reg.coef_, index=x_features.columns)\n",
    "\n",
    "# 회귀계수 값 내림차순 정렬\n",
    "coef_sort = coef.sort_values(ascending=False)\n",
    "coef_sort\n",
    "\n",
    "# 숫자값이 values, 컬럼명이 index"
   ]
  },
  {
   "cell_type": "code",
   "execution_count": 62,
   "metadata": {},
   "outputs": [
    {
     "data": {
      "text/plain": [
       "<AxesSubplot:>"
      ]
     },
     "execution_count": 62,
     "metadata": {},
     "output_type": "execute_result"
    },
    {
     "data": {
      "image/png": "[encoded data removed]",
      "text/plain": [
       "<Figure size 360x216 with 1 Axes>"
      ]
     },
     "metadata": {
      "needs_background": "light"
     },
     "output_type": "display_data"
    }
   ],
   "source": [
    "# coef_sort 값을 수평 barplot으로 시각화하여 표현\n",
    "sns.barplot(x=coef_sort.values, y=coef_sort.index)\n",
    "\n",
    "# year 변수의 경우 2011, 2012로 값이 크다보니 상대적으로 회귀계수가 크게 도출\n",
    "# year, month, hour 변수는 숫자 데이터이지만 사실상 범주형 데이터에 해당\n",
    "# 숫자로서의 의미를 가지지 않는 숫자 데이터가 회귀계수에 영향을 미치지 않도록 데이터 인코딩"
   ]
  },
  {
   "cell_type": "markdown",
   "metadata": {
    "id": "1Q-ETD1vAvG5"
   },
   "source": [
    "### 데이터 인코딩"
   ]
  },
  {
   "cell_type": "code",
   "execution_count": 63,
   "metadata": {
    "id": "sKr51kBaiowB"
   },
   "outputs": [],
   "source": [
    "# 범주형 데이터를 대상으로 One Hot Encoding\n",
    "# 회귀 모델은 숫자에 영향을 받으므로 Label Encoding이 아닌 One Hot Encoding\n",
    "x_features_ohe = pd.get_dummies(x_features, columns=['year', 'month', 'hour', 'holiday',\n",
    "                                              'workingday', 'season', 'weather'])"
   ]
  },
  {
   "cell_type": "code",
   "execution_count": 64,
   "metadata": {
    "id": "gFQCbmsTiowB"
   },
   "outputs": [
    {
     "data": {
      "text/html": [
       "<div>\n",
       "<style scoped>\n",
       "    .dataframe tbody tr th:only-of-type {\n",
       "        vertical-align: middle;\n",
       "    }\n",
       "\n",
       "    .dataframe tbody tr th {\n",
       "        vertical-align: top;\n",
       "    }\n",
       "\n",
       "    .dataframe thead th {\n",
       "        text-align: right;\n",
       "    }\n",
       "</style>\n",
       "<table border=\"1\" class=\"dataframe\">\n",
       "  <thead>\n",
       "    <tr style=\"text-align: right;\">\n",
       "      <th></th>\n",
       "      <th>temp</th>\n",
       "      <th>atemp</th>\n",
       "      <th>humidity</th>\n",
       "      <th>windspeed</th>\n",
       "      <th>day</th>\n",
       "      <th>year_2011</th>\n",
       "      <th>year_2012</th>\n",
       "      <th>month_1</th>\n",
       "      <th>month_2</th>\n",
       "      <th>month_3</th>\n",
       "      <th>...</th>\n",
       "      <th>workingday_0</th>\n",
       "      <th>workingday_1</th>\n",
       "      <th>season_1</th>\n",
       "      <th>season_2</th>\n",
       "      <th>season_3</th>\n",
       "      <th>season_4</th>\n",
       "      <th>weather_1</th>\n",
       "      <th>weather_2</th>\n",
       "      <th>weather_3</th>\n",
       "      <th>weather_4</th>\n",
       "    </tr>\n",
       "  </thead>\n",
       "  <tbody>\n",
       "    <tr>\n",
       "      <th>0</th>\n",
       "      <td>9.84</td>\n",
       "      <td>14.395</td>\n",
       "      <td>81</td>\n",
       "      <td>0.0000</td>\n",
       "      <td>1</td>\n",
       "      <td>1</td>\n",
       "      <td>0</td>\n",
       "      <td>1</td>\n",
       "      <td>0</td>\n",
       "      <td>0</td>\n",
       "      <td>...</td>\n",
       "      <td>1</td>\n",
       "      <td>0</td>\n",
       "      <td>1</td>\n",
       "      <td>0</td>\n",
       "      <td>0</td>\n",
       "      <td>0</td>\n",
       "      <td>1</td>\n",
       "      <td>0</td>\n",
       "      <td>0</td>\n",
       "      <td>0</td>\n",
       "    </tr>\n",
       "    <tr>\n",
       "      <th>1</th>\n",
       "      <td>9.02</td>\n",
       "      <td>13.635</td>\n",
       "      <td>80</td>\n",
       "      <td>0.0000</td>\n",
       "      <td>1</td>\n",
       "      <td>1</td>\n",
       "      <td>0</td>\n",
       "      <td>1</td>\n",
       "      <td>0</td>\n",
       "      <td>0</td>\n",
       "      <td>...</td>\n",
       "      <td>1</td>\n",
       "      <td>0</td>\n",
       "      <td>1</td>\n",
       "      <td>0</td>\n",
       "      <td>0</td>\n",
       "      <td>0</td>\n",
       "      <td>1</td>\n",
       "      <td>0</td>\n",
       "      <td>0</td>\n",
       "      <td>0</td>\n",
       "    </tr>\n",
       "    <tr>\n",
       "      <th>2</th>\n",
       "      <td>9.02</td>\n",
       "      <td>13.635</td>\n",
       "      <td>80</td>\n",
       "      <td>0.0000</td>\n",
       "      <td>1</td>\n",
       "      <td>1</td>\n",
       "      <td>0</td>\n",
       "      <td>1</td>\n",
       "      <td>0</td>\n",
       "      <td>0</td>\n",
       "      <td>...</td>\n",
       "      <td>1</td>\n",
       "      <td>0</td>\n",
       "      <td>1</td>\n",
       "      <td>0</td>\n",
       "      <td>0</td>\n",
       "      <td>0</td>\n",
       "      <td>1</td>\n",
       "      <td>0</td>\n",
       "      <td>0</td>\n",
       "      <td>0</td>\n",
       "    </tr>\n",
       "    <tr>\n",
       "      <th>3</th>\n",
       "      <td>9.84</td>\n",
       "      <td>14.395</td>\n",
       "      <td>75</td>\n",
       "      <td>0.0000</td>\n",
       "      <td>1</td>\n",
       "      <td>1</td>\n",
       "      <td>0</td>\n",
       "      <td>1</td>\n",
       "      <td>0</td>\n",
       "      <td>0</td>\n",
       "      <td>...</td>\n",
       "      <td>1</td>\n",
       "      <td>0</td>\n",
       "      <td>1</td>\n",
       "      <td>0</td>\n",
       "      <td>0</td>\n",
       "      <td>0</td>\n",
       "      <td>1</td>\n",
       "      <td>0</td>\n",
       "      <td>0</td>\n",
       "      <td>0</td>\n",
       "    </tr>\n",
       "    <tr>\n",
       "      <th>4</th>\n",
       "      <td>9.84</td>\n",
       "      <td>14.395</td>\n",
       "      <td>75</td>\n",
       "      <td>0.0000</td>\n",
       "      <td>1</td>\n",
       "      <td>1</td>\n",
       "      <td>0</td>\n",
       "      <td>1</td>\n",
       "      <td>0</td>\n",
       "      <td>0</td>\n",
       "      <td>...</td>\n",
       "      <td>1</td>\n",
       "      <td>0</td>\n",
       "      <td>1</td>\n",
       "      <td>0</td>\n",
       "      <td>0</td>\n",
       "      <td>0</td>\n",
       "      <td>1</td>\n",
       "      <td>0</td>\n",
       "      <td>0</td>\n",
       "      <td>0</td>\n",
       "    </tr>\n",
       "    <tr>\n",
       "      <th>...</th>\n",
       "      <td>...</td>\n",
       "      <td>...</td>\n",
       "      <td>...</td>\n",
       "      <td>...</td>\n",
       "      <td>...</td>\n",
       "      <td>...</td>\n",
       "      <td>...</td>\n",
       "      <td>...</td>\n",
       "      <td>...</td>\n",
       "      <td>...</td>\n",
       "      <td>...</td>\n",
       "      <td>...</td>\n",
       "      <td>...</td>\n",
       "      <td>...</td>\n",
       "      <td>...</td>\n",
       "      <td>...</td>\n",
       "      <td>...</td>\n",
       "      <td>...</td>\n",
       "      <td>...</td>\n",
       "      <td>...</td>\n",
       "      <td>...</td>\n",
       "    </tr>\n",
       "    <tr>\n",
       "      <th>10881</th>\n",
       "      <td>15.58</td>\n",
       "      <td>19.695</td>\n",
       "      <td>50</td>\n",
       "      <td>26.0027</td>\n",
       "      <td>19</td>\n",
       "      <td>0</td>\n",
       "      <td>1</td>\n",
       "      <td>0</td>\n",
       "      <td>0</td>\n",
       "      <td>0</td>\n",
       "      <td>...</td>\n",
       "      <td>0</td>\n",
       "      <td>1</td>\n",
       "      <td>0</td>\n",
       "      <td>0</td>\n",
       "      <td>0</td>\n",
       "      <td>1</td>\n",
       "      <td>1</td>\n",
       "      <td>0</td>\n",
       "      <td>0</td>\n",
       "      <td>0</td>\n",
       "    </tr>\n",
       "    <tr>\n",
       "      <th>10882</th>\n",
       "      <td>14.76</td>\n",
       "      <td>17.425</td>\n",
       "      <td>57</td>\n",
       "      <td>15.0013</td>\n",
       "      <td>19</td>\n",
       "      <td>0</td>\n",
       "      <td>1</td>\n",
       "      <td>0</td>\n",
       "      <td>0</td>\n",
       "      <td>0</td>\n",
       "      <td>...</td>\n",
       "      <td>0</td>\n",
       "      <td>1</td>\n",
       "      <td>0</td>\n",
       "      <td>0</td>\n",
       "      <td>0</td>\n",
       "      <td>1</td>\n",
       "      <td>1</td>\n",
       "      <td>0</td>\n",
       "      <td>0</td>\n",
       "      <td>0</td>\n",
       "    </tr>\n",
       "    <tr>\n",
       "      <th>10883</th>\n",
       "      <td>13.94</td>\n",
       "      <td>15.910</td>\n",
       "      <td>61</td>\n",
       "      <td>15.0013</td>\n",
       "      <td>19</td>\n",
       "      <td>0</td>\n",
       "      <td>1</td>\n",
       "      <td>0</td>\n",
       "      <td>0</td>\n",
       "      <td>0</td>\n",
       "      <td>...</td>\n",
       "      <td>0</td>\n",
       "      <td>1</td>\n",
       "      <td>0</td>\n",
       "      <td>0</td>\n",
       "      <td>0</td>\n",
       "      <td>1</td>\n",
       "      <td>1</td>\n",
       "      <td>0</td>\n",
       "      <td>0</td>\n",
       "      <td>0</td>\n",
       "    </tr>\n",
       "    <tr>\n",
       "      <th>10884</th>\n",
       "      <td>13.94</td>\n",
       "      <td>17.425</td>\n",
       "      <td>61</td>\n",
       "      <td>6.0032</td>\n",
       "      <td>19</td>\n",
       "      <td>0</td>\n",
       "      <td>1</td>\n",
       "      <td>0</td>\n",
       "      <td>0</td>\n",
       "      <td>0</td>\n",
       "      <td>...</td>\n",
       "      <td>0</td>\n",
       "      <td>1</td>\n",
       "      <td>0</td>\n",
       "      <td>0</td>\n",
       "      <td>0</td>\n",
       "      <td>1</td>\n",
       "      <td>1</td>\n",
       "      <td>0</td>\n",
       "      <td>0</td>\n",
       "      <td>0</td>\n",
       "    </tr>\n",
       "    <tr>\n",
       "      <th>10885</th>\n",
       "      <td>13.12</td>\n",
       "      <td>16.665</td>\n",
       "      <td>66</td>\n",
       "      <td>8.9981</td>\n",
       "      <td>19</td>\n",
       "      <td>0</td>\n",
       "      <td>1</td>\n",
       "      <td>0</td>\n",
       "      <td>0</td>\n",
       "      <td>0</td>\n",
       "      <td>...</td>\n",
       "      <td>0</td>\n",
       "      <td>1</td>\n",
       "      <td>0</td>\n",
       "      <td>0</td>\n",
       "      <td>0</td>\n",
       "      <td>1</td>\n",
       "      <td>1</td>\n",
       "      <td>0</td>\n",
       "      <td>0</td>\n",
       "      <td>0</td>\n",
       "    </tr>\n",
       "  </tbody>\n",
       "</table>\n",
       "<p>10886 rows × 55 columns</p>\n",
       "</div>"
      ],
      "text/plain": [
       "        temp   atemp  humidity  windspeed  day  year_2011  year_2012  month_1  \\\n",
       "0       9.84  14.395        81     0.0000    1          1          0        1   \n",
       "1       9.02  13.635        80     0.0000    1          1          0        1   \n",
       "2       9.02  13.635        80     0.0000    1          1          0        1   \n",
       "3       9.84  14.395        75     0.0000    1          1          0        1   \n",
       "4       9.84  14.395        75     0.0000    1          1          0        1   \n",
       "...      ...     ...       ...        ...  ...        ...        ...      ...   \n",
       "10881  15.58  19.695        50    26.0027   19          0          1        0   \n",
       "10882  14.76  17.425        57    15.0013   19          0          1        0   \n",
       "10883  13.94  15.910        61    15.0013   19          0          1        0   \n",
       "10884  13.94  17.425        61     6.0032   19          0          1        0   \n",
       "10885  13.12  16.665        66     8.9981   19          0          1        0   \n",
       "\n",
       "       month_2  month_3  ...  workingday_0  workingday_1  season_1  season_2  \\\n",
       "0            0        0  ...             1             0         1         0   \n",
       "1            0        0  ...             1             0         1         0   \n",
       "2            0        0  ...             1             0         1         0   \n",
       "3            0        0  ...             1             0         1         0   \n",
       "4            0        0  ...             1             0         1         0   \n",
       "...        ...      ...  ...           ...           ...       ...       ...   \n",
       "10881        0        0  ...             0             1         0         0   \n",
       "10882        0        0  ...             0             1         0         0   \n",
       "10883        0        0  ...             0             1         0         0   \n",
       "10884        0        0  ...             0             1         0         0   \n",
       "10885        0        0  ...             0             1         0         0   \n",
       "\n",
       "       season_3  season_4  weather_1  weather_2  weather_3  weather_4  \n",
       "0             0         0          1          0          0          0  \n",
       "1             0         0          1          0          0          0  \n",
       "2             0         0          1          0          0          0  \n",
       "3             0         0          1          0          0          0  \n",
       "4             0         0          1          0          0          0  \n",
       "...         ...       ...        ...        ...        ...        ...  \n",
       "10881         0         1          1          0          0          0  \n",
       "10882         0         1          1          0          0          0  \n",
       "10883         0         1          1          0          0          0  \n",
       "10884         0         1          1          0          0          0  \n",
       "10885         0         1          1          0          0          0  \n",
       "\n",
       "[10886 rows x 55 columns]"
      ]
     },
     "execution_count": 64,
     "metadata": {},
     "output_type": "execute_result"
    }
   ],
   "source": [
    "x_features_ohe"
   ]
  },
  {
   "cell_type": "code",
   "execution_count": 66,
   "metadata": {},
   "outputs": [],
   "source": [
    "# 범주형 feature 인코딩 후 학습/테스트 데이터 분할\n",
    "x_train, x_test, y_train, y_test =  train_test_split(x_features_ohe, y_target,\n",
    "                                                    test_size=0.3, random_state=0)\n",
    "\n",
    "# 이거 다시 넣는 부분 이후의 녹강 확인(4교시 37분 정도) -> 4교시 녹강 끝까지 확인"
   ]
  },
  {
   "cell_type": "code",
   "execution_count": 67,
   "metadata": {
    "id": "FIlMFpex_B7y"
   },
   "outputs": [
    {
     "name": "stdout",
     "output_type": "stream",
     "text": [
      "               model     rmsle\n",
      "0                 LR  1.164664\n",
      "1         LR(scaled)  1.152455\n",
      "2  LR(log transform)  1.016827\n",
      "3    Ridge(alpha=10)  0.842213\n"
     ]
    },
    {
     "data": {
      "image/png": "[encoded data removed]",
      "text/plain": [
       "<Figure size 720x288 with 1 Axes>"
      ]
     },
     "metadata": {
      "needs_background": "light"
     },
     "output_type": "display_data"
    }
   ],
   "source": [
    "from sklearn.linear_model import Ridge\n",
    "\n",
    "# Ridge 모델 객체 생성(alpha=10), 모델 학습, 예측값 생성\n",
    "# 규제 선형 회귀 모델의 alpha 값은 항상 임의로 지정\n",
    "# 특별한 기준 없이 데이터마다 좋은 성능을 내는 값이 천차만별이므로,\n",
    "# 여러 개의 하이퍼 파라미터를 시도해보는 것이 좋음\n",
    "ridge = Ridge(alpha=10)\n",
    "ridge.fit(x_train, y_train)\n",
    "pred = ridge.predict(x_test)\n",
    "\n",
    "# predictions에 모델 추가 및 성능 지표 시각화\n",
    "add_rmslevalue('Ridge(alpha=10)', pred, y_test)\n",
    "rmsle_graph()"
   ]
  },
  {
   "cell_type": "code",
   "execution_count": 68,
   "metadata": {
    "id": "VY9Ox5Lx_Yup"
   },
   "outputs": [
    {
     "name": "stdout",
     "output_type": "stream",
     "text": [
      "                model     rmsle\n",
      "0                  LR  1.164664\n",
      "1          LR(scaled)  1.152455\n",
      "2   LR(log transform)  1.016827\n",
      "3     Ridge(alpha=10)  0.842213\n",
      "4  Lasso(alpha=0.001)  0.818387\n"
     ]
    },
    {
     "data": {
      "image/png": "[encoded data removed]",
      "text/plain": [
       "<Figure size 720x360 with 1 Axes>"
      ]
     },
     "metadata": {
      "needs_background": "light"
     },
     "output_type": "display_data"
    }
   ],
   "source": [
    "from sklearn.linear_model import Lasso\n",
    "\n",
    "# Lasso 모델 객체 생성(alpha=0.001), 모델 학습, 예측값 생성\n",
    "lasso = Lasso(alpha=0.001)\n",
    "lasso.fit(x_train, y_train)\n",
    "pred = lasso.predict(x_test)\n",
    "\n",
    "# predictions에 모델 추가 및 성능 지표 시각화\n",
    "add_rmslevalue('Lasso(alpha=0.001)',pred, y_test)\n",
    "rmsle_graph()"
   ]
  },
  {
   "cell_type": "code",
   "execution_count": 77,
   "metadata": {
    "id": "UZ0Y1XAA_aYy"
   },
   "outputs": [
    {
     "name": "stdout",
     "output_type": "stream",
     "text": [
      "                   model     rmsle\n",
      "0                     LR  1.164664\n",
      "1             LR(scaled)  1.152455\n",
      "2      LR(log transform)  1.016827\n",
      "3        Ridge(alpha=10)  0.842213\n",
      "4     Lasso(alpha=0.001)  0.818387\n",
      "5  RandomForestRegressor  0.496289\n"
     ]
    },
    {
     "data": {
      "image/png": "[encoded data removed]",
      "text/plain": [
       "<Figure size 720x432 with 1 Axes>"
      ]
     },
     "metadata": {
      "needs_background": "light"
     },
     "output_type": "display_data"
    }
   ],
   "source": [
    "from sklearn.ensemble import RandomForestRegressor\n",
    "\n",
    "# 분류, 회귀가 모두 가능한 RandomForest 모델(이후에 자세히 다룰 예정)\n",
    "rfr = RandomForestRegressor()\n",
    "rfr.fit(x_train, y_train)\n",
    "pred = rfr.predict(x_test)\n",
    "\n",
    "# predictions에 모델 추가 및 성능 지표 시각화\n",
    "add_rmslevalue('RandomForestRegressor', pred, y_test)\n",
    "rmsle_graph()\n",
    "\n",
    "# 대부분의 경우 RandomForest 모델의 성능이 가장 우수할 것"
   ]
  },
  {
   "cell_type": "code",
   "execution_count": 78,
   "metadata": {
    "id": "mSDc21hviowC"
   },
   "outputs": [],
   "source": [
    "# predictions 내용 삭제\n",
    "predictions.clear() "
   ]
  }
 ],
 "metadata": {
  "colab": {
   "collapsed_sections": [],
   "name": "6_회귀모델실습-Bike Sharing Demand-문제.ipynb",
   "provenance": [
    {
     "file_id": "1p-iGHYPaFPlqZ2GHW1CGc8BPTBF1fiUC",
     "timestamp": 1656079249861
    }
   ]
  },
  "kernelspec": {
   "display_name": "Python 3 (ipykernel)",
   "language": "python",
   "name": "python3"
  },
  "language_info": {
   "codemirror_mode": {
    "name": "ipython",
    "version": 3
   },
   "file_extension": ".py",
   "mimetype": "text/x-python",
   "name": "python",
   "nbconvert_exporter": "python",
   "pygments_lexer": "ipython3",
   "version": "3.9.12"
  },
  "toc": {
   "base_numbering": 1,
   "nav_menu": {},
   "number_sections": true,
   "sideBar": true,
   "skip_h1_title": false,
   "title_cell": "Table of Contents",
   "title_sidebar": "Contents",
   "toc_cell": false,
   "toc_position": {},
   "toc_section_display": true,
   "toc_window_display": false
  },
  "varInspector": {
   "cols": {
    "lenName": 16,
    "lenType": 16,
    "lenVar": 40
   },
   "kernels_config": {
    "python": {
     "delete_cmd_postfix": "",
     "delete_cmd_prefix": "del ",
     "library": "var_list.py",
     "varRefreshCmd": "print(var_dic_list())"
    },
    "r": {
     "delete_cmd_postfix": ") ",
     "delete_cmd_prefix": "rm(",
     "library": "var_list.r",
     "varRefreshCmd": "cat(var_dic_list()) "
    }
   },
   "types_to_exclude": [
    "module",
    "function",
    "builtin_function_or_method",
    "instance",
    "_Feature"
   ],
   "window_display": false
  }
 },
 "nbformat": 4,
 "nbformat_minor": 1
}
