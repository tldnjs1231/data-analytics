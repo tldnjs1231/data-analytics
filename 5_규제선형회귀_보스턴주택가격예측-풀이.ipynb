{
 "cells": [
  {
   "cell_type": "markdown",
   "metadata": {
    "id": "4w25biB_5-G4"
   },
   "source": [
    "## 일반 선형 회귀\n",
    "- 규제(Regularization)를 적용하지 않는 모델"
   ]
  },
  {
   "cell_type": "markdown",
   "metadata": {
    "id": "xlUKcoPiJid2"
   },
   "source": [
    "[공식문서](https://scikit-learn.org/stable/supervised_learning.html#supervised-learning)"
   ]
  },
  {
   "cell_type": "code",
   "execution_count": 1,
   "metadata": {
    "executionInfo": {
     "elapsed": 314,
     "status": "ok",
     "timestamp": 1656069014154,
     "user": {
      "displayName": "HI Lee",
      "userId": "04262798284985525111"
     },
     "user_tz": -540
    },
    "id": "4ozZxnwpv7Dg"
   },
   "outputs": [],
   "source": [
    "import pandas as pd\n",
    "import numpy as np\n",
    "import warnings\n",
    "\n",
    "warnings.filterwarnings(\"ignore\") "
   ]
  },
  {
   "cell_type": "markdown",
   "metadata": {
    "id": "sIqBLdbnu-7_"
   },
   "source": [
    "### 데이터 로드"
   ]
  },
  {
   "cell_type": "code",
   "execution_count": 2,
   "metadata": {
    "executionInfo": {
     "elapsed": 293,
     "status": "ok",
     "timestamp": 1656069018684,
     "user": {
      "displayName": "HI Lee",
      "userId": "04262798284985525111"
     },
     "user_tz": -540
    },
    "id": "Og6aM-_7wIEG"
   },
   "outputs": [],
   "source": [
    "# 보스턴 주택가격 데이터셋 로드\n",
    "from sklearn.datasets import load_boston\n",
    "boston = load_boston()"
   ]
  },
  {
   "cell_type": "code",
   "execution_count": 3,
   "metadata": {
    "id": "HCtGfibSMmhg"
   },
   "outputs": [
    {
     "data": {
      "text/plain": [
       "{'data': array([[6.3200e-03, 1.8000e+01, 2.3100e+00, ..., 1.5300e+01, 3.9690e+02,\n",
       "         4.9800e+00],\n",
       "        [2.7310e-02, 0.0000e+00, 7.0700e+00, ..., 1.7800e+01, 3.9690e+02,\n",
       "         9.1400e+00],\n",
       "        [2.7290e-02, 0.0000e+00, 7.0700e+00, ..., 1.7800e+01, 3.9283e+02,\n",
       "         4.0300e+00],\n",
       "        ...,\n",
       "        [6.0760e-02, 0.0000e+00, 1.1930e+01, ..., 2.1000e+01, 3.9690e+02,\n",
       "         5.6400e+00],\n",
       "        [1.0959e-01, 0.0000e+00, 1.1930e+01, ..., 2.1000e+01, 3.9345e+02,\n",
       "         6.4800e+00],\n",
       "        [4.7410e-02, 0.0000e+00, 1.1930e+01, ..., 2.1000e+01, 3.9690e+02,\n",
       "         7.8800e+00]]),\n",
       " 'target': array([24. , 21.6, 34.7, 33.4, 36.2, 28.7, 22.9, 27.1, 16.5, 18.9, 15. ,\n",
       "        18.9, 21.7, 20.4, 18.2, 19.9, 23.1, 17.5, 20.2, 18.2, 13.6, 19.6,\n",
       "        15.2, 14.5, 15.6, 13.9, 16.6, 14.8, 18.4, 21. , 12.7, 14.5, 13.2,\n",
       "        13.1, 13.5, 18.9, 20. , 21. , 24.7, 30.8, 34.9, 26.6, 25.3, 24.7,\n",
       "        21.2, 19.3, 20. , 16.6, 14.4, 19.4, 19.7, 20.5, 25. , 23.4, 18.9,\n",
       "        35.4, 24.7, 31.6, 23.3, 19.6, 18.7, 16. , 22.2, 25. , 33. , 23.5,\n",
       "        19.4, 22. , 17.4, 20.9, 24.2, 21.7, 22.8, 23.4, 24.1, 21.4, 20. ,\n",
       "        20.8, 21.2, 20.3, 28. , 23.9, 24.8, 22.9, 23.9, 26.6, 22.5, 22.2,\n",
       "        23.6, 28.7, 22.6, 22. , 22.9, 25. , 20.6, 28.4, 21.4, 38.7, 43.8,\n",
       "        33.2, 27.5, 26.5, 18.6, 19.3, 20.1, 19.5, 19.5, 20.4, 19.8, 19.4,\n",
       "        21.7, 22.8, 18.8, 18.7, 18.5, 18.3, 21.2, 19.2, 20.4, 19.3, 22. ,\n",
       "        20.3, 20.5, 17.3, 18.8, 21.4, 15.7, 16.2, 18. , 14.3, 19.2, 19.6,\n",
       "        23. , 18.4, 15.6, 18.1, 17.4, 17.1, 13.3, 17.8, 14. , 14.4, 13.4,\n",
       "        15.6, 11.8, 13.8, 15.6, 14.6, 17.8, 15.4, 21.5, 19.6, 15.3, 19.4,\n",
       "        17. , 15.6, 13.1, 41.3, 24.3, 23.3, 27. , 50. , 50. , 50. , 22.7,\n",
       "        25. , 50. , 23.8, 23.8, 22.3, 17.4, 19.1, 23.1, 23.6, 22.6, 29.4,\n",
       "        23.2, 24.6, 29.9, 37.2, 39.8, 36.2, 37.9, 32.5, 26.4, 29.6, 50. ,\n",
       "        32. , 29.8, 34.9, 37. , 30.5, 36.4, 31.1, 29.1, 50. , 33.3, 30.3,\n",
       "        34.6, 34.9, 32.9, 24.1, 42.3, 48.5, 50. , 22.6, 24.4, 22.5, 24.4,\n",
       "        20. , 21.7, 19.3, 22.4, 28.1, 23.7, 25. , 23.3, 28.7, 21.5, 23. ,\n",
       "        26.7, 21.7, 27.5, 30.1, 44.8, 50. , 37.6, 31.6, 46.7, 31.5, 24.3,\n",
       "        31.7, 41.7, 48.3, 29. , 24. , 25.1, 31.5, 23.7, 23.3, 22. , 20.1,\n",
       "        22.2, 23.7, 17.6, 18.5, 24.3, 20.5, 24.5, 26.2, 24.4, 24.8, 29.6,\n",
       "        42.8, 21.9, 20.9, 44. , 50. , 36. , 30.1, 33.8, 43.1, 48.8, 31. ,\n",
       "        36.5, 22.8, 30.7, 50. , 43.5, 20.7, 21.1, 25.2, 24.4, 35.2, 32.4,\n",
       "        32. , 33.2, 33.1, 29.1, 35.1, 45.4, 35.4, 46. , 50. , 32.2, 22. ,\n",
       "        20.1, 23.2, 22.3, 24.8, 28.5, 37.3, 27.9, 23.9, 21.7, 28.6, 27.1,\n",
       "        20.3, 22.5, 29. , 24.8, 22. , 26.4, 33.1, 36.1, 28.4, 33.4, 28.2,\n",
       "        22.8, 20.3, 16.1, 22.1, 19.4, 21.6, 23.8, 16.2, 17.8, 19.8, 23.1,\n",
       "        21. , 23.8, 23.1, 20.4, 18.5, 25. , 24.6, 23. , 22.2, 19.3, 22.6,\n",
       "        19.8, 17.1, 19.4, 22.2, 20.7, 21.1, 19.5, 18.5, 20.6, 19. , 18.7,\n",
       "        32.7, 16.5, 23.9, 31.2, 17.5, 17.2, 23.1, 24.5, 26.6, 22.9, 24.1,\n",
       "        18.6, 30.1, 18.2, 20.6, 17.8, 21.7, 22.7, 22.6, 25. , 19.9, 20.8,\n",
       "        16.8, 21.9, 27.5, 21.9, 23.1, 50. , 50. , 50. , 50. , 50. , 13.8,\n",
       "        13.8, 15. , 13.9, 13.3, 13.1, 10.2, 10.4, 10.9, 11.3, 12.3,  8.8,\n",
       "         7.2, 10.5,  7.4, 10.2, 11.5, 15.1, 23.2,  9.7, 13.8, 12.7, 13.1,\n",
       "        12.5,  8.5,  5. ,  6.3,  5.6,  7.2, 12.1,  8.3,  8.5,  5. , 11.9,\n",
       "        27.9, 17.2, 27.5, 15. , 17.2, 17.9, 16.3,  7. ,  7.2,  7.5, 10.4,\n",
       "         8.8,  8.4, 16.7, 14.2, 20.8, 13.4, 11.7,  8.3, 10.2, 10.9, 11. ,\n",
       "         9.5, 14.5, 14.1, 16.1, 14.3, 11.7, 13.4,  9.6,  8.7,  8.4, 12.8,\n",
       "        10.5, 17.1, 18.4, 15.4, 10.8, 11.8, 14.9, 12.6, 14.1, 13. , 13.4,\n",
       "        15.2, 16.1, 17.8, 14.9, 14.1, 12.7, 13.5, 14.9, 20. , 16.4, 17.7,\n",
       "        19.5, 20.2, 21.4, 19.9, 19. , 19.1, 19.1, 20.1, 19.9, 19.6, 23.2,\n",
       "        29.8, 13.8, 13.3, 16.7, 12. , 14.6, 21.4, 23. , 23.7, 25. , 21.8,\n",
       "        20.6, 21.2, 19.1, 20.6, 15.2,  7. ,  8.1, 13.6, 20.1, 21.8, 24.5,\n",
       "        23.1, 19.7, 18.3, 21.2, 17.5, 16.8, 22.4, 20.6, 23.9, 22. , 11.9]),\n",
       " 'feature_names': array(['CRIM', 'ZN', 'INDUS', 'CHAS', 'NOX', 'RM', 'AGE', 'DIS', 'RAD',\n",
       "        'TAX', 'PTRATIO', 'B', 'LSTAT'], dtype='<U7'),\n",
       " 'DESCR': \".. _boston_dataset:\\n\\nBoston house prices dataset\\n---------------------------\\n\\n**Data Set Characteristics:**  \\n\\n    :Number of Instances: 506 \\n\\n    :Number of Attributes: 13 numeric/categorical predictive. Median Value (attribute 14) is usually the target.\\n\\n    :Attribute Information (in order):\\n        - CRIM     per capita crime rate by town\\n        - ZN       proportion of residential land zoned for lots over 25,000 sq.ft.\\n        - INDUS    proportion of non-retail business acres per town\\n        - CHAS     Charles River dummy variable (= 1 if tract bounds river; 0 otherwise)\\n        - NOX      nitric oxides concentration (parts per 10 million)\\n        - RM       average number of rooms per dwelling\\n        - AGE      proportion of owner-occupied units built prior to 1940\\n        - DIS      weighted distances to five Boston employment centres\\n        - RAD      index of accessibility to radial highways\\n        - TAX      full-value property-tax rate per $10,000\\n        - PTRATIO  pupil-teacher ratio by town\\n        - B        1000(Bk - 0.63)^2 where Bk is the proportion of black people by town\\n        - LSTAT    % lower status of the population\\n        - MEDV     Median value of owner-occupied homes in $1000's\\n\\n    :Missing Attribute Values: None\\n\\n    :Creator: Harrison, D. and Rubinfeld, D.L.\\n\\nThis is a copy of UCI ML housing dataset.\\nhttps://archive.ics.uci.edu/ml/machine-learning-databases/housing/\\n\\n\\nThis dataset was taken from the StatLib library which is maintained at Carnegie Mellon University.\\n\\nThe Boston house-price data of Harrison, D. and Rubinfeld, D.L. 'Hedonic\\nprices and the demand for clean air', J. Environ. Economics & Management,\\nvol.5, 81-102, 1978.   Used in Belsley, Kuh & Welsch, 'Regression diagnostics\\n...', Wiley, 1980.   N.B. Various transformations are used in the table on\\npages 244-261 of the latter.\\n\\nThe Boston house-price data has been used in many machine learning papers that address regression\\nproblems.   \\n     \\n.. topic:: References\\n\\n   - Belsley, Kuh & Welsch, 'Regression diagnostics: Identifying Influential Data and Sources of Collinearity', Wiley, 1980. 244-261.\\n   - Quinlan,R. (1993). Combining Instance-Based and Model-Based Learning. In Proceedings on the Tenth International Conference of Machine Learning, 236-243, University of Massachusetts, Amherst. Morgan Kaufmann.\\n\",\n",
       " 'filename': 'boston_house_prices.csv',\n",
       " 'data_module': 'sklearn.datasets.data'}"
      ]
     },
     "execution_count": 3,
     "metadata": {},
     "output_type": "execute_result"
    }
   ],
   "source": [
    "# 데이터 확인\n",
    "boston"
   ]
  },
  {
   "cell_type": "code",
   "execution_count": 4,
   "metadata": {
    "id": "pfsyyLz5wRtn"
   },
   "outputs": [
    {
     "name": "stdout",
     "output_type": "stream",
     "text": [
      ".. _boston_dataset:\n",
      "\n",
      "Boston house prices dataset\n",
      "---------------------------\n",
      "\n",
      "**Data Set Characteristics:**  \n",
      "\n",
      "    :Number of Instances: 506 \n",
      "\n",
      "    :Number of Attributes: 13 numeric/categorical predictive. Median Value (attribute 14) is usually the target.\n",
      "\n",
      "    :Attribute Information (in order):\n",
      "        - CRIM     per capita crime rate by town\n",
      "        - ZN       proportion of residential land zoned for lots over 25,000 sq.ft.\n",
      "        - INDUS    proportion of non-retail business acres per town\n",
      "        - CHAS     Charles River dummy variable (= 1 if tract bounds river; 0 otherwise)\n",
      "        - NOX      nitric oxides concentration (parts per 10 million)\n",
      "        - RM       average number of rooms per dwelling\n",
      "        - AGE      proportion of owner-occupied units built prior to 1940\n",
      "        - DIS      weighted distances to five Boston employment centres\n",
      "        - RAD      index of accessibility to radial highways\n",
      "        - TAX      full-value property-tax rate per $10,000\n",
      "        - PTRATIO  pupil-teacher ratio by town\n",
      "        - B        1000(Bk - 0.63)^2 where Bk is the proportion of black people by town\n",
      "        - LSTAT    % lower status of the population\n",
      "        - MEDV     Median value of owner-occupied homes in $1000's\n",
      "\n",
      "    :Missing Attribute Values: None\n",
      "\n",
      "    :Creator: Harrison, D. and Rubinfeld, D.L.\n",
      "\n",
      "This is a copy of UCI ML housing dataset.\n",
      "https://archive.ics.uci.edu/ml/machine-learning-databases/housing/\n",
      "\n",
      "\n",
      "This dataset was taken from the StatLib library which is maintained at Carnegie Mellon University.\n",
      "\n",
      "The Boston house-price data of Harrison, D. and Rubinfeld, D.L. 'Hedonic\n",
      "prices and the demand for clean air', J. Environ. Economics & Management,\n",
      "vol.5, 81-102, 1978.   Used in Belsley, Kuh & Welsch, 'Regression diagnostics\n",
      "...', Wiley, 1980.   N.B. Various transformations are used in the table on\n",
      "pages 244-261 of the latter.\n",
      "\n",
      "The Boston house-price data has been used in many machine learning papers that address regression\n",
      "problems.   \n",
      "     \n",
      ".. topic:: References\n",
      "\n",
      "   - Belsley, Kuh & Welsch, 'Regression diagnostics: Identifying Influential Data and Sources of Collinearity', Wiley, 1980. 244-261.\n",
      "   - Quinlan,R. (1993). Combining Instance-Based and Model-Based Learning. In Proceedings on the Tenth International Conference of Machine Learning, 236-243, University of Massachusetts, Amherst. Morgan Kaufmann.\n",
      "\n"
     ]
    }
   ],
   "source": [
    "# DESCR 값 print()로 출력\n",
    "print(boston['DESCR'])\n",
    "\n",
    "# dictionary 형태의 데이터의 'DESCR' key 출력\n",
    "# print() 사용하면 위의 출력값에 비해 깔끔하게 볼 수 있음"
   ]
  },
  {
   "cell_type": "code",
   "execution_count": 5,
   "metadata": {
    "executionInfo": {
     "elapsed": 289,
     "status": "ok",
     "timestamp": 1656069047386,
     "user": {
      "displayName": "HI Lee",
      "userId": "04262798284985525111"
     },
     "user_tz": -540
    },
    "id": "pIhh3ThhwRed"
   },
   "outputs": [
    {
     "data": {
      "text/html": [
       "<div>\n",
       "<style scoped>\n",
       "    .dataframe tbody tr th:only-of-type {\n",
       "        vertical-align: middle;\n",
       "    }\n",
       "\n",
       "    .dataframe tbody tr th {\n",
       "        vertical-align: top;\n",
       "    }\n",
       "\n",
       "    .dataframe thead th {\n",
       "        text-align: right;\n",
       "    }\n",
       "</style>\n",
       "<table border=\"1\" class=\"dataframe\">\n",
       "  <thead>\n",
       "    <tr style=\"text-align: right;\">\n",
       "      <th></th>\n",
       "      <th>CRIM</th>\n",
       "      <th>ZN</th>\n",
       "      <th>INDUS</th>\n",
       "      <th>CHAS</th>\n",
       "      <th>NOX</th>\n",
       "      <th>RM</th>\n",
       "      <th>AGE</th>\n",
       "      <th>DIS</th>\n",
       "      <th>RAD</th>\n",
       "      <th>TAX</th>\n",
       "      <th>PTRATIO</th>\n",
       "      <th>B</th>\n",
       "      <th>LSTAT</th>\n",
       "    </tr>\n",
       "  </thead>\n",
       "  <tbody>\n",
       "    <tr>\n",
       "      <th>0</th>\n",
       "      <td>0.00632</td>\n",
       "      <td>18.0</td>\n",
       "      <td>2.31</td>\n",
       "      <td>0.0</td>\n",
       "      <td>0.538</td>\n",
       "      <td>6.575</td>\n",
       "      <td>65.2</td>\n",
       "      <td>4.0900</td>\n",
       "      <td>1.0</td>\n",
       "      <td>296.0</td>\n",
       "      <td>15.3</td>\n",
       "      <td>396.90</td>\n",
       "      <td>4.98</td>\n",
       "    </tr>\n",
       "    <tr>\n",
       "      <th>1</th>\n",
       "      <td>0.02731</td>\n",
       "      <td>0.0</td>\n",
       "      <td>7.07</td>\n",
       "      <td>0.0</td>\n",
       "      <td>0.469</td>\n",
       "      <td>6.421</td>\n",
       "      <td>78.9</td>\n",
       "      <td>4.9671</td>\n",
       "      <td>2.0</td>\n",
       "      <td>242.0</td>\n",
       "      <td>17.8</td>\n",
       "      <td>396.90</td>\n",
       "      <td>9.14</td>\n",
       "    </tr>\n",
       "    <tr>\n",
       "      <th>2</th>\n",
       "      <td>0.02729</td>\n",
       "      <td>0.0</td>\n",
       "      <td>7.07</td>\n",
       "      <td>0.0</td>\n",
       "      <td>0.469</td>\n",
       "      <td>7.185</td>\n",
       "      <td>61.1</td>\n",
       "      <td>4.9671</td>\n",
       "      <td>2.0</td>\n",
       "      <td>242.0</td>\n",
       "      <td>17.8</td>\n",
       "      <td>392.83</td>\n",
       "      <td>4.03</td>\n",
       "    </tr>\n",
       "    <tr>\n",
       "      <th>3</th>\n",
       "      <td>0.03237</td>\n",
       "      <td>0.0</td>\n",
       "      <td>2.18</td>\n",
       "      <td>0.0</td>\n",
       "      <td>0.458</td>\n",
       "      <td>6.998</td>\n",
       "      <td>45.8</td>\n",
       "      <td>6.0622</td>\n",
       "      <td>3.0</td>\n",
       "      <td>222.0</td>\n",
       "      <td>18.7</td>\n",
       "      <td>394.63</td>\n",
       "      <td>2.94</td>\n",
       "    </tr>\n",
       "    <tr>\n",
       "      <th>4</th>\n",
       "      <td>0.06905</td>\n",
       "      <td>0.0</td>\n",
       "      <td>2.18</td>\n",
       "      <td>0.0</td>\n",
       "      <td>0.458</td>\n",
       "      <td>7.147</td>\n",
       "      <td>54.2</td>\n",
       "      <td>6.0622</td>\n",
       "      <td>3.0</td>\n",
       "      <td>222.0</td>\n",
       "      <td>18.7</td>\n",
       "      <td>396.90</td>\n",
       "      <td>5.33</td>\n",
       "    </tr>\n",
       "    <tr>\n",
       "      <th>...</th>\n",
       "      <td>...</td>\n",
       "      <td>...</td>\n",
       "      <td>...</td>\n",
       "      <td>...</td>\n",
       "      <td>...</td>\n",
       "      <td>...</td>\n",
       "      <td>...</td>\n",
       "      <td>...</td>\n",
       "      <td>...</td>\n",
       "      <td>...</td>\n",
       "      <td>...</td>\n",
       "      <td>...</td>\n",
       "      <td>...</td>\n",
       "    </tr>\n",
       "    <tr>\n",
       "      <th>501</th>\n",
       "      <td>0.06263</td>\n",
       "      <td>0.0</td>\n",
       "      <td>11.93</td>\n",
       "      <td>0.0</td>\n",
       "      <td>0.573</td>\n",
       "      <td>6.593</td>\n",
       "      <td>69.1</td>\n",
       "      <td>2.4786</td>\n",
       "      <td>1.0</td>\n",
       "      <td>273.0</td>\n",
       "      <td>21.0</td>\n",
       "      <td>391.99</td>\n",
       "      <td>9.67</td>\n",
       "    </tr>\n",
       "    <tr>\n",
       "      <th>502</th>\n",
       "      <td>0.04527</td>\n",
       "      <td>0.0</td>\n",
       "      <td>11.93</td>\n",
       "      <td>0.0</td>\n",
       "      <td>0.573</td>\n",
       "      <td>6.120</td>\n",
       "      <td>76.7</td>\n",
       "      <td>2.2875</td>\n",
       "      <td>1.0</td>\n",
       "      <td>273.0</td>\n",
       "      <td>21.0</td>\n",
       "      <td>396.90</td>\n",
       "      <td>9.08</td>\n",
       "    </tr>\n",
       "    <tr>\n",
       "      <th>503</th>\n",
       "      <td>0.06076</td>\n",
       "      <td>0.0</td>\n",
       "      <td>11.93</td>\n",
       "      <td>0.0</td>\n",
       "      <td>0.573</td>\n",
       "      <td>6.976</td>\n",
       "      <td>91.0</td>\n",
       "      <td>2.1675</td>\n",
       "      <td>1.0</td>\n",
       "      <td>273.0</td>\n",
       "      <td>21.0</td>\n",
       "      <td>396.90</td>\n",
       "      <td>5.64</td>\n",
       "    </tr>\n",
       "    <tr>\n",
       "      <th>504</th>\n",
       "      <td>0.10959</td>\n",
       "      <td>0.0</td>\n",
       "      <td>11.93</td>\n",
       "      <td>0.0</td>\n",
       "      <td>0.573</td>\n",
       "      <td>6.794</td>\n",
       "      <td>89.3</td>\n",
       "      <td>2.3889</td>\n",
       "      <td>1.0</td>\n",
       "      <td>273.0</td>\n",
       "      <td>21.0</td>\n",
       "      <td>393.45</td>\n",
       "      <td>6.48</td>\n",
       "    </tr>\n",
       "    <tr>\n",
       "      <th>505</th>\n",
       "      <td>0.04741</td>\n",
       "      <td>0.0</td>\n",
       "      <td>11.93</td>\n",
       "      <td>0.0</td>\n",
       "      <td>0.573</td>\n",
       "      <td>6.030</td>\n",
       "      <td>80.8</td>\n",
       "      <td>2.5050</td>\n",
       "      <td>1.0</td>\n",
       "      <td>273.0</td>\n",
       "      <td>21.0</td>\n",
       "      <td>396.90</td>\n",
       "      <td>7.88</td>\n",
       "    </tr>\n",
       "  </tbody>\n",
       "</table>\n",
       "<p>506 rows × 13 columns</p>\n",
       "</div>"
      ],
      "text/plain": [
       "        CRIM    ZN  INDUS  CHAS    NOX     RM   AGE     DIS  RAD    TAX  \\\n",
       "0    0.00632  18.0   2.31   0.0  0.538  6.575  65.2  4.0900  1.0  296.0   \n",
       "1    0.02731   0.0   7.07   0.0  0.469  6.421  78.9  4.9671  2.0  242.0   \n",
       "2    0.02729   0.0   7.07   0.0  0.469  7.185  61.1  4.9671  2.0  242.0   \n",
       "3    0.03237   0.0   2.18   0.0  0.458  6.998  45.8  6.0622  3.0  222.0   \n",
       "4    0.06905   0.0   2.18   0.0  0.458  7.147  54.2  6.0622  3.0  222.0   \n",
       "..       ...   ...    ...   ...    ...    ...   ...     ...  ...    ...   \n",
       "501  0.06263   0.0  11.93   0.0  0.573  6.593  69.1  2.4786  1.0  273.0   \n",
       "502  0.04527   0.0  11.93   0.0  0.573  6.120  76.7  2.2875  1.0  273.0   \n",
       "503  0.06076   0.0  11.93   0.0  0.573  6.976  91.0  2.1675  1.0  273.0   \n",
       "504  0.10959   0.0  11.93   0.0  0.573  6.794  89.3  2.3889  1.0  273.0   \n",
       "505  0.04741   0.0  11.93   0.0  0.573  6.030  80.8  2.5050  1.0  273.0   \n",
       "\n",
       "     PTRATIO       B  LSTAT  \n",
       "0       15.3  396.90   4.98  \n",
       "1       17.8  396.90   9.14  \n",
       "2       17.8  392.83   4.03  \n",
       "3       18.7  394.63   2.94  \n",
       "4       18.7  396.90   5.33  \n",
       "..       ...     ...    ...  \n",
       "501     21.0  391.99   9.67  \n",
       "502     21.0  396.90   9.08  \n",
       "503     21.0  396.90   5.64  \n",
       "504     21.0  393.45   6.48  \n",
       "505     21.0  396.90   7.88  \n",
       "\n",
       "[506 rows x 13 columns]"
      ]
     },
     "execution_count": 5,
     "metadata": {},
     "output_type": "execute_result"
    }
   ],
   "source": [
    "# boston의 data(feature)를 데이터프레임에 저장(컬럼명은 boston의 'feature_names' 값으로 설정)\n",
    "df = pd.DataFrame(boston['data'], columns=boston.feature_names)\n",
    "df"
   ]
  },
  {
   "cell_type": "code",
   "execution_count": 6,
   "metadata": {
    "executionInfo": {
     "elapsed": 301,
     "status": "ok",
     "timestamp": 1656069053536,
     "user": {
      "displayName": "HI Lee",
      "userId": "04262798284985525111"
     },
     "user_tz": -540
    },
    "id": "zwp9xs9JRFFD"
   },
   "outputs": [],
   "source": [
    "# boston의 'target' 값을 df의 'PRICE' 컬럼에 저장\n",
    "df['PRICE'] = boston['target']"
   ]
  },
  {
   "cell_type": "code",
   "execution_count": 7,
   "metadata": {
    "executionInfo": {
     "elapsed": 278,
     "status": "ok",
     "timestamp": 1656069061725,
     "user": {
      "displayName": "HI Lee",
      "userId": "04262798284985525111"
     },
     "user_tz": -540
    },
    "id": "qEcK8Erlwi7a"
   },
   "outputs": [
    {
     "data": {
      "text/html": [
       "<div>\n",
       "<style scoped>\n",
       "    .dataframe tbody tr th:only-of-type {\n",
       "        vertical-align: middle;\n",
       "    }\n",
       "\n",
       "    .dataframe tbody tr th {\n",
       "        vertical-align: top;\n",
       "    }\n",
       "\n",
       "    .dataframe thead th {\n",
       "        text-align: right;\n",
       "    }\n",
       "</style>\n",
       "<table border=\"1\" class=\"dataframe\">\n",
       "  <thead>\n",
       "    <tr style=\"text-align: right;\">\n",
       "      <th></th>\n",
       "      <th>CRIM</th>\n",
       "      <th>ZN</th>\n",
       "      <th>INDUS</th>\n",
       "      <th>CHAS</th>\n",
       "      <th>NOX</th>\n",
       "      <th>RM</th>\n",
       "      <th>AGE</th>\n",
       "      <th>DIS</th>\n",
       "      <th>RAD</th>\n",
       "      <th>TAX</th>\n",
       "      <th>PTRATIO</th>\n",
       "      <th>B</th>\n",
       "      <th>LSTAT</th>\n",
       "      <th>PRICE</th>\n",
       "    </tr>\n",
       "  </thead>\n",
       "  <tbody>\n",
       "    <tr>\n",
       "      <th>0</th>\n",
       "      <td>0.00632</td>\n",
       "      <td>18.0</td>\n",
       "      <td>2.31</td>\n",
       "      <td>0.0</td>\n",
       "      <td>0.538</td>\n",
       "      <td>6.575</td>\n",
       "      <td>65.2</td>\n",
       "      <td>4.0900</td>\n",
       "      <td>1.0</td>\n",
       "      <td>296.0</td>\n",
       "      <td>15.3</td>\n",
       "      <td>396.90</td>\n",
       "      <td>4.98</td>\n",
       "      <td>24.0</td>\n",
       "    </tr>\n",
       "    <tr>\n",
       "      <th>1</th>\n",
       "      <td>0.02731</td>\n",
       "      <td>0.0</td>\n",
       "      <td>7.07</td>\n",
       "      <td>0.0</td>\n",
       "      <td>0.469</td>\n",
       "      <td>6.421</td>\n",
       "      <td>78.9</td>\n",
       "      <td>4.9671</td>\n",
       "      <td>2.0</td>\n",
       "      <td>242.0</td>\n",
       "      <td>17.8</td>\n",
       "      <td>396.90</td>\n",
       "      <td>9.14</td>\n",
       "      <td>21.6</td>\n",
       "    </tr>\n",
       "    <tr>\n",
       "      <th>2</th>\n",
       "      <td>0.02729</td>\n",
       "      <td>0.0</td>\n",
       "      <td>7.07</td>\n",
       "      <td>0.0</td>\n",
       "      <td>0.469</td>\n",
       "      <td>7.185</td>\n",
       "      <td>61.1</td>\n",
       "      <td>4.9671</td>\n",
       "      <td>2.0</td>\n",
       "      <td>242.0</td>\n",
       "      <td>17.8</td>\n",
       "      <td>392.83</td>\n",
       "      <td>4.03</td>\n",
       "      <td>34.7</td>\n",
       "    </tr>\n",
       "    <tr>\n",
       "      <th>3</th>\n",
       "      <td>0.03237</td>\n",
       "      <td>0.0</td>\n",
       "      <td>2.18</td>\n",
       "      <td>0.0</td>\n",
       "      <td>0.458</td>\n",
       "      <td>6.998</td>\n",
       "      <td>45.8</td>\n",
       "      <td>6.0622</td>\n",
       "      <td>3.0</td>\n",
       "      <td>222.0</td>\n",
       "      <td>18.7</td>\n",
       "      <td>394.63</td>\n",
       "      <td>2.94</td>\n",
       "      <td>33.4</td>\n",
       "    </tr>\n",
       "    <tr>\n",
       "      <th>4</th>\n",
       "      <td>0.06905</td>\n",
       "      <td>0.0</td>\n",
       "      <td>2.18</td>\n",
       "      <td>0.0</td>\n",
       "      <td>0.458</td>\n",
       "      <td>7.147</td>\n",
       "      <td>54.2</td>\n",
       "      <td>6.0622</td>\n",
       "      <td>3.0</td>\n",
       "      <td>222.0</td>\n",
       "      <td>18.7</td>\n",
       "      <td>396.90</td>\n",
       "      <td>5.33</td>\n",
       "      <td>36.2</td>\n",
       "    </tr>\n",
       "  </tbody>\n",
       "</table>\n",
       "</div>"
      ],
      "text/plain": [
       "      CRIM    ZN  INDUS  CHAS    NOX     RM   AGE     DIS  RAD    TAX  \\\n",
       "0  0.00632  18.0   2.31   0.0  0.538  6.575  65.2  4.0900  1.0  296.0   \n",
       "1  0.02731   0.0   7.07   0.0  0.469  6.421  78.9  4.9671  2.0  242.0   \n",
       "2  0.02729   0.0   7.07   0.0  0.469  7.185  61.1  4.9671  2.0  242.0   \n",
       "3  0.03237   0.0   2.18   0.0  0.458  6.998  45.8  6.0622  3.0  222.0   \n",
       "4  0.06905   0.0   2.18   0.0  0.458  7.147  54.2  6.0622  3.0  222.0   \n",
       "\n",
       "   PTRATIO       B  LSTAT  PRICE  \n",
       "0     15.3  396.90   4.98   24.0  \n",
       "1     17.8  396.90   9.14   21.6  \n",
       "2     17.8  392.83   4.03   34.7  \n",
       "3     18.7  394.63   2.94   33.4  \n",
       "4     18.7  396.90   5.33   36.2  "
      ]
     },
     "execution_count": 7,
     "metadata": {},
     "output_type": "execute_result"
    }
   ],
   "source": [
    "# df의 상위 5개 데이터 조회\n",
    "df.head()"
   ]
  },
  {
   "cell_type": "markdown",
   "metadata": {
    "id": "2OJKxGHGQyra"
   },
   "source": [
    "**컬럼 소개**\n",
    "\n",
    "속성 수 : 13\n",
    "\n",
    "* CRIM : 범죄율\n",
    "* ZN : 25,000 평방 피트 당 주거용 토지의 비율\n",
    "* INDUS : 비소매(non-retail) 비즈니스 면적 비율\n",
    "* CHAS : 찰스 강 더미 변수 (통로가 하천을 향하면 1; 그렇지 않으면 0)\n",
    "* NOX : 산화 질소 농도 (천만 분의 1)\n",
    "* RM : 주거 당 평균 객실 수\n",
    "* AGE : 1940년 이전에 건축된 자가 소유 점유 비율\n",
    "* DIS : 5개의 보스턴 고용 센터까지의 가중 거리     \n",
    "* RAD : 고속도로 접근성 지수\n",
    "* TAX : 10,000 달러 당 전체 가치 재산 세율\n",
    "* PTRATIO : 도시 별 학생-교사 비율\n",
    "* B : 1000(Bk-0.63)^2 (Bk: 도시 별 검정 비율)\n",
    "* LSTAT : 인구의 낮은 지위\n",
    "* MEDV : 자가 주택의 중앙값 (1,000 달러 단위)"
   ]
  },
  {
   "cell_type": "markdown",
   "metadata": {
    "id": "830_qqaJN-6F"
   },
   "source": [
    "### 데이터 셋 분할"
   ]
  },
  {
   "cell_type": "code",
   "execution_count": 8,
   "metadata": {
    "executionInfo": {
     "elapsed": 262,
     "status": "ok",
     "timestamp": 1656069076246,
     "user": {
      "displayName": "HI Lee",
      "userId": "04262798284985525111"
     },
     "user_tz": -540
    },
    "id": "Jt8fMUFYELEQ"
   },
   "outputs": [],
   "source": [
    "from sklearn.model_selection import train_test_split"
   ]
  },
  {
   "cell_type": "code",
   "execution_count": 9,
   "metadata": {
    "executionInfo": {
     "elapsed": 264,
     "status": "ok",
     "timestamp": 1656069102756,
     "user": {
      "displayName": "HI Lee",
      "userId": "04262798284985525111"
     },
     "user_tz": -540
    },
    "id": "CiT58Hq3EK-l"
   },
   "outputs": [],
   "source": [
    "# df의 데이터를 feature와 target으로 분리\n",
    "# PRICE는 y_target에 저장, 나머지 feature들은 x_data에 저장\n",
    "y_target = df.PRICE # target\n",
    "x_data = df.drop(['PRICE'], axis=1) # feature\n",
    "\n",
    "# 학습 데이터와 테스트 데이터를 7:3 비율로 분할(random_state=1)\n",
    "x_train, x_test, y_train, y_test = train_test_split(x_data, y_target,\n",
    "                                                   test_size=0.3, random_state=1)"
   ]
  },
  {
   "cell_type": "code",
   "execution_count": 10,
   "metadata": {
    "id": "vCfOM_LDviy6"
   },
   "outputs": [
    {
     "data": {
      "text/plain": [
       "((354, 13), (152, 13))"
      ]
     },
     "execution_count": 10,
     "metadata": {},
     "output_type": "execute_result"
    }
   ],
   "source": [
    "# x_train, x_test의 크기(rows, columns) 확인\n",
    "x_train.shape, x_test.shape"
   ]
  },
  {
   "cell_type": "code",
   "execution_count": 11,
   "metadata": {
    "id": "FKXrkYuSvqWk"
   },
   "outputs": [
    {
     "data": {
      "text/html": [
       "<div>\n",
       "<style scoped>\n",
       "    .dataframe tbody tr th:only-of-type {\n",
       "        vertical-align: middle;\n",
       "    }\n",
       "\n",
       "    .dataframe tbody tr th {\n",
       "        vertical-align: top;\n",
       "    }\n",
       "\n",
       "    .dataframe thead th {\n",
       "        text-align: right;\n",
       "    }\n",
       "</style>\n",
       "<table border=\"1\" class=\"dataframe\">\n",
       "  <thead>\n",
       "    <tr style=\"text-align: right;\">\n",
       "      <th></th>\n",
       "      <th>CRIM</th>\n",
       "      <th>ZN</th>\n",
       "      <th>INDUS</th>\n",
       "      <th>CHAS</th>\n",
       "      <th>NOX</th>\n",
       "      <th>RM</th>\n",
       "      <th>AGE</th>\n",
       "      <th>DIS</th>\n",
       "      <th>RAD</th>\n",
       "      <th>TAX</th>\n",
       "      <th>PTRATIO</th>\n",
       "      <th>B</th>\n",
       "      <th>LSTAT</th>\n",
       "    </tr>\n",
       "  </thead>\n",
       "  <tbody>\n",
       "    <tr>\n",
       "      <th>13</th>\n",
       "      <td>0.62976</td>\n",
       "      <td>0.0</td>\n",
       "      <td>8.14</td>\n",
       "      <td>0.0</td>\n",
       "      <td>0.538</td>\n",
       "      <td>5.949</td>\n",
       "      <td>61.8</td>\n",
       "      <td>4.7075</td>\n",
       "      <td>4.0</td>\n",
       "      <td>307.0</td>\n",
       "      <td>21.0</td>\n",
       "      <td>396.90</td>\n",
       "      <td>8.26</td>\n",
       "    </tr>\n",
       "    <tr>\n",
       "      <th>61</th>\n",
       "      <td>0.17171</td>\n",
       "      <td>25.0</td>\n",
       "      <td>5.13</td>\n",
       "      <td>0.0</td>\n",
       "      <td>0.453</td>\n",
       "      <td>5.966</td>\n",
       "      <td>93.4</td>\n",
       "      <td>6.8185</td>\n",
       "      <td>8.0</td>\n",
       "      <td>284.0</td>\n",
       "      <td>19.7</td>\n",
       "      <td>378.08</td>\n",
       "      <td>14.44</td>\n",
       "    </tr>\n",
       "    <tr>\n",
       "      <th>377</th>\n",
       "      <td>9.82349</td>\n",
       "      <td>0.0</td>\n",
       "      <td>18.10</td>\n",
       "      <td>0.0</td>\n",
       "      <td>0.671</td>\n",
       "      <td>6.794</td>\n",
       "      <td>98.8</td>\n",
       "      <td>1.3580</td>\n",
       "      <td>24.0</td>\n",
       "      <td>666.0</td>\n",
       "      <td>20.2</td>\n",
       "      <td>396.90</td>\n",
       "      <td>21.24</td>\n",
       "    </tr>\n",
       "    <tr>\n",
       "      <th>39</th>\n",
       "      <td>0.02763</td>\n",
       "      <td>75.0</td>\n",
       "      <td>2.95</td>\n",
       "      <td>0.0</td>\n",
       "      <td>0.428</td>\n",
       "      <td>6.595</td>\n",
       "      <td>21.8</td>\n",
       "      <td>5.4011</td>\n",
       "      <td>3.0</td>\n",
       "      <td>252.0</td>\n",
       "      <td>18.3</td>\n",
       "      <td>395.63</td>\n",
       "      <td>4.32</td>\n",
       "    </tr>\n",
       "    <tr>\n",
       "      <th>365</th>\n",
       "      <td>4.55587</td>\n",
       "      <td>0.0</td>\n",
       "      <td>18.10</td>\n",
       "      <td>0.0</td>\n",
       "      <td>0.718</td>\n",
       "      <td>3.561</td>\n",
       "      <td>87.9</td>\n",
       "      <td>1.6132</td>\n",
       "      <td>24.0</td>\n",
       "      <td>666.0</td>\n",
       "      <td>20.2</td>\n",
       "      <td>354.70</td>\n",
       "      <td>7.12</td>\n",
       "    </tr>\n",
       "  </tbody>\n",
       "</table>\n",
       "</div>"
      ],
      "text/plain": [
       "        CRIM    ZN  INDUS  CHAS    NOX     RM   AGE     DIS   RAD    TAX  \\\n",
       "13   0.62976   0.0   8.14   0.0  0.538  5.949  61.8  4.7075   4.0  307.0   \n",
       "61   0.17171  25.0   5.13   0.0  0.453  5.966  93.4  6.8185   8.0  284.0   \n",
       "377  9.82349   0.0  18.10   0.0  0.671  6.794  98.8  1.3580  24.0  666.0   \n",
       "39   0.02763  75.0   2.95   0.0  0.428  6.595  21.8  5.4011   3.0  252.0   \n",
       "365  4.55587   0.0  18.10   0.0  0.718  3.561  87.9  1.6132  24.0  666.0   \n",
       "\n",
       "     PTRATIO       B  LSTAT  \n",
       "13      21.0  396.90   8.26  \n",
       "61      19.7  378.08  14.44  \n",
       "377     20.2  396.90  21.24  \n",
       "39      18.3  395.63   4.32  \n",
       "365     20.2  354.70   7.12  "
      ]
     },
     "execution_count": 11,
     "metadata": {},
     "output_type": "execute_result"
    }
   ],
   "source": [
    "# x_train의 상위 5개 데이터 조회\n",
    "x_train.head()"
   ]
  },
  {
   "cell_type": "code",
   "execution_count": 12,
   "metadata": {
    "id": "NmdGmCH_Mw1x"
   },
   "outputs": [
    {
     "data": {
      "text/plain": [
       "13     20.4\n",
       "61     16.0\n",
       "377    13.3\n",
       "39     30.8\n",
       "365    27.5\n",
       "Name: PRICE, dtype: float64"
      ]
     },
     "execution_count": 12,
     "metadata": {},
     "output_type": "execute_result"
    }
   ],
   "source": [
    "# y_train의 상위 5개 데이터 조회\n",
    "y_train.head()"
   ]
  },
  {
   "cell_type": "markdown",
   "metadata": {
    "id": "Yt9pqvyOGW0N"
   },
   "source": [
    "### 모델 별 성능 확인을 위한 함수"
   ]
  },
  {
   "cell_type": "code",
   "execution_count": 13,
   "metadata": {
    "executionInfo": {
     "elapsed": 384,
     "status": "ok",
     "timestamp": 1656069229110,
     "user": {
      "displayName": "HI Lee",
      "userId": "04262798284985525111"
     },
     "user_tz": -540
    },
    "id": "zQd7AqvDsX5b"
   },
   "outputs": [],
   "source": [
    "# 학습과 예측에 사용된 모델의 성능을 그래프로 시각화하여 확인하기 위한 함수 생성\n",
    "\n",
    "import matplotlib.pyplot as plt\n",
    "import seaborn as sns\n",
    "from sklearn.metrics import mean_squared_error\n",
    "\n",
    "\n",
    "# 무작위로 그래프 색상을 선택하기 위한 색상 list\n",
    "colors = ['b','g','r', 'c', 'm', 'y', 'k', \n",
    "          'lightcoral', 'mistyrose', 'tomato', 'darkred', 'sienna',\n",
    "          'forestgreen', 'royalblue', 'orange', 'lemonchiffon','skyblue',\n",
    "          'chocolate', 'greenyellow','lime','aqua','lightpink','lightgreen',\n",
    "          'gold', 'seagreen', 'deepskyblue', 'steelblue', 'slategray']\n",
    "\n",
    "\n",
    "# 1) plot_pred_actual()\n",
    "# 실제값과 예측값을 scatter plot으로 보여주는 함수\n",
    "# 실제값은 'x'로, 예측값은 'o'로 표시하여 어느정도 차이를 보이는지 확인\n",
    "\n",
    "def plot_pred_actual(pred, actual):\n",
    "    \n",
    "    df = pd.DataFrame({'prediction':pred, 'actual':y_test})\n",
    "    df = df.sort_values(by='actual').reset_index(drop=True)\n",
    "\n",
    "    plt.figure(figsize=(8, 6))\n",
    "    plt.scatter(df.index, df['prediction'], marker='x', color='r')\n",
    "    plt.scatter(df.index, df['actual'], alpha=0.5, marker='o', color='b')\n",
    "    plt.title('Linear Regression', fontsize=15)\n",
    "    plt.legend(['prediction', 'actual'], fontsize=12)\n",
    "\n",
    "\n",
    "# 2) add_msevalue()\n",
    "# 학습/예측을 실행한 모델명을 key로, 예측값과 실데이터의 MSE를 value로 predictions에 저장\n",
    "# predictions에 모델명이 없으면 추가, 이미 존재하면 수정\n",
    "\n",
    "predictions = {} # 알고리즘의 이름과 MSE를 저장할 dictionary\n",
    "\n",
    "def add_msevalue(model_name, pred, actual):\n",
    "    \n",
    "    global predictions\n",
    "\n",
    "    mse = mean_squared_error(pred, actual) # 실제값과 예측값의 MSE\n",
    "    predictions[model_name] = mse # predictions에 모델 이름과 해당 모델의 MSE를 저장\n",
    "\n",
    "\n",
    "# 3) mse_graph()\n",
    "# 모델명과 해당 모델의 MSE를 그래프(barh)로 나타내는 함수\n",
    "\n",
    "def mse_graph():\n",
    "\n",
    "    global predictions\n",
    "    global colors\n",
    "\n",
    "    eval_value = sorted(predictions.items(), key=lambda x: x[1], reverse=True)\n",
    "    \n",
    "    df = pd.DataFrame(eval_value, columns=['model', 'mse'])\n",
    "    print(df)\n",
    "    min_tick = df['mse'].min() - 10\n",
    "    max_tick = df['mse'].max() + 10\n",
    "    \n",
    "    fig, axes = plt.subplots(figsize=(10,len(df)))\n",
    "    axes.set_yticks(np.arange(len(df)))\n",
    "    axes.set_yticklabels(df['model'], fontsize=15)\n",
    "    bars = axes.barh(np.arange(len(df)), df['mse'])\n",
    "    \n",
    "    for i, v in enumerate(df['mse']):\n",
    "        idx = np.random.choice(len(colors)) # 그래프 색상은 colors에서 랜덤 지정\n",
    "        bars[i].set_color(colors[idx])\n",
    "        axes.text(v + 2, i, str(round(v, 3)), color='k', fontsize=15, fontweight='bold')\n",
    "        \n",
    "    plt.title('MSE ', fontsize=15)\n",
    "    plt.xlim(min_tick, max_tick)"
   ]
  },
  {
   "cell_type": "markdown",
   "metadata": {
    "id": "qJmSsQ2yv0oV"
   },
   "source": [
    "## LinearRegression 알고리즘 적용"
   ]
  },
  {
   "cell_type": "markdown",
   "metadata": {
    "id": "7DWapNujJn6P"
   },
   "source": [
    "[공식문서](https://scikit-learn.org/stable/modules/generated/sklearn.linear_model.LinearRegression.html)"
   ]
  },
  {
   "cell_type": "code",
   "execution_count": 14,
   "metadata": {
    "executionInfo": {
     "elapsed": 274,
     "status": "ok",
     "timestamp": 1656069252604,
     "user": {
      "displayName": "HI Lee",
      "userId": "04262798284985525111"
     },
     "user_tz": -540
    },
    "id": "y2cYsPENv_q0"
   },
   "outputs": [],
   "source": [
    "from sklearn.linear_model import LinearRegression"
   ]
  },
  {
   "cell_type": "code",
   "execution_count": 15,
   "metadata": {
    "executionInfo": {
     "elapsed": 279,
     "status": "ok",
     "timestamp": 1656069329483,
     "user": {
      "displayName": "HI Lee",
      "userId": "04262798284985525111"
     },
     "user_tz": -540
    },
    "id": "1nBUN6VWwFB7"
   },
   "outputs": [],
   "source": [
    "# LinearRegression() 객체 생성 후 model 변수에 저장\n",
    "model = LinearRegression()"
   ]
  },
  {
   "cell_type": "code",
   "execution_count": 16,
   "metadata": {
    "id": "B0ttPK9wEfOI"
   },
   "outputs": [
    {
     "data": {
      "text/plain": [
       "LinearRegression()"
      ]
     },
     "execution_count": 16,
     "metadata": {},
     "output_type": "execute_result"
    }
   ],
   "source": [
    "# 모델 학습\n",
    "model.fit(x_train, y_train) # 정답 데이터(y_train)로 훈련 데이터(x_train) 학습"
   ]
  },
  {
   "cell_type": "code",
   "execution_count": 17,
   "metadata": {
    "executionInfo": {
     "elapsed": 275,
     "status": "ok",
     "timestamp": 1656069362327,
     "user": {
      "displayName": "HI Lee",
      "userId": "04262798284985525111"
     },
     "user_tz": -540
    },
    "id": "v6LUCRSQwGwl"
   },
   "outputs": [
    {
     "data": {
      "text/plain": [
       "array([32.3914647 , 27.94401279, 17.83762764])"
      ]
     },
     "execution_count": 17,
     "metadata": {},
     "output_type": "execute_result"
    }
   ],
   "source": [
    "# 예측값을 생성하여 pred에 저장\n",
    "pred = model.predict(x_test) # 테스트 데이터로 예측 수행\n",
    "pred[:3]"
   ]
  },
  {
   "cell_type": "code",
   "execution_count": 18,
   "metadata": {
    "id": "A1h4y2LkHstj"
   },
   "outputs": [
    {
     "data": {
      "image/png": "[encoded data removed]",
      "text/plain": [
       "<Figure size 576x432 with 1 Axes>"
      ]
     },
     "metadata": {
      "needs_background": "light"
     },
     "output_type": "display_data"
    }
   ],
   "source": [
    "# 실제값과 예측값 그래프 출력: plot_pred_actual 함수 사용\n",
    "plot_pred_actual(pred, y_test)"
   ]
  },
  {
   "cell_type": "code",
   "execution_count": 19,
   "metadata": {
    "id": "E1NzNOlxsX5f"
   },
   "outputs": [
    {
     "name": "stdout",
     "output_type": "stream",
     "text": [
      "               model        mse\n",
      "0  Linear regression  19.831324\n"
     ]
    },
    {
     "data": {
      "image/png": "[encoded data removed]",
      "text/plain": [
       "<Figure size 720x72 with 1 Axes>"
      ]
     },
     "metadata": {
      "needs_background": "light"
     },
     "output_type": "display_data"
    }
   ],
   "source": [
    "# MSE를 막대그래프로 출력(prediction에 저장된 모델명과 MSE를 출력하는 함수 mse_graph 사용)\n",
    "add_msevalue('Linear regression', pred, y_test) # 예측값(pred)와 실데이터(y_test)의 MSE\n",
    "mse_graph()"
   ]
  },
  {
   "cell_type": "code",
   "execution_count": 20,
   "metadata": {
    "id": "__NFkg7msX5g"
   },
   "outputs": [
    {
     "data": {
      "text/plain": [
       "RM          2.795814\n",
       "CHAS        2.439560\n",
       "RAD         0.307542\n",
       "ZN          0.060784\n",
       "INDUS       0.059172\n",
       "B           0.006450\n",
       "AGE         0.003575\n",
       "TAX        -0.011280\n",
       "CRIM       -0.098542\n",
       "LSTAT      -0.568835\n",
       "PTRATIO    -1.005466\n",
       "DIS        -1.516272\n",
       "NOX       -21.469965\n",
       "dtype: float64"
      ]
     },
     "execution_count": 20,
     "metadata": {},
     "output_type": "execute_result"
    }
   ],
   "source": [
    "# 회귀 계수(W) 내림차순 조회(회귀 계수가 저장되어 있는 변수 coef_)\n",
    "\n",
    "coeff = pd.Series(data=model.coef_, index=x_data.columns)\n",
    "# 13개 feature의 회귀 계수(W)를 보기 편하게 하나의 열(Series)로 출력\n",
    "# feature를 저장해놓은 x_data의 컬럼명을 index로 사용\n",
    "\n",
    "sorted_values = coeff.sort_values(ascending=False)\n",
    "sorted_values"
   ]
  },
  {
   "cell_type": "markdown",
   "metadata": {
    "id": "2f9ZKMb0yDF7"
   },
   "source": [
    "## 규제(Regularization) 선형 회귀"
   ]
  },
  {
   "cell_type": "markdown",
   "metadata": {
    "id": "qFgerA6lsX5g"
   },
   "source": [
    "### Ridge Model (L2)\n",
    "- L2 규제를 추가한 모형"
   ]
  },
  {
   "cell_type": "code",
   "execution_count": 21,
   "metadata": {
    "executionInfo": {
     "elapsed": 304,
     "status": "ok",
     "timestamp": 1656069430428,
     "user": {
      "displayName": "HI Lee",
      "userId": "04262798284985525111"
     },
     "user_tz": -540
    },
    "id": "c0kYJuLDFWra"
   },
   "outputs": [],
   "source": [
    "from sklearn.linear_model import Ridge"
   ]
  },
  {
   "cell_type": "code",
   "execution_count": 22,
   "metadata": {
    "executionInfo": {
     "elapsed": 282,
     "status": "ok",
     "timestamp": 1656069432677,
     "user": {
      "displayName": "HI Lee",
      "userId": "04262798284985525111"
     },
     "user_tz": -540
    },
    "id": "nP23iV4k2LvN"
   },
   "outputs": [],
   "source": [
    "# alpha 값이 커질수록 큰 규제\n",
    "alphas = [0.01, 0.1, 1, 10, 100] # 하이퍼 파라미터 alpha 값 5개 지정"
   ]
  },
  {
   "cell_type": "code",
   "execution_count": 23,
   "metadata": {
    "id": "gyNqasVUPpoV",
    "scrolled": true
   },
   "outputs": [
    {
     "name": "stdout",
     "output_type": "stream",
     "text": [
      "               model        mse\n",
      "0   Ridge(alpha=100)  23.109414\n",
      "1    Ridge(alpha=10)  19.881104\n",
      "2  Linear regression  19.831324\n",
      "3  Ridge(alpha=0.01)  19.815783\n",
      "4   Ridge(alpha=0.1)  19.696200\n",
      "5     Ridge(alpha=1)  19.334416\n"
     ]
    },
    {
     "data": {
      "image/png": "[encoded data removed]",
      "text/plain": [
       "<Figure size 720x432 with 1 Axes>"
      ]
     },
     "metadata": {
      "needs_background": "light"
     },
     "output_type": "display_data"
    }
   ],
   "source": [
    "# alphas 값들을 for문에 넣어 5번의 학습과 예측을 수행\n",
    "# 5개의 alpha 값에 따라 성능이 어떻게 달라지는지 확인\n",
    "\n",
    "for alpha in alphas:\n",
    "    \n",
    "    # Ridge 알고리즘 객체 생성\n",
    "    ridge = Ridge(alpha=alpha) # alpha: 모델의 alpha 값을 지정해주는 하이퍼 파라미터\n",
    "    \n",
    "    # 모델 학습\n",
    "    ridge.fit(x_train, y_train)\n",
    "    \n",
    "    # 예측값 생성\n",
    "    pred = ridge.predict(x_test)\n",
    "    \n",
    "    add_msevalue(f'Ridge(alpha={alpha})', pred, y_test)\n",
    "\n",
    "mse_graph()\n",
    "\n",
    "# alpha 값을 조정했을 때 규제 없는 모델에 비해 MSE 값이 작게 나온 경우 있는 것 확인 가능"
   ]
  },
  {
   "cell_type": "code",
   "execution_count": 24,
   "metadata": {
    "id": "3L-aBBrXVbw8"
   },
   "outputs": [
    {
     "data": {
      "text/plain": [
       "Index(['CRIM', 'ZN', 'INDUS', 'CHAS', 'NOX', 'RM', 'AGE', 'DIS', 'RAD', 'TAX',\n",
       "       'PTRATIO', 'B', 'LSTAT'],\n",
       "      dtype='object')"
      ]
     },
     "execution_count": 24,
     "metadata": {},
     "output_type": "execute_result"
    }
   ],
   "source": [
    "# boston의 feature 데이터(x_data) 컬럼 조회\n",
    "x_data.columns"
   ]
  },
  {
   "cell_type": "code",
   "execution_count": 25,
   "metadata": {
    "colab": {
     "base_uri": "https://localhost:8080/",
     "height": 315
    },
    "executionInfo": {
     "elapsed": 1455,
     "status": "ok",
     "timestamp": 1656069493775,
     "user": {
      "displayName": "HI Lee",
      "userId": "04262798284985525111"
     },
     "user_tz": -540
    },
    "id": "hB0hi4xssX5i",
    "outputId": "a92ee9f0-b9c8-4e2c-de45-217cb455bd78"
   },
   "outputs": [
    {
     "data": {
      "image/png": "[encoded data removed]",
      "text/plain": [
       "<Figure size 1296x360 with 5 Axes>"
      ]
     },
     "metadata": {
      "needs_background": "light"
     },
     "output_type": "display_data"
    }
   ],
   "source": [
    "# 각 alpha 값의 Ridge 모델로 학습/예측한 회귀계수를 그래프로 출력\n",
    "\n",
    "import matplotlib.pyplot as plt\n",
    "\n",
    "coeff_df = pd.DataFrame() # 회귀계수를 담을 빈 데이터프레임 coeff_df 생성\n",
    "\n",
    "fig, axes = plt.subplots(1, 5, figsize=(18, 5)) # 1행 5열 그래프\n",
    "\n",
    "# alpha 값에 따른 회귀계수의 변화를 수평 barplot으로 출력\n",
    "for idx, alpha in enumerate(alphas): # enumerate: list의 자료와 인덱스를 모두 가져오기\n",
    "    \n",
    "    # Ridge 모델 객체 생성 및 학습\n",
    "    ridge = Ridge(alpha=alpha)\n",
    "    ridge.fit(x_train, y_train)\n",
    "    \n",
    "    # 회귀계수 Series로 저장(인덱스는 feature의 컬럼명)\n",
    "    coeff = pd.Series(data=ridge.coef_, index=x_data.columns)\n",
    "\n",
    "    col_name = 'alpha: ' + str(alpha)\n",
    "    coeff_df[col_name] = coeff # 앞서 생성한 Series를 coeff_df에 'col_name' 컬럼으로 추가\n",
    "    sorted_values = coeff.sort_values(ascending=False)\n",
    "    axes[idx].set_title(col_name)\n",
    "    sns.barplot(x=sorted_values, y=sorted_values.index, ax=axes[idx])\n",
    "    # x는 회귀계수 값, y는 index(feature 컬럼명), 그래프는 alphas의 idx에 따라 순서대로 5개"
   ]
  },
  {
   "cell_type": "code",
   "execution_count": 30,
   "metadata": {
    "colab": {
     "base_uri": "https://localhost:8080/",
     "height": 457
    },
    "executionInfo": {
     "elapsed": 306,
     "status": "ok",
     "timestamp": 1656068114344,
     "user": {
      "displayName": "HI Lee",
      "userId": "04262798284985525111"
     },
     "user_tz": -540
    },
    "id": "Ky3f4UEfsX5i",
    "outputId": "3faf5114-b511-43ad-86ba-f019579bac0d"
   },
   "outputs": [
    {
     "data": {
      "text/html": [
       "<div>\n",
       "<style scoped>\n",
       "    .dataframe tbody tr th:only-of-type {\n",
       "        vertical-align: middle;\n",
       "    }\n",
       "\n",
       "    .dataframe tbody tr th {\n",
       "        vertical-align: top;\n",
       "    }\n",
       "\n",
       "    .dataframe thead th {\n",
       "        text-align: right;\n",
       "    }\n",
       "</style>\n",
       "<table border=\"1\" class=\"dataframe\">\n",
       "  <thead>\n",
       "    <tr style=\"text-align: right;\">\n",
       "      <th></th>\n",
       "      <th>alpha: 0.01</th>\n",
       "      <th>alpha: 0.1</th>\n",
       "      <th>alpha: 1</th>\n",
       "      <th>alpha: 10</th>\n",
       "      <th>alpha: 100</th>\n",
       "    </tr>\n",
       "  </thead>\n",
       "  <tbody>\n",
       "    <tr>\n",
       "      <th>RM</th>\n",
       "      <td>2.797965</td>\n",
       "      <td>2.815508</td>\n",
       "      <td>2.896189</td>\n",
       "      <td>2.767564</td>\n",
       "      <td>1.551955</td>\n",
       "    </tr>\n",
       "    <tr>\n",
       "      <th>CHAS</th>\n",
       "      <td>2.436342</td>\n",
       "      <td>2.409210</td>\n",
       "      <td>2.234261</td>\n",
       "      <td>1.619124</td>\n",
       "      <td>0.508136</td>\n",
       "    </tr>\n",
       "    <tr>\n",
       "      <th>RAD</th>\n",
       "      <td>0.307077</td>\n",
       "      <td>0.303256</td>\n",
       "      <td>0.283653</td>\n",
       "      <td>0.272443</td>\n",
       "      <td>0.301903</td>\n",
       "    </tr>\n",
       "    <tr>\n",
       "      <th>ZN</th>\n",
       "      <td>0.060806</td>\n",
       "      <td>0.060990</td>\n",
       "      <td>0.062035</td>\n",
       "      <td>0.064209</td>\n",
       "      <td>0.067141</td>\n",
       "    </tr>\n",
       "    <tr>\n",
       "      <th>INDUS</th>\n",
       "      <td>0.058283</td>\n",
       "      <td>0.050949</td>\n",
       "      <td>0.012140</td>\n",
       "      <td>-0.028869</td>\n",
       "      <td>-0.032886</td>\n",
       "    </tr>\n",
       "    <tr>\n",
       "      <th>B</th>\n",
       "      <td>0.006462</td>\n",
       "      <td>0.006564</td>\n",
       "      <td>0.007098</td>\n",
       "      <td>0.007594</td>\n",
       "      <td>0.007044</td>\n",
       "    </tr>\n",
       "    <tr>\n",
       "      <th>AGE</th>\n",
       "      <td>0.003414</td>\n",
       "      <td>0.002089</td>\n",
       "      <td>-0.004815</td>\n",
       "      <td>-0.010168</td>\n",
       "      <td>0.001522</td>\n",
       "    </tr>\n",
       "    <tr>\n",
       "      <th>TAX</th>\n",
       "      <td>-0.011298</td>\n",
       "      <td>-0.011450</td>\n",
       "      <td>-0.012283</td>\n",
       "      <td>-0.013600</td>\n",
       "      <td>-0.014890</td>\n",
       "    </tr>\n",
       "    <tr>\n",
       "      <th>CRIM</th>\n",
       "      <td>-0.098377</td>\n",
       "      <td>-0.097016</td>\n",
       "      <td>-0.089935</td>\n",
       "      <td>-0.084331</td>\n",
       "      <td>-0.088438</td>\n",
       "    </tr>\n",
       "    <tr>\n",
       "      <th>LSTAT</th>\n",
       "      <td>-0.569026</td>\n",
       "      <td>-0.570625</td>\n",
       "      <td>-0.580034</td>\n",
       "      <td>-0.605912</td>\n",
       "      <td>-0.691520</td>\n",
       "    </tr>\n",
       "    <tr>\n",
       "      <th>PTRATIO</th>\n",
       "      <td>-1.003164</td>\n",
       "      <td>-0.984171</td>\n",
       "      <td>-0.884230</td>\n",
       "      <td>-0.788351</td>\n",
       "      <td>-0.802168</td>\n",
       "    </tr>\n",
       "    <tr>\n",
       "      <th>DIS</th>\n",
       "      <td>-1.513518</td>\n",
       "      <td>-1.490777</td>\n",
       "      <td>-1.369990</td>\n",
       "      <td>-1.232579</td>\n",
       "      <td>-1.064882</td>\n",
       "    </tr>\n",
       "    <tr>\n",
       "      <th>NOX</th>\n",
       "      <td>-21.277985</td>\n",
       "      <td>-19.693077</td>\n",
       "      <td>-11.283815</td>\n",
       "      <td>-2.134027</td>\n",
       "      <td>-0.224192</td>\n",
       "    </tr>\n",
       "  </tbody>\n",
       "</table>\n",
       "</div>"
      ],
      "text/plain": [
       "         alpha: 0.01  alpha: 0.1   alpha: 1  alpha: 10  alpha: 100\n",
       "RM          2.797965    2.815508   2.896189   2.767564    1.551955\n",
       "CHAS        2.436342    2.409210   2.234261   1.619124    0.508136\n",
       "RAD         0.307077    0.303256   0.283653   0.272443    0.301903\n",
       "ZN          0.060806    0.060990   0.062035   0.064209    0.067141\n",
       "INDUS       0.058283    0.050949   0.012140  -0.028869   -0.032886\n",
       "B           0.006462    0.006564   0.007098   0.007594    0.007044\n",
       "AGE         0.003414    0.002089  -0.004815  -0.010168    0.001522\n",
       "TAX        -0.011298   -0.011450  -0.012283  -0.013600   -0.014890\n",
       "CRIM       -0.098377   -0.097016  -0.089935  -0.084331   -0.088438\n",
       "LSTAT      -0.569026   -0.570625  -0.580034  -0.605912   -0.691520\n",
       "PTRATIO    -1.003164   -0.984171  -0.884230  -0.788351   -0.802168\n",
       "DIS        -1.513518   -1.490777  -1.369990  -1.232579   -1.064882\n",
       "NOX       -21.277985  -19.693077 -11.283815  -2.134027   -0.224192"
      ]
     },
     "execution_count": 30,
     "metadata": {},
     "output_type": "execute_result"
    }
   ],
   "source": [
    "coeff_df.sort_values(by='alpha: ' + str(alphas[0]), ascending=False)\n",
    "# 앞서 생성한 'col_name' 컬럼들 중 첫 번째 컬럼(alpha: 0.01) 기준으로 행 내림차순 정렬"
   ]
  },
  {
   "cell_type": "markdown",
   "metadata": {
    "id": "aFbMImtCsX5i"
   },
   "source": [
    "###  Lasso Model (L1)\n",
    "- L1 규제를 추가한 모형"
   ]
  },
  {
   "cell_type": "code",
   "execution_count": 31,
   "metadata": {
    "executionInfo": {
     "elapsed": 257,
     "status": "ok",
     "timestamp": 1656069499970,
     "user": {
      "displayName": "HI Lee",
      "userId": "04262798284985525111"
     },
     "user_tz": -540
    },
    "id": "O4qZl2fgPwL-"
   },
   "outputs": [],
   "source": [
    "from sklearn.linear_model import Lasso"
   ]
  },
  {
   "cell_type": "code",
   "execution_count": 32,
   "metadata": {
    "executionInfo": {
     "elapsed": 3,
     "status": "ok",
     "timestamp": 1656069501676,
     "user": {
      "displayName": "HI Lee",
      "userId": "04262798284985525111"
     },
     "user_tz": -540
    },
    "id": "h91GFyKjQC26"
   },
   "outputs": [],
   "source": [
    "# alpha 값 지정\n",
    "alphas = [0.07, 0.1, 0.5, 1, 3]\n",
    "\n",
    "# 앞서 도출한 MSE 값이 포함된 predictions 초기화: dictionary 비우는 메소드 clear()\n",
    "# predictions.clear()"
   ]
  },
  {
   "cell_type": "code",
   "execution_count": 35,
   "metadata": {
    "id": "a6YRIuAM6Njw",
    "scrolled": false
   },
   "outputs": [
    {
     "name": "stdout",
     "output_type": "stream",
     "text": [
      "                model        mse\n",
      "0      Lasso(alpha=3)  38.890689\n",
      "1      Lasso(alpha=1)  30.293798\n",
      "2    Lasso(alpha=0.5)  23.918883\n",
      "3    Ridge(alpha=100)  23.109414\n",
      "4    Lasso(alpha=0.1)  20.224717\n",
      "5   Lasso(alpha=0.07)  19.950978\n",
      "6     Ridge(alpha=10)  19.881104\n",
      "7   Linear regression  19.831324\n",
      "8   Ridge(alpha=0.01)  19.815783\n",
      "9    Ridge(alpha=0.1)  19.696200\n",
      "10     Ridge(alpha=1)  19.334416\n"
     ]
    },
    {
     "data": {
      "image/png": "[encoded data removed]",
      "text/plain": [
       "<Figure size 720x792 with 1 Axes>"
      ]
     },
     "metadata": {
      "needs_background": "light"
     },
     "output_type": "display_data"
    }
   ],
   "source": [
    "for alpha in alphas:\n",
    "    \n",
    "    # 알고리즘 객체 생성\n",
    "    lasso = Lasso(alpha=alpha)\n",
    "    \n",
    "    # 모델 학습\n",
    "    lasso.fit(x_train, y_train)\n",
    "\n",
    "    # 예측값 생성\n",
    "    pred = lasso.predict(x_test)\n",
    "\n",
    "    add_msevalue(f'Lasso(alpha={alpha})', pred, y_test)\n",
    "    \n",
    "mse_graph()"
   ]
  },
  {
   "cell_type": "code",
   "execution_count": 36,
   "metadata": {
    "id": "56pp6yFqWn2E"
   },
   "outputs": [
    {
     "data": {
      "image/png": "[encoded data removed]",
      "text/plain": [
       "<Figure size 1296x360 with 5 Axes>"
      ]
     },
     "metadata": {
      "needs_background": "light"
     },
     "output_type": "display_data"
    }
   ],
   "source": [
    "# 각 alpha 값에 따라 학습/예측한 Lasso 모델의 회귀계수를 그래프로 출력\n",
    "\n",
    "import matplotlib.pyplot as plt\n",
    "\n",
    "coeff_df = pd.DataFrame() # 회귀계수를 담을 빈 데이터프레임 생성\n",
    "\n",
    "fig, axes = plt.subplots(1, 5, figsize=(18, 5))\n",
    "\n",
    "for idx, alpha in enumerate(alphas):\n",
    "    \n",
    "    # Lasso 모델 객체 생성 및 학습\n",
    "    lasso = Lasso(alpha=alpha)\n",
    "    lasso.fit(x_train, y_train)\n",
    "    \n",
    "    # 회귀계수 Series로 저장(인덱스는 feature의 컬럼)\n",
    "    coeff = pd.Series(data=lasso.coef_, index=x_data.columns)\n",
    "    \n",
    "    col_name = 'alpha: ' + str(alpha)\n",
    "    coeff_df[col_name] = coeff\n",
    "    sorted_values = coeff.sort_values(ascending=False)\n",
    "    axes[idx].set_title(col_name)\n",
    "    sns.barplot(x=sorted_values, y=sorted_values.index, ax=axes[idx])"
   ]
  },
  {
   "cell_type": "code",
   "execution_count": 37,
   "metadata": {
    "colab": {
     "base_uri": "https://localhost:8080/",
     "height": 457
    },
    "executionInfo": {
     "elapsed": 350,
     "status": "ok",
     "timestamp": 1656068750551,
     "user": {
      "displayName": "HI Lee",
      "userId": "04262798284985525111"
     },
     "user_tz": -540
    },
    "id": "xjEtamMOsX5k",
    "outputId": "8530f294-346e-4582-e09e-c466f4a173fd"
   },
   "outputs": [
    {
     "data": {
      "text/html": [
       "<div>\n",
       "<style scoped>\n",
       "    .dataframe tbody tr th:only-of-type {\n",
       "        vertical-align: middle;\n",
       "    }\n",
       "\n",
       "    .dataframe tbody tr th {\n",
       "        vertical-align: top;\n",
       "    }\n",
       "\n",
       "    .dataframe thead th {\n",
       "        text-align: right;\n",
       "    }\n",
       "</style>\n",
       "<table border=\"1\" class=\"dataframe\">\n",
       "  <thead>\n",
       "    <tr style=\"text-align: right;\">\n",
       "      <th></th>\n",
       "      <th>alpha: 0.07</th>\n",
       "      <th>alpha: 0.1</th>\n",
       "      <th>alpha: 0.5</th>\n",
       "      <th>alpha: 1</th>\n",
       "      <th>alpha: 3</th>\n",
       "    </tr>\n",
       "  </thead>\n",
       "  <tbody>\n",
       "    <tr>\n",
       "      <th>RM</th>\n",
       "      <td>2.871824</td>\n",
       "      <td>2.788615</td>\n",
       "      <td>1.569403</td>\n",
       "      <td>0.000000</td>\n",
       "      <td>0.000000</td>\n",
       "    </tr>\n",
       "    <tr>\n",
       "      <th>CHAS</th>\n",
       "      <td>1.280680</td>\n",
       "      <td>0.894885</td>\n",
       "      <td>0.000000</td>\n",
       "      <td>0.000000</td>\n",
       "      <td>0.000000</td>\n",
       "    </tr>\n",
       "    <tr>\n",
       "      <th>RAD</th>\n",
       "      <td>0.262576</td>\n",
       "      <td>0.266413</td>\n",
       "      <td>0.261334</td>\n",
       "      <td>0.233009</td>\n",
       "      <td>0.000000</td>\n",
       "    </tr>\n",
       "    <tr>\n",
       "      <th>ZN</th>\n",
       "      <td>0.063581</td>\n",
       "      <td>0.063790</td>\n",
       "      <td>0.062473</td>\n",
       "      <td>0.059043</td>\n",
       "      <td>0.043782</td>\n",
       "    </tr>\n",
       "    <tr>\n",
       "      <th>B</th>\n",
       "      <td>0.007806</td>\n",
       "      <td>0.007795</td>\n",
       "      <td>0.007095</td>\n",
       "      <td>0.006003</td>\n",
       "      <td>0.004833</td>\n",
       "    </tr>\n",
       "    <tr>\n",
       "      <th>NOX</th>\n",
       "      <td>-0.000000</td>\n",
       "      <td>-0.000000</td>\n",
       "      <td>-0.000000</td>\n",
       "      <td>-0.000000</td>\n",
       "      <td>-0.000000</td>\n",
       "    </tr>\n",
       "    <tr>\n",
       "      <th>AGE</th>\n",
       "      <td>-0.011299</td>\n",
       "      <td>-0.009812</td>\n",
       "      <td>0.003097</td>\n",
       "      <td>0.019650</td>\n",
       "      <td>0.028517</td>\n",
       "    </tr>\n",
       "    <tr>\n",
       "      <th>TAX</th>\n",
       "      <td>-0.013826</td>\n",
       "      <td>-0.014079</td>\n",
       "      <td>-0.014023</td>\n",
       "      <td>-0.012307</td>\n",
       "      <td>-0.004115</td>\n",
       "    </tr>\n",
       "    <tr>\n",
       "      <th>INDUS</th>\n",
       "      <td>-0.030662</td>\n",
       "      <td>-0.026372</td>\n",
       "      <td>-0.000000</td>\n",
       "      <td>-0.000000</td>\n",
       "      <td>-0.000000</td>\n",
       "    </tr>\n",
       "    <tr>\n",
       "      <th>CRIM</th>\n",
       "      <td>-0.079820</td>\n",
       "      <td>-0.079892</td>\n",
       "      <td>-0.068740</td>\n",
       "      <td>-0.052568</td>\n",
       "      <td>-0.000000</td>\n",
       "    </tr>\n",
       "    <tr>\n",
       "      <th>LSTAT</th>\n",
       "      <td>-0.605542</td>\n",
       "      <td>-0.613096</td>\n",
       "      <td>-0.696833</td>\n",
       "      <td>-0.797115</td>\n",
       "      <td>-0.777877</td>\n",
       "    </tr>\n",
       "    <tr>\n",
       "      <th>PTRATIO</th>\n",
       "      <td>-0.752223</td>\n",
       "      <td>-0.754966</td>\n",
       "      <td>-0.745989</td>\n",
       "      <td>-0.721092</td>\n",
       "      <td>-0.185115</td>\n",
       "    </tr>\n",
       "    <tr>\n",
       "      <th>DIS</th>\n",
       "      <td>-1.172792</td>\n",
       "      <td>-1.157272</td>\n",
       "      <td>-0.900161</td>\n",
       "      <td>-0.576754</td>\n",
       "      <td>-0.000000</td>\n",
       "    </tr>\n",
       "  </tbody>\n",
       "</table>\n",
       "</div>"
      ],
      "text/plain": [
       "         alpha: 0.07  alpha: 0.1  alpha: 0.5  alpha: 1  alpha: 3\n",
       "RM          2.871824    2.788615    1.569403  0.000000  0.000000\n",
       "CHAS        1.280680    0.894885    0.000000  0.000000  0.000000\n",
       "RAD         0.262576    0.266413    0.261334  0.233009  0.000000\n",
       "ZN          0.063581    0.063790    0.062473  0.059043  0.043782\n",
       "B           0.007806    0.007795    0.007095  0.006003  0.004833\n",
       "NOX        -0.000000   -0.000000   -0.000000 -0.000000 -0.000000\n",
       "AGE        -0.011299   -0.009812    0.003097  0.019650  0.028517\n",
       "TAX        -0.013826   -0.014079   -0.014023 -0.012307 -0.004115\n",
       "INDUS      -0.030662   -0.026372   -0.000000 -0.000000 -0.000000\n",
       "CRIM       -0.079820   -0.079892   -0.068740 -0.052568 -0.000000\n",
       "LSTAT      -0.605542   -0.613096   -0.696833 -0.797115 -0.777877\n",
       "PTRATIO    -0.752223   -0.754966   -0.745989 -0.721092 -0.185115\n",
       "DIS        -1.172792   -1.157272   -0.900161 -0.576754 -0.000000"
      ]
     },
     "execution_count": 37,
     "metadata": {},
     "output_type": "execute_result"
    }
   ],
   "source": [
    "coeff_df.sort_values('alpha: ' + str(alphas[0]), ascending=False)"
   ]
  },
  {
   "cell_type": "markdown",
   "metadata": {
    "id": "Wn8VQi7aXhm0"
   },
   "source": [
    "### ElasticNet\n",
    "- L1, L2 규제를 결합한 모형"
   ]
  },
  {
   "cell_type": "code",
   "execution_count": 38,
   "metadata": {
    "executionInfo": {
     "elapsed": 253,
     "status": "ok",
     "timestamp": 1656069557345,
     "user": {
      "displayName": "HI Lee",
      "userId": "04262798284985525111"
     },
     "user_tz": -540
    },
    "id": "Aj7V6TUX9Njl"
   },
   "outputs": [],
   "source": [
    "from sklearn.linear_model import ElasticNet"
   ]
  },
  {
   "cell_type": "code",
   "execution_count": 39,
   "metadata": {
    "executionInfo": {
     "elapsed": 3,
     "status": "ok",
     "timestamp": 1656069558990,
     "user": {
      "displayName": "HI Lee",
      "userId": "04262798284985525111"
     },
     "user_tz": -540
    },
    "id": "VuxqAPAL9QOK"
   },
   "outputs": [],
   "source": [
    "ratios = [0.2, 0.5, 0.8]\n",
    "\n",
    "# ElasticNet 모델의 경우 하이퍼 파라미터가 두 개 존재: alpha, l1_ratio\n",
    "# 실습은 alpha 값을 0.5로 고정해놓고 ratio만 바꿔가면서 진행"
   ]
  },
  {
   "cell_type": "code",
   "execution_count": 40,
   "metadata": {
    "id": "OX4_jQb1sX5m"
   },
   "outputs": [
    {
     "name": "stdout",
     "output_type": "stream",
     "text": [
      "                       model        mse\n",
      "0             Lasso(alpha=3)  38.890689\n",
      "1             Lasso(alpha=1)  30.293798\n",
      "2   ElasticNet(l1_ratio=0.2)  24.552499\n",
      "3   ElasticNet(l1_ratio=0.5)  24.509405\n",
      "4   ElasticNet(l1_ratio=0.8)  24.286471\n",
      "5           Lasso(alpha=0.5)  23.918883\n",
      "6           Ridge(alpha=100)  23.109414\n",
      "7           Lasso(alpha=0.1)  20.224717\n",
      "8          Lasso(alpha=0.07)  19.950978\n",
      "9            Ridge(alpha=10)  19.881104\n",
      "10         Linear regression  19.831324\n",
      "11         Ridge(alpha=0.01)  19.815783\n",
      "12          Ridge(alpha=0.1)  19.696200\n",
      "13            Ridge(alpha=1)  19.334416\n"
     ]
    },
    {
     "data": {
      "image/png": "[encoded data removed]",
      "text/plain": [
       "<Figure size 720x1008 with 1 Axes>"
      ]
     },
     "metadata": {
      "needs_background": "light"
     },
     "output_type": "display_data"
    }
   ],
   "source": [
    "for ratio in ratios:\n",
    "    \n",
    "    # 알고리즘 객체 생성\n",
    "    elasticnet = ElasticNet(alpha=0.5, l1_ratio=ratio) # l1_ratio를 바꿔가면서 확인\n",
    "    \n",
    "    # 모델 학습\n",
    "    elasticnet.fit(x_train, y_train)\n",
    "    \n",
    "    # 예측값 생성\n",
    "    pred = elasticnet.predict(x_test)\n",
    "    \n",
    "    add_msevalue(f'ElasticNet(l1_ratio={ratio})', pred, y_test)\n",
    "\n",
    "mse_graph()"
   ]
  },
  {
   "cell_type": "code",
   "execution_count": 41,
   "metadata": {
    "id": "rC_Tldx6sX5m"
   },
   "outputs": [
    {
     "data": {
      "image/png": "[encoded data removed]",
      "text/plain": [
       "<Figure size 1296x360 with 3 Axes>"
      ]
     },
     "metadata": {
      "needs_background": "light"
     },
     "output_type": "display_data"
    }
   ],
   "source": [
    "import matplotlib.pyplot as plt\n",
    "\n",
    "coeff_df = pd.DataFrame()\n",
    "\n",
    "fig, axes  = plt.subplots(1, 3, figsize=(18, 5)) # 1행 3열 그래프\n",
    "\n",
    "for idx, ratio in enumerate(ratios):\n",
    "    \n",
    "    # ElasticNet 모델 객체 생성 및 학습\n",
    "    elastic = ElasticNet(alpha=0.5, l1_ratio=ratio)\n",
    "    elastic.fit(x_train, y_train)\n",
    "    \n",
    "    # 회귀계수 Series로 저장(인덱스는 feature의 컬럼)\n",
    "    coeff = pd.Series(data = elastic.coef_, index = x_data.columns)\n",
    "    \n",
    "    col_name = 'ratio: ' + str(ratio)\n",
    "    coeff_df[col_name] = coeff\n",
    "    sorted_values = coeff.sort_values(ascending=False)\n",
    "    axes[idx].set_title(col_name)\n",
    "    sns.barplot(x=sorted_values, y=sorted_values.index, ax=axes[idx])"
   ]
  },
  {
   "cell_type": "code",
   "execution_count": 42,
   "metadata": {
    "id": "W-xVxPjysX5m"
   },
   "outputs": [
    {
     "data": {
      "text/html": [
       "<div>\n",
       "<style scoped>\n",
       "    .dataframe tbody tr th:only-of-type {\n",
       "        vertical-align: middle;\n",
       "    }\n",
       "\n",
       "    .dataframe tbody tr th {\n",
       "        vertical-align: top;\n",
       "    }\n",
       "\n",
       "    .dataframe thead th {\n",
       "        text-align: right;\n",
       "    }\n",
       "</style>\n",
       "<table border=\"1\" class=\"dataframe\">\n",
       "  <thead>\n",
       "    <tr style=\"text-align: right;\">\n",
       "      <th></th>\n",
       "      <th>ratio: 0.2</th>\n",
       "      <th>ratio: 0.5</th>\n",
       "      <th>ratio: 0.8</th>\n",
       "    </tr>\n",
       "  </thead>\n",
       "  <tbody>\n",
       "    <tr>\n",
       "      <th>RM</th>\n",
       "      <td>1.177359</td>\n",
       "      <td>1.254081</td>\n",
       "      <td>1.391643</td>\n",
       "    </tr>\n",
       "    <tr>\n",
       "      <th>RAD</th>\n",
       "      <td>0.298753</td>\n",
       "      <td>0.288948</td>\n",
       "      <td>0.274900</td>\n",
       "    </tr>\n",
       "    <tr>\n",
       "      <th>CHAS</th>\n",
       "      <td>0.193604</td>\n",
       "      <td>0.000000</td>\n",
       "      <td>0.000000</td>\n",
       "    </tr>\n",
       "    <tr>\n",
       "      <th>ZN</th>\n",
       "      <td>0.066260</td>\n",
       "      <td>0.065508</td>\n",
       "      <td>0.064172</td>\n",
       "    </tr>\n",
       "    <tr>\n",
       "      <th>B</th>\n",
       "      <td>0.006822</td>\n",
       "      <td>0.006903</td>\n",
       "      <td>0.006998</td>\n",
       "    </tr>\n",
       "    <tr>\n",
       "      <th>AGE</th>\n",
       "      <td>0.006673</td>\n",
       "      <td>0.005733</td>\n",
       "      <td>0.004343</td>\n",
       "    </tr>\n",
       "    <tr>\n",
       "      <th>NOX</th>\n",
       "      <td>-0.000000</td>\n",
       "      <td>-0.000000</td>\n",
       "      <td>-0.000000</td>\n",
       "    </tr>\n",
       "    <tr>\n",
       "      <th>TAX</th>\n",
       "      <td>-0.014901</td>\n",
       "      <td>-0.014782</td>\n",
       "      <td>-0.014476</td>\n",
       "    </tr>\n",
       "    <tr>\n",
       "      <th>INDUS</th>\n",
       "      <td>-0.023036</td>\n",
       "      <td>-0.012712</td>\n",
       "      <td>-0.002311</td>\n",
       "    </tr>\n",
       "    <tr>\n",
       "      <th>CRIM</th>\n",
       "      <td>-0.084774</td>\n",
       "      <td>-0.079572</td>\n",
       "      <td>-0.073286</td>\n",
       "    </tr>\n",
       "    <tr>\n",
       "      <th>LSTAT</th>\n",
       "      <td>-0.717448</td>\n",
       "      <td>-0.714817</td>\n",
       "      <td>-0.707673</td>\n",
       "    </tr>\n",
       "    <tr>\n",
       "      <th>PTRATIO</th>\n",
       "      <td>-0.782802</td>\n",
       "      <td>-0.774135</td>\n",
       "      <td>-0.760041</td>\n",
       "    </tr>\n",
       "    <tr>\n",
       "      <th>DIS</th>\n",
       "      <td>-0.945304</td>\n",
       "      <td>-0.933380</td>\n",
       "      <td>-0.913371</td>\n",
       "    </tr>\n",
       "  </tbody>\n",
       "</table>\n",
       "</div>"
      ],
      "text/plain": [
       "         ratio: 0.2  ratio: 0.5  ratio: 0.8\n",
       "RM         1.177359    1.254081    1.391643\n",
       "RAD        0.298753    0.288948    0.274900\n",
       "CHAS       0.193604    0.000000    0.000000\n",
       "ZN         0.066260    0.065508    0.064172\n",
       "B          0.006822    0.006903    0.006998\n",
       "AGE        0.006673    0.005733    0.004343\n",
       "NOX       -0.000000   -0.000000   -0.000000\n",
       "TAX       -0.014901   -0.014782   -0.014476\n",
       "INDUS     -0.023036   -0.012712   -0.002311\n",
       "CRIM      -0.084774   -0.079572   -0.073286\n",
       "LSTAT     -0.717448   -0.714817   -0.707673\n",
       "PTRATIO   -0.782802   -0.774135   -0.760041\n",
       "DIS       -0.945304   -0.933380   -0.913371"
      ]
     },
     "execution_count": 42,
     "metadata": {},
     "output_type": "execute_result"
    }
   ],
   "source": [
    "coeff_df.sort_values('ratio: ' + str(ratios[0]), ascending=False)"
   ]
  }
 ],
 "metadata": {
  "colab": {
   "collapsed_sections": [],
   "name": "5_규제선형회귀_보스턴주택가격예측-문제.ipynb",
   "provenance": []
  },
  "kernelspec": {
   "display_name": "Python 3 (ipykernel)",
   "language": "python",
   "name": "python3"
  },
  "language_info": {
   "codemirror_mode": {
    "name": "ipython",
    "version": 3
   },
   "file_extension": ".py",
   "mimetype": "text/x-python",
   "name": "python",
   "nbconvert_exporter": "python",
   "pygments_lexer": "ipython3",
   "version": "3.9.12"
  },
  "toc": {
   "base_numbering": 1,
   "nav_menu": {},
   "number_sections": true,
   "sideBar": true,
   "skip_h1_title": false,
   "title_cell": "Table of Contents",
   "title_sidebar": "Contents",
   "toc_cell": false,
   "toc_position": {},
   "toc_section_display": true,
   "toc_window_display": false
  },
  "varInspector": {
   "cols": {
    "lenName": 16,
    "lenType": 16,
    "lenVar": 40
   },
   "kernels_config": {
    "python": {
     "delete_cmd_postfix": "",
     "delete_cmd_prefix": "del ",
     "library": "var_list.py",
     "varRefreshCmd": "print(var_dic_list())"
    },
    "r": {
     "delete_cmd_postfix": ") ",
     "delete_cmd_prefix": "rm(",
     "library": "var_list.r",
     "varRefreshCmd": "cat(var_dic_list()) "
    }
   },
   "types_to_exclude": [
    "module",
    "function",
    "builtin_function_or_method",
    "instance",
    "_Feature"
   ],
   "window_display": false
  }
 },
 "nbformat": 4,
 "nbformat_minor": 1
}
