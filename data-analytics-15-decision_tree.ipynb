{
 "cells": [
  {
   "cell_type": "code",
   "execution_count": 1,
   "metadata": {
    "id": "Npa5g_y_0gZf"
   },
   "outputs": [],
   "source": [
    "import warnings\n",
    "import pandas as pd\n",
    "warnings.filterwarnings('ignore') # 불필요한 경고 출력 방지"
   ]
  },
  {
   "cell_type": "markdown",
   "metadata": {
    "id": "34f9-kO3RyI8"
   },
   "source": [
    "## 의사결정나무(Decision Tree)를 활용한 분류\n",
    "\n",
    "[의사결정나무 공식문서](https://scikit-learn.org/stable/modules/generated/sklearn.tree.DecisionTreeClassifier.html?highlight=decision%20tree#sklearn.tree.DecisionTreeClassifier)"
   ]
  },
  {
   "cell_type": "markdown",
   "metadata": {
    "id": "jzfLbuA8QT1-"
   },
   "source": [
    "### 유방암 진단 데이터 로드"
   ]
  },
  {
   "cell_type": "code",
   "execution_count": 2,
   "metadata": {
    "id": "49AtM57vRuiV"
   },
   "outputs": [],
   "source": [
    "from sklearn.datasets import load_breast_cancer\n",
    "\n",
    "# 유방암 진단 데이터 로드\n",
    "cancer = load_breast_cancer()"
   ]
  },
  {
   "cell_type": "markdown",
   "metadata": {
    "id": "wBxBMFWvQfKk"
   },
   "source": [
    "### 학습/테스트 데이터 분할"
   ]
  },
  {
   "cell_type": "code",
   "execution_count": 3,
   "metadata": {
    "id": "_dUHcdSgQZW9"
   },
   "outputs": [],
   "source": [
    "from sklearn.model_selection import train_test_split\n",
    "\n",
    "# 학습/테스트 데이터 분할(test_size: 30%)\n",
    "x_train, x_test, y_train, y_test = train_test_split(cancer.data, cancer.target,\n",
    "                                                   test_size=0.3, random_state=42)"
   ]
  },
  {
   "cell_type": "markdown",
   "metadata": {
    "id": "oke0lW_fQ3r1"
   },
   "source": [
    "### 모델링"
   ]
  },
  {
   "cell_type": "code",
   "execution_count": 4,
   "metadata": {
    "id": "ug2Yr-BpQT2A"
   },
   "outputs": [
    {
     "name": "stdout",
     "output_type": "stream",
     "text": [
      "Train 데이터 정확도: 1.000\n",
      "Test 데이터 정확도: 0.918\n"
     ]
    }
   ],
   "source": [
    "from sklearn.tree import DecisionTreeClassifier\n",
    "\n",
    "# DecisionTreeClassifier 모델 객체 생성\n",
    "dt_clf = DecisionTreeClassifier()\n",
    "\n",
    "# 모델 학습\n",
    "dt_clf.fit(x_train, y_train)\n",
    "\n",
    "print(f'Train 데이터 정확도: {dt_clf.score(x_train, y_train):.3f}')\n",
    "print(f'Test 데이터 정확도: {dt_clf.score(x_test, y_test):.3f}')\n",
    "\n",
    "# 학습 데이터에 과적합된 모델 -> max_depth 하이퍼 파라미터에 제한을 두지 않아 끝까지 분류를 진행"
   ]
  },
  {
   "cell_type": "code",
   "execution_count": 7,
   "metadata": {
    "colab": {
     "base_uri": "https://localhost:8080/"
    },
    "executionInfo": {
     "elapsed": 270,
     "status": "ok",
     "timestamp": 1656167422447,
     "user": {
      "displayName": "HI Lee",
      "userId": "04262798284985525111"
     },
     "user_tz": -540
    },
    "id": "iApNEcVMQT2A",
    "outputId": "3ff5f7ba-72d1-4e39-f6a1-ba5c4853afee"
   },
   "outputs": [
    {
     "name": "stdout",
     "output_type": "stream",
     "text": [
      "예측 정확도: 0.918\n"
     ]
    }
   ],
   "source": [
    "from sklearn.metrics import accuracy_score\n",
    "\n",
    "# 예측 수행\n",
    "preds = dt_clf.predict(x_test)\n",
    "\n",
    "# 정확도 산출\n",
    "accur = accuracy_score(preds, y_test)\n",
    "print('예측 정확도:', round(accur, 3))"
   ]
  },
  {
   "cell_type": "markdown",
   "metadata": {
    "id": "yaPn0dgsQT2B"
   },
   "source": [
    "### 의사결정나무의 깊이(Depth) 제한\n"
   ]
  },
  {
   "cell_type": "code",
   "execution_count": 8,
   "metadata": {
    "colab": {
     "base_uri": "https://localhost:8080/"
    },
    "executionInfo": {
     "elapsed": 367,
     "status": "ok",
     "timestamp": 1632554846981,
     "user": {
      "displayName": "HaeIn Lee",
      "photoUrl": "https://lh3.googleusercontent.com/a/default-user=s64",
      "userId": "04262798284985525111"
     },
     "user_tz": -540
    },
    "id": "ey0YK82WT8tF",
    "outputId": "d75f2b84-edc0-4683-f9cd-4679a67f9481"
   },
   "outputs": [
    {
     "name": "stdout",
     "output_type": "stream",
     "text": [
      "Train 데이터 정확도: 0.970\n",
      "Test 데이터 정확도: 0.965\n"
     ]
    }
   ],
   "source": [
    "# max_depth를 3으로 제한\n",
    "dt_clf = DecisionTreeClassifier(max_depth=3, random_state= 0)\n",
    "\n",
    "# 모델 학습\n",
    "dt_clf.fit(x_train, y_train)\n",
    "\n",
    "print(f'Train 데이터 정확도: {dt_clf.score(x_train, y_train):.3f}')\n",
    "print(f'Test 데이터 정확도: {dt_clf.score(x_test, y_test):.3f}')"
   ]
  },
  {
   "cell_type": "code",
   "execution_count": 10,
   "metadata": {
    "id": "pERVtOw7QT2C"
   },
   "outputs": [
    {
     "name": "stdout",
     "output_type": "stream",
     "text": [
      "예측 정확도: 0.965\n"
     ]
    }
   ],
   "source": [
    "# 예측 수행\n",
    "preds = dt_clf.predict(x_test)\n",
    "\n",
    "# 정확도 산출\n",
    "accur = accuracy_score(y_test, preds)\n",
    "print('예측 정확도:', round(accur, 3))"
   ]
  },
  {
   "cell_type": "markdown",
   "metadata": {
    "id": "paGvinsIQT2D"
   },
   "source": [
    "### Graphviz 라이브러리를 이용하여 Decision Tree 모델 시각화\n"
   ]
  },
  {
   "cell_type": "code",
   "execution_count": null,
   "metadata": {},
   "outputs": [],
   "source": [
    "# graphviz 설치(anaconda prompt에서도 pip install graphviz로 설치 가능)\n",
    "# !pip install graphviz"
   ]
  },
  {
   "cell_type": "code",
   "execution_count": 11,
   "metadata": {
    "id": "yqA1oznO2pN0"
   },
   "outputs": [],
   "source": [
    "from sklearn.tree import export_graphviz\n",
    "\n",
    "# out_file로 지정된 의사결정나무 시각화 파일 생성\n",
    "export_graphviz(dt_clf, out_file=\"tree.dot\", # 그래프의 정보가 담긴 tree.dot 파일 생성\n",
    "                class_names=['Negative', 'Positive'], # 'target_names': ['malignant', 'benign']\n",
    "                feature_names = cancer.feature_names,\n",
    "                impurity=False, # impurity=False: 지니계수 출력하지 않음\n",
    "                filled=True) # filled=True: 의사결정나무 모형 색상 채우기\n",
    "\n",
    "# export_graphviz()는 파일을 생성하는 함수 -> 그래프를 출력하기 위해서는 출력 함수에 파일을 담아 실행"
   ]
  },
  {
   "cell_type": "code",
   "execution_count": 12,
   "metadata": {
    "id": "D78n-3tjQT2D",
    "scrolled": true
   },
   "outputs": [
    {
     "data": {
      "image/svg+xml": [
       "<?xml version=\"1.0\" encoding=\"UTF-8\" standalone=\"no\"?>\n",
       "<!DOCTYPE svg PUBLIC \"-//W3C//DTD SVG 1.1//EN\"\n",
       " \"http://www.w3.org/Graphics/SVG/1.1/DTD/svg11.dtd\">\n",
       "<!-- Generated by graphviz version 3.0.0 (20220226.1711)\n",
       " -->\n",
       "<!-- Title: Tree Pages: 1 -->\n",
       "<svg width=\"1086pt\" height=\"373pt\"\n",
       " viewBox=\"0.00 0.00 1085.50 373.00\" xmlns=\"http://www.w3.org/2000/svg\" xmlns:xlink=\"http://www.w3.org/1999/xlink\">\n",
       "<g id=\"graph0\" class=\"graph\" transform=\"scale(1 1) rotate(0) translate(4 369)\">\n",
       "<title>Tree</title>\n",
       "<polygon fill=\"white\" stroke=\"transparent\" points=\"-4,4 -4,-369 1081.5,-369 1081.5,4 -4,4\"/>\n",
       "<!-- 0 -->\n",
       "<g id=\"node1\" class=\"node\">\n",
       "<title>0</title>\n",
       "<polygon fill=\"#afd8f5\" stroke=\"black\" points=\"631,-365 419,-365 419,-297 631,-297 631,-365\"/>\n",
       "<text text-anchor=\"middle\" x=\"525\" y=\"-349.8\" font-family=\"Helvetica,sans-Serif\" font-size=\"14.00\">mean concave points &lt;= 0.051</text>\n",
       "<text text-anchor=\"middle\" x=\"525\" y=\"-334.8\" font-family=\"Helvetica,sans-Serif\" font-size=\"14.00\">samples = 398</text>\n",
       "<text text-anchor=\"middle\" x=\"525\" y=\"-319.8\" font-family=\"Helvetica,sans-Serif\" font-size=\"14.00\">value = [149, 249]</text>\n",
       "<text text-anchor=\"middle\" x=\"525\" y=\"-304.8\" font-family=\"Helvetica,sans-Serif\" font-size=\"14.00\">class = Positive</text>\n",
       "</g>\n",
       "<!-- 1 -->\n",
       "<g id=\"node2\" class=\"node\">\n",
       "<title>1</title>\n",
       "<polygon fill=\"#44a2e6\" stroke=\"black\" points=\"506.5,-261 353.5,-261 353.5,-193 506.5,-193 506.5,-261\"/>\n",
       "<text text-anchor=\"middle\" x=\"430\" y=\"-245.8\" font-family=\"Helvetica,sans-Serif\" font-size=\"14.00\">worst radius &lt;= 16.83</text>\n",
       "<text text-anchor=\"middle\" x=\"430\" y=\"-230.8\" font-family=\"Helvetica,sans-Serif\" font-size=\"14.00\">samples = 245</text>\n",
       "<text text-anchor=\"middle\" x=\"430\" y=\"-215.8\" font-family=\"Helvetica,sans-Serif\" font-size=\"14.00\">value = [13, 232]</text>\n",
       "<text text-anchor=\"middle\" x=\"430\" y=\"-200.8\" font-family=\"Helvetica,sans-Serif\" font-size=\"14.00\">class = Positive</text>\n",
       "</g>\n",
       "<!-- 0&#45;&gt;1 -->\n",
       "<g id=\"edge1\" class=\"edge\">\n",
       "<title>0&#45;&gt;1</title>\n",
       "<path fill=\"none\" stroke=\"black\" d=\"M494.16,-296.88C485.78,-287.89 476.61,-278.04 467.89,-268.68\"/>\n",
       "<polygon fill=\"black\" stroke=\"black\" points=\"470.39,-266.23 461.01,-261.3 465.27,-271 470.39,-266.23\"/>\n",
       "<text text-anchor=\"middle\" x=\"460.13\" y=\"-282.58\" font-family=\"Helvetica,sans-Serif\" font-size=\"14.00\">True</text>\n",
       "</g>\n",
       "<!-- 8 -->\n",
       "<g id=\"node9\" class=\"node\">\n",
       "<title>8</title>\n",
       "<polygon fill=\"#e89152\" stroke=\"black\" points=\"727,-261 561,-261 561,-193 727,-193 727,-261\"/>\n",
       "<text text-anchor=\"middle\" x=\"644\" y=\"-245.8\" font-family=\"Helvetica,sans-Serif\" font-size=\"14.00\">worst texture &lt;= 20.405</text>\n",
       "<text text-anchor=\"middle\" x=\"644\" y=\"-230.8\" font-family=\"Helvetica,sans-Serif\" font-size=\"14.00\">samples = 153</text>\n",
       "<text text-anchor=\"middle\" x=\"644\" y=\"-215.8\" font-family=\"Helvetica,sans-Serif\" font-size=\"14.00\">value = [136, 17]</text>\n",
       "<text text-anchor=\"middle\" x=\"644\" y=\"-200.8\" font-family=\"Helvetica,sans-Serif\" font-size=\"14.00\">class = Negative</text>\n",
       "</g>\n",
       "<!-- 0&#45;&gt;8 -->\n",
       "<g id=\"edge8\" class=\"edge\">\n",
       "<title>0&#45;&gt;8</title>\n",
       "<path fill=\"none\" stroke=\"black\" d=\"M563.64,-296.88C574.44,-287.62 586.3,-277.45 597.51,-267.85\"/>\n",
       "<polygon fill=\"black\" stroke=\"black\" points=\"599.84,-270.46 605.15,-261.3 595.28,-265.15 599.84,-270.46\"/>\n",
       "<text text-anchor=\"middle\" x=\"603.23\" y=\"-282.53\" font-family=\"Helvetica,sans-Serif\" font-size=\"14.00\">False</text>\n",
       "</g>\n",
       "<!-- 2 -->\n",
       "<g id=\"node3\" class=\"node\">\n",
       "<title>2</title>\n",
       "<polygon fill=\"#3d9fe6\" stroke=\"black\" points=\"269.5,-157 120.5,-157 120.5,-89 269.5,-89 269.5,-157\"/>\n",
       "<text text-anchor=\"middle\" x=\"195\" y=\"-141.8\" font-family=\"Helvetica,sans-Serif\" font-size=\"14.00\">radius error &lt;= 0.626</text>\n",
       "<text text-anchor=\"middle\" x=\"195\" y=\"-126.8\" font-family=\"Helvetica,sans-Serif\" font-size=\"14.00\">samples = 230</text>\n",
       "<text text-anchor=\"middle\" x=\"195\" y=\"-111.8\" font-family=\"Helvetica,sans-Serif\" font-size=\"14.00\">value = [5, 225]</text>\n",
       "<text text-anchor=\"middle\" x=\"195\" y=\"-96.8\" font-family=\"Helvetica,sans-Serif\" font-size=\"14.00\">class = Positive</text>\n",
       "</g>\n",
       "<!-- 1&#45;&gt;2 -->\n",
       "<g id=\"edge2\" class=\"edge\">\n",
       "<title>1&#45;&gt;2</title>\n",
       "<path fill=\"none\" stroke=\"black\" d=\"M353.7,-192.88C329.82,-182.52 303.33,-171.02 278.94,-160.44\"/>\n",
       "<polygon fill=\"black\" stroke=\"black\" points=\"280.28,-157.2 269.71,-156.43 277.49,-163.62 280.28,-157.2\"/>\n",
       "</g>\n",
       "<!-- 5 -->\n",
       "<g id=\"node6\" class=\"node\">\n",
       "<title>5</title>\n",
       "<polygon fill=\"#fcefe6\" stroke=\"black\" points=\"509.5,-157 350.5,-157 350.5,-89 509.5,-89 509.5,-157\"/>\n",
       "<text text-anchor=\"middle\" x=\"430\" y=\"-141.8\" font-family=\"Helvetica,sans-Serif\" font-size=\"14.00\">mean texture &lt;= 16.19</text>\n",
       "<text text-anchor=\"middle\" x=\"430\" y=\"-126.8\" font-family=\"Helvetica,sans-Serif\" font-size=\"14.00\">samples = 15</text>\n",
       "<text text-anchor=\"middle\" x=\"430\" y=\"-111.8\" font-family=\"Helvetica,sans-Serif\" font-size=\"14.00\">value = [8, 7]</text>\n",
       "<text text-anchor=\"middle\" x=\"430\" y=\"-96.8\" font-family=\"Helvetica,sans-Serif\" font-size=\"14.00\">class = Negative</text>\n",
       "</g>\n",
       "<!-- 1&#45;&gt;5 -->\n",
       "<g id=\"edge5\" class=\"edge\">\n",
       "<title>1&#45;&gt;5</title>\n",
       "<path fill=\"none\" stroke=\"black\" d=\"M430,-192.88C430,-184.78 430,-175.98 430,-167.47\"/>\n",
       "<polygon fill=\"black\" stroke=\"black\" points=\"433.5,-167.3 430,-157.3 426.5,-167.3 433.5,-167.3\"/>\n",
       "</g>\n",
       "<!-- 3 -->\n",
       "<g id=\"node4\" class=\"node\">\n",
       "<title>3</title>\n",
       "<polygon fill=\"#3c9ee5\" stroke=\"black\" points=\"116,-53 0,-53 0,0 116,0 116,-53\"/>\n",
       "<text text-anchor=\"middle\" x=\"58\" y=\"-37.8\" font-family=\"Helvetica,sans-Serif\" font-size=\"14.00\">samples = 227</text>\n",
       "<text text-anchor=\"middle\" x=\"58\" y=\"-22.8\" font-family=\"Helvetica,sans-Serif\" font-size=\"14.00\">value = [3, 224]</text>\n",
       "<text text-anchor=\"middle\" x=\"58\" y=\"-7.8\" font-family=\"Helvetica,sans-Serif\" font-size=\"14.00\">class = Positive</text>\n",
       "</g>\n",
       "<!-- 2&#45;&gt;3 -->\n",
       "<g id=\"edge3\" class=\"edge\">\n",
       "<title>2&#45;&gt;3</title>\n",
       "<path fill=\"none\" stroke=\"black\" d=\"M147.08,-88.95C133.03,-79.25 117.69,-68.68 103.77,-59.07\"/>\n",
       "<polygon fill=\"black\" stroke=\"black\" points=\"105.53,-56.03 95.31,-53.24 101.56,-61.8 105.53,-56.03\"/>\n",
       "</g>\n",
       "<!-- 4 -->\n",
       "<g id=\"node5\" class=\"node\">\n",
       "<title>4</title>\n",
       "<polygon fill=\"#f2c09c\" stroke=\"black\" points=\"255.5,-53 134.5,-53 134.5,0 255.5,0 255.5,-53\"/>\n",
       "<text text-anchor=\"middle\" x=\"195\" y=\"-37.8\" font-family=\"Helvetica,sans-Serif\" font-size=\"14.00\">samples = 3</text>\n",
       "<text text-anchor=\"middle\" x=\"195\" y=\"-22.8\" font-family=\"Helvetica,sans-Serif\" font-size=\"14.00\">value = [2, 1]</text>\n",
       "<text text-anchor=\"middle\" x=\"195\" y=\"-7.8\" font-family=\"Helvetica,sans-Serif\" font-size=\"14.00\">class = Negative</text>\n",
       "</g>\n",
       "<!-- 2&#45;&gt;4 -->\n",
       "<g id=\"edge4\" class=\"edge\">\n",
       "<title>2&#45;&gt;4</title>\n",
       "<path fill=\"none\" stroke=\"black\" d=\"M195,-88.95C195,-80.72 195,-71.85 195,-63.48\"/>\n",
       "<polygon fill=\"black\" stroke=\"black\" points=\"198.5,-63.24 195,-53.24 191.5,-63.24 198.5,-63.24\"/>\n",
       "</g>\n",
       "<!-- 6 -->\n",
       "<g id=\"node7\" class=\"node\">\n",
       "<title>6</title>\n",
       "<polygon fill=\"#399de5\" stroke=\"black\" points=\"390,-53 274,-53 274,0 390,0 390,-53\"/>\n",
       "<text text-anchor=\"middle\" x=\"332\" y=\"-37.8\" font-family=\"Helvetica,sans-Serif\" font-size=\"14.00\">samples = 5</text>\n",
       "<text text-anchor=\"middle\" x=\"332\" y=\"-22.8\" font-family=\"Helvetica,sans-Serif\" font-size=\"14.00\">value = [0, 5]</text>\n",
       "<text text-anchor=\"middle\" x=\"332\" y=\"-7.8\" font-family=\"Helvetica,sans-Serif\" font-size=\"14.00\">class = Positive</text>\n",
       "</g>\n",
       "<!-- 5&#45;&gt;6 -->\n",
       "<g id=\"edge6\" class=\"edge\">\n",
       "<title>5&#45;&gt;6</title>\n",
       "<path fill=\"none\" stroke=\"black\" d=\"M395.72,-88.95C386.14,-79.71 375.73,-69.67 366.16,-60.44\"/>\n",
       "<polygon fill=\"black\" stroke=\"black\" points=\"368.32,-57.66 358.69,-53.24 363.46,-62.7 368.32,-57.66\"/>\n",
       "</g>\n",
       "<!-- 7 -->\n",
       "<g id=\"node8\" class=\"node\">\n",
       "<title>7</title>\n",
       "<polygon fill=\"#eca06a\" stroke=\"black\" points=\"529.5,-53 408.5,-53 408.5,0 529.5,0 529.5,-53\"/>\n",
       "<text text-anchor=\"middle\" x=\"469\" y=\"-37.8\" font-family=\"Helvetica,sans-Serif\" font-size=\"14.00\">samples = 10</text>\n",
       "<text text-anchor=\"middle\" x=\"469\" y=\"-22.8\" font-family=\"Helvetica,sans-Serif\" font-size=\"14.00\">value = [8, 2]</text>\n",
       "<text text-anchor=\"middle\" x=\"469\" y=\"-7.8\" font-family=\"Helvetica,sans-Serif\" font-size=\"14.00\">class = Negative</text>\n",
       "</g>\n",
       "<!-- 5&#45;&gt;7 -->\n",
       "<g id=\"edge7\" class=\"edge\">\n",
       "<title>5&#45;&gt;7</title>\n",
       "<path fill=\"none\" stroke=\"black\" d=\"M443.64,-88.95C447.15,-80.44 450.94,-71.26 454.5,-62.65\"/>\n",
       "<polygon fill=\"black\" stroke=\"black\" points=\"457.8,-63.82 458.38,-53.24 451.33,-61.15 457.8,-63.82\"/>\n",
       "</g>\n",
       "<!-- 9 -->\n",
       "<g id=\"node10\" class=\"node\">\n",
       "<title>9</title>\n",
       "<polygon fill=\"#88c4ef\" stroke=\"black\" points=\"736,-157 552,-157 552,-89 736,-89 736,-157\"/>\n",
       "<text text-anchor=\"middle\" x=\"644\" y=\"-141.8\" font-family=\"Helvetica,sans-Serif\" font-size=\"14.00\">worst perimeter &lt;= 119.65</text>\n",
       "<text text-anchor=\"middle\" x=\"644\" y=\"-126.8\" font-family=\"Helvetica,sans-Serif\" font-size=\"14.00\">samples = 14</text>\n",
       "<text text-anchor=\"middle\" x=\"644\" y=\"-111.8\" font-family=\"Helvetica,sans-Serif\" font-size=\"14.00\">value = [4, 10]</text>\n",
       "<text text-anchor=\"middle\" x=\"644\" y=\"-96.8\" font-family=\"Helvetica,sans-Serif\" font-size=\"14.00\">class = Positive</text>\n",
       "</g>\n",
       "<!-- 8&#45;&gt;9 -->\n",
       "<g id=\"edge9\" class=\"edge\">\n",
       "<title>8&#45;&gt;9</title>\n",
       "<path fill=\"none\" stroke=\"black\" d=\"M644,-192.88C644,-184.78 644,-175.98 644,-167.47\"/>\n",
       "<polygon fill=\"black\" stroke=\"black\" points=\"647.5,-167.3 644,-157.3 640.5,-167.3 647.5,-167.3\"/>\n",
       "</g>\n",
       "<!-- 12 -->\n",
       "<g id=\"node13\" class=\"node\">\n",
       "<title>12</title>\n",
       "<polygon fill=\"#e68844\" stroke=\"black\" points=\"955.5,-157 804.5,-157 804.5,-89 955.5,-89 955.5,-157\"/>\n",
       "<text text-anchor=\"middle\" x=\"880\" y=\"-141.8\" font-family=\"Helvetica,sans-Serif\" font-size=\"14.00\">worst area &lt;= 718.65</text>\n",
       "<text text-anchor=\"middle\" x=\"880\" y=\"-126.8\" font-family=\"Helvetica,sans-Serif\" font-size=\"14.00\">samples = 139</text>\n",
       "<text text-anchor=\"middle\" x=\"880\" y=\"-111.8\" font-family=\"Helvetica,sans-Serif\" font-size=\"14.00\">value = [132, 7]</text>\n",
       "<text text-anchor=\"middle\" x=\"880\" y=\"-96.8\" font-family=\"Helvetica,sans-Serif\" font-size=\"14.00\">class = Negative</text>\n",
       "</g>\n",
       "<!-- 8&#45;&gt;12 -->\n",
       "<g id=\"edge12\" class=\"edge\">\n",
       "<title>8&#45;&gt;12</title>\n",
       "<path fill=\"none\" stroke=\"black\" d=\"M720.62,-192.88C744.37,-182.62 770.68,-171.25 794.97,-160.75\"/>\n",
       "<polygon fill=\"black\" stroke=\"black\" points=\"796.37,-163.96 804.17,-156.78 793.6,-157.53 796.37,-163.96\"/>\n",
       "</g>\n",
       "<!-- 10 -->\n",
       "<g id=\"node11\" class=\"node\">\n",
       "<title>10</title>\n",
       "<polygon fill=\"#399de5\" stroke=\"black\" points=\"664,-53 548,-53 548,0 664,0 664,-53\"/>\n",
       "<text text-anchor=\"middle\" x=\"606\" y=\"-37.8\" font-family=\"Helvetica,sans-Serif\" font-size=\"14.00\">samples = 10</text>\n",
       "<text text-anchor=\"middle\" x=\"606\" y=\"-22.8\" font-family=\"Helvetica,sans-Serif\" font-size=\"14.00\">value = [0, 10]</text>\n",
       "<text text-anchor=\"middle\" x=\"606\" y=\"-7.8\" font-family=\"Helvetica,sans-Serif\" font-size=\"14.00\">class = Positive</text>\n",
       "</g>\n",
       "<!-- 9&#45;&gt;10 -->\n",
       "<g id=\"edge10\" class=\"edge\">\n",
       "<title>9&#45;&gt;10</title>\n",
       "<path fill=\"none\" stroke=\"black\" d=\"M630.71,-88.95C627.29,-80.44 623.6,-71.26 620.13,-62.65\"/>\n",
       "<polygon fill=\"black\" stroke=\"black\" points=\"623.33,-61.21 616.35,-53.24 616.83,-63.82 623.33,-61.21\"/>\n",
       "</g>\n",
       "<!-- 11 -->\n",
       "<g id=\"node12\" class=\"node\">\n",
       "<title>11</title>\n",
       "<polygon fill=\"#e58139\" stroke=\"black\" points=\"803.5,-53 682.5,-53 682.5,0 803.5,0 803.5,-53\"/>\n",
       "<text text-anchor=\"middle\" x=\"743\" y=\"-37.8\" font-family=\"Helvetica,sans-Serif\" font-size=\"14.00\">samples = 4</text>\n",
       "<text text-anchor=\"middle\" x=\"743\" y=\"-22.8\" font-family=\"Helvetica,sans-Serif\" font-size=\"14.00\">value = [4, 0]</text>\n",
       "<text text-anchor=\"middle\" x=\"743\" y=\"-7.8\" font-family=\"Helvetica,sans-Serif\" font-size=\"14.00\">class = Negative</text>\n",
       "</g>\n",
       "<!-- 9&#45;&gt;11 -->\n",
       "<g id=\"edge11\" class=\"edge\">\n",
       "<title>9&#45;&gt;11</title>\n",
       "<path fill=\"none\" stroke=\"black\" d=\"M678.63,-88.95C688.4,-79.62 699.03,-69.47 708.78,-60.16\"/>\n",
       "<polygon fill=\"black\" stroke=\"black\" points=\"711.22,-62.67 716.04,-53.24 706.39,-57.61 711.22,-62.67\"/>\n",
       "</g>\n",
       "<!-- 13 -->\n",
       "<g id=\"node14\" class=\"node\">\n",
       "<title>13</title>\n",
       "<polygon fill=\"#e3f1fb\" stroke=\"black\" points=\"938,-53 822,-53 822,0 938,0 938,-53\"/>\n",
       "<text text-anchor=\"middle\" x=\"880\" y=\"-37.8\" font-family=\"Helvetica,sans-Serif\" font-size=\"14.00\">samples = 13</text>\n",
       "<text text-anchor=\"middle\" x=\"880\" y=\"-22.8\" font-family=\"Helvetica,sans-Serif\" font-size=\"14.00\">value = [6, 7]</text>\n",
       "<text text-anchor=\"middle\" x=\"880\" y=\"-7.8\" font-family=\"Helvetica,sans-Serif\" font-size=\"14.00\">class = Positive</text>\n",
       "</g>\n",
       "<!-- 12&#45;&gt;13 -->\n",
       "<g id=\"edge13\" class=\"edge\">\n",
       "<title>12&#45;&gt;13</title>\n",
       "<path fill=\"none\" stroke=\"black\" d=\"M880,-88.95C880,-80.72 880,-71.85 880,-63.48\"/>\n",
       "<polygon fill=\"black\" stroke=\"black\" points=\"883.5,-63.24 880,-53.24 876.5,-63.24 883.5,-63.24\"/>\n",
       "</g>\n",
       "<!-- 14 -->\n",
       "<g id=\"node15\" class=\"node\">\n",
       "<title>14</title>\n",
       "<polygon fill=\"#e58139\" stroke=\"black\" points=\"1077.5,-53 956.5,-53 956.5,0 1077.5,0 1077.5,-53\"/>\n",
       "<text text-anchor=\"middle\" x=\"1017\" y=\"-37.8\" font-family=\"Helvetica,sans-Serif\" font-size=\"14.00\">samples = 126</text>\n",
       "<text text-anchor=\"middle\" x=\"1017\" y=\"-22.8\" font-family=\"Helvetica,sans-Serif\" font-size=\"14.00\">value = [126, 0]</text>\n",
       "<text text-anchor=\"middle\" x=\"1017\" y=\"-7.8\" font-family=\"Helvetica,sans-Serif\" font-size=\"14.00\">class = Negative</text>\n",
       "</g>\n",
       "<!-- 12&#45;&gt;14 -->\n",
       "<g id=\"edge14\" class=\"edge\">\n",
       "<title>12&#45;&gt;14</title>\n",
       "<path fill=\"none\" stroke=\"black\" d=\"M927.92,-88.95C941.97,-79.25 957.31,-68.68 971.23,-59.07\"/>\n",
       "<polygon fill=\"black\" stroke=\"black\" points=\"973.44,-61.8 979.69,-53.24 969.47,-56.03 973.44,-61.8\"/>\n",
       "</g>\n",
       "</g>\n",
       "</svg>\n"
      ],
      "text/plain": [
       "<graphviz.sources.Source at 0x1a6cad1d730>"
      ]
     },
     "execution_count": 12,
     "metadata": {},
     "output_type": "execute_result"
    }
   ],
   "source": [
    "import graphviz\n",
    "\n",
    "# tree.dot 파일 불러오기\n",
    "with open(\"tree.dot\") as f:\n",
    "    dot_graph=f.read()\n",
    "\n",
    "# tree.dot 파일의 그래프 출력\n",
    "graphviz.Source(dot_graph)\n",
    "\n",
    "# 첫 번째 분기: Negative samples 149, Positive samples 249 -> class = Positive\n",
    "# mean concave points 0.051 이하이면 True, 아니면 False로 다음 분기 이동\n",
    "# 분기점 찾고 Negative, Positive 나누는 작업 반복(max_depth: 3)"
   ]
  },
  {
   "cell_type": "markdown",
   "metadata": {
    "id": "61fbSbn5SJYK"
   },
   "source": [
    "### Decision Tree의 특성 중요도\n"
   ]
  },
  {
   "cell_type": "code",
   "execution_count": 13,
   "metadata": {
    "id": "c3gsKucXQT2E"
   },
   "outputs": [
    {
     "name": "stdout",
     "output_type": "stream",
     "text": [
      "['mean radius' 'mean texture' 'mean perimeter' 'mean area'\n",
      " 'mean smoothness' 'mean compactness' 'mean concavity'\n",
      " 'mean concave points' 'mean symmetry' 'mean fractal dimension'\n",
      " 'radius error' 'texture error' 'perimeter error' 'area error'\n",
      " 'smoothness error' 'compactness error' 'concavity error'\n",
      " 'concave points error' 'symmetry error' 'fractal dimension error'\n",
      " 'worst radius' 'worst texture' 'worst perimeter' 'worst area'\n",
      " 'worst smoothness' 'worst compactness' 'worst concavity'\n",
      " 'worst concave points' 'worst symmetry' 'worst fractal dimension']\n",
      "\n",
      "특성 중요도\n",
      "[0.         0.02516887 0.         0.         0.         0.\n",
      " 0.         0.77627009 0.         0.         0.01491592 0.\n",
      " 0.         0.         0.         0.         0.         0.\n",
      " 0.         0.         0.04348197 0.0661448  0.0337083  0.04031006\n",
      " 0.         0.         0.         0.         0.         0.        ]\n"
     ]
    }
   ],
   "source": [
    "# feature 이름 출력\n",
    "print(cancer.feature_names)\n",
    "print()\n",
    "\n",
    "# 특성 중요도 출력\n",
    "print('특성 중요도')\n",
    "print(dt_clf.feature_importances_)"
   ]
  },
  {
   "cell_type": "code",
   "execution_count": 14,
   "metadata": {
    "id": "YzT3vlU8QT2E",
    "scrolled": true
   },
   "outputs": [
    {
     "data": {
      "text/html": [
       "<div>\n",
       "<style scoped>\n",
       "    .dataframe tbody tr th:only-of-type {\n",
       "        vertical-align: middle;\n",
       "    }\n",
       "\n",
       "    .dataframe tbody tr th {\n",
       "        vertical-align: top;\n",
       "    }\n",
       "\n",
       "    .dataframe thead th {\n",
       "        text-align: right;\n",
       "    }\n",
       "</style>\n",
       "<table border=\"1\" class=\"dataframe\">\n",
       "  <thead>\n",
       "    <tr style=\"text-align: right;\">\n",
       "      <th></th>\n",
       "      <th>FeatureName</th>\n",
       "      <th>Importance</th>\n",
       "    </tr>\n",
       "  </thead>\n",
       "  <tbody>\n",
       "    <tr>\n",
       "      <th>7</th>\n",
       "      <td>mean concave points</td>\n",
       "      <td>0.776270</td>\n",
       "    </tr>\n",
       "    <tr>\n",
       "      <th>21</th>\n",
       "      <td>worst texture</td>\n",
       "      <td>0.066145</td>\n",
       "    </tr>\n",
       "    <tr>\n",
       "      <th>20</th>\n",
       "      <td>worst radius</td>\n",
       "      <td>0.043482</td>\n",
       "    </tr>\n",
       "    <tr>\n",
       "      <th>23</th>\n",
       "      <td>worst area</td>\n",
       "      <td>0.040310</td>\n",
       "    </tr>\n",
       "    <tr>\n",
       "      <th>22</th>\n",
       "      <td>worst perimeter</td>\n",
       "      <td>0.033708</td>\n",
       "    </tr>\n",
       "    <tr>\n",
       "      <th>1</th>\n",
       "      <td>mean texture</td>\n",
       "      <td>0.025169</td>\n",
       "    </tr>\n",
       "    <tr>\n",
       "      <th>10</th>\n",
       "      <td>radius error</td>\n",
       "      <td>0.014916</td>\n",
       "    </tr>\n",
       "    <tr>\n",
       "      <th>0</th>\n",
       "      <td>mean radius</td>\n",
       "      <td>0.000000</td>\n",
       "    </tr>\n",
       "    <tr>\n",
       "      <th>17</th>\n",
       "      <td>concave points error</td>\n",
       "      <td>0.000000</td>\n",
       "    </tr>\n",
       "    <tr>\n",
       "      <th>28</th>\n",
       "      <td>worst symmetry</td>\n",
       "      <td>0.000000</td>\n",
       "    </tr>\n",
       "    <tr>\n",
       "      <th>27</th>\n",
       "      <td>worst concave points</td>\n",
       "      <td>0.000000</td>\n",
       "    </tr>\n",
       "    <tr>\n",
       "      <th>26</th>\n",
       "      <td>worst concavity</td>\n",
       "      <td>0.000000</td>\n",
       "    </tr>\n",
       "    <tr>\n",
       "      <th>25</th>\n",
       "      <td>worst compactness</td>\n",
       "      <td>0.000000</td>\n",
       "    </tr>\n",
       "    <tr>\n",
       "      <th>24</th>\n",
       "      <td>worst smoothness</td>\n",
       "      <td>0.000000</td>\n",
       "    </tr>\n",
       "    <tr>\n",
       "      <th>19</th>\n",
       "      <td>fractal dimension error</td>\n",
       "      <td>0.000000</td>\n",
       "    </tr>\n",
       "    <tr>\n",
       "      <th>18</th>\n",
       "      <td>symmetry error</td>\n",
       "      <td>0.000000</td>\n",
       "    </tr>\n",
       "    <tr>\n",
       "      <th>15</th>\n",
       "      <td>compactness error</td>\n",
       "      <td>0.000000</td>\n",
       "    </tr>\n",
       "    <tr>\n",
       "      <th>16</th>\n",
       "      <td>concavity error</td>\n",
       "      <td>0.000000</td>\n",
       "    </tr>\n",
       "    <tr>\n",
       "      <th>14</th>\n",
       "      <td>smoothness error</td>\n",
       "      <td>0.000000</td>\n",
       "    </tr>\n",
       "    <tr>\n",
       "      <th>13</th>\n",
       "      <td>area error</td>\n",
       "      <td>0.000000</td>\n",
       "    </tr>\n",
       "    <tr>\n",
       "      <th>12</th>\n",
       "      <td>perimeter error</td>\n",
       "      <td>0.000000</td>\n",
       "    </tr>\n",
       "    <tr>\n",
       "      <th>11</th>\n",
       "      <td>texture error</td>\n",
       "      <td>0.000000</td>\n",
       "    </tr>\n",
       "    <tr>\n",
       "      <th>9</th>\n",
       "      <td>mean fractal dimension</td>\n",
       "      <td>0.000000</td>\n",
       "    </tr>\n",
       "    <tr>\n",
       "      <th>8</th>\n",
       "      <td>mean symmetry</td>\n",
       "      <td>0.000000</td>\n",
       "    </tr>\n",
       "    <tr>\n",
       "      <th>6</th>\n",
       "      <td>mean concavity</td>\n",
       "      <td>0.000000</td>\n",
       "    </tr>\n",
       "    <tr>\n",
       "      <th>5</th>\n",
       "      <td>mean compactness</td>\n",
       "      <td>0.000000</td>\n",
       "    </tr>\n",
       "    <tr>\n",
       "      <th>4</th>\n",
       "      <td>mean smoothness</td>\n",
       "      <td>0.000000</td>\n",
       "    </tr>\n",
       "    <tr>\n",
       "      <th>3</th>\n",
       "      <td>mean area</td>\n",
       "      <td>0.000000</td>\n",
       "    </tr>\n",
       "    <tr>\n",
       "      <th>2</th>\n",
       "      <td>mean perimeter</td>\n",
       "      <td>0.000000</td>\n",
       "    </tr>\n",
       "    <tr>\n",
       "      <th>29</th>\n",
       "      <td>worst fractal dimension</td>\n",
       "      <td>0.000000</td>\n",
       "    </tr>\n",
       "  </tbody>\n",
       "</table>\n",
       "</div>"
      ],
      "text/plain": [
       "                FeatureName  Importance\n",
       "7       mean concave points    0.776270\n",
       "21            worst texture    0.066145\n",
       "20             worst radius    0.043482\n",
       "23               worst area    0.040310\n",
       "22          worst perimeter    0.033708\n",
       "1              mean texture    0.025169\n",
       "10             radius error    0.014916\n",
       "0               mean radius    0.000000\n",
       "17     concave points error    0.000000\n",
       "28           worst symmetry    0.000000\n",
       "27     worst concave points    0.000000\n",
       "26          worst concavity    0.000000\n",
       "25        worst compactness    0.000000\n",
       "24         worst smoothness    0.000000\n",
       "19  fractal dimension error    0.000000\n",
       "18           symmetry error    0.000000\n",
       "15        compactness error    0.000000\n",
       "16          concavity error    0.000000\n",
       "14         smoothness error    0.000000\n",
       "13               area error    0.000000\n",
       "12          perimeter error    0.000000\n",
       "11            texture error    0.000000\n",
       "9    mean fractal dimension    0.000000\n",
       "8             mean symmetry    0.000000\n",
       "6            mean concavity    0.000000\n",
       "5          mean compactness    0.000000\n",
       "4           mean smoothness    0.000000\n",
       "3                 mean area    0.000000\n",
       "2            mean perimeter    0.000000\n",
       "29  worst fractal dimension    0.000000"
      ]
     },
     "execution_count": 14,
     "metadata": {},
     "output_type": "execute_result"
    }
   ],
   "source": [
    "# dt_clf의 특성 중요도를 데이터프레임에 저장\n",
    "\n",
    "import pandas as pd\n",
    "\n",
    "# cancer의 feature_names를 col_name에 저장\n",
    "col_name = cancer.feature_names\n",
    "\n",
    "# feature_importances_를 imp에 저장\n",
    "imp = dt_clf.feature_importances_\n",
    "\n",
    "# col_name과 imp를 dictionary 형태로 저장\n",
    "dic_imp = {'FeatureName':col_name, 'Importance':imp}\n",
    "\n",
    "# dic_imp를 데이터프레임에 저장\n",
    "df_feature_imp = pd.DataFrame(dic_imp)\n",
    "\n",
    "# 특성 중요도를 기준으로 df_feature_imp 내림차순 정렬\n",
    "df_feature_imp =  df_feature_imp.sort_values(by='Importance', ascending=False)\n",
    "df_feature_imp"
   ]
  },
  {
   "cell_type": "code",
   "execution_count": 15,
   "metadata": {
    "colab": {
     "base_uri": "https://localhost:8080/",
     "height": 279
    },
    "executionInfo": {
     "elapsed": 889,
     "status": "ok",
     "timestamp": 1656168249185,
     "user": {
      "displayName": "HI Lee",
      "userId": "04262798284985525111"
     },
     "user_tz": -540
    },
    "id": "6aNQn6XfaMyb",
    "outputId": "c5d4bc7e-ae29-40d6-c843-3f51aac3a548"
   },
   "outputs": [
    {
     "data": {
      "image/png": "[encoded data removed]",
      "text/plain": [
       "<Figure size 432x288 with 1 Axes>"
      ]
     },
     "metadata": {
      "needs_background": "light"
     },
     "output_type": "display_data"
    }
   ],
   "source": [
    "# 특성 중요도가 0보다 큰 변수들만 수평 막대그래프로 시각화\n",
    "\n",
    "import matplotlib.pyplot as plt\n",
    "import seaborn as sns\n",
    "import numpy as np\n",
    "\n",
    "# Importance가 0보다 큰 feature만 df 데이터프레임에 저장(pandas의 loc)\n",
    "df = df_feature_imp.loc[df_feature_imp['Importance'] > 0]\n",
    "\n",
    "# barplot 출력\n",
    "sns.barplot(x='Importance', y='FeatureName', data=df)\n",
    "plt.grid(linestyle=':')"
   ]
  },
  {
   "cell_type": "code",
   "execution_count": 16,
   "metadata": {
    "colab": {
     "base_uri": "https://localhost:8080/",
     "height": 280
    },
    "executionInfo": {
     "elapsed": 479,
     "status": "ok",
     "timestamp": 1656168353137,
     "user": {
      "displayName": "HI Lee",
      "userId": "04262798284985525111"
     },
     "user_tz": -540
    },
    "id": "FAPQ5NYqbK-6",
    "outputId": "a83038d9-5d3d-46c1-c8d0-c774d377344a"
   },
   "outputs": [
    {
     "data": {
      "image/png": "[encoded data removed]",
      "text/plain": [
       "<Figure size 432x288 with 1 Axes>"
      ]
     },
     "metadata": {
      "needs_background": "light"
     },
     "output_type": "display_data"
    }
   ],
   "source": [
    "# 중요도가 가장 높은 변수 2개로 데이터 시각화('mean concave points', 'worst texture')\n",
    "\n",
    "# cancer.data(feature)를 데이터프레임에 저장\n",
    "df_data = pd.DataFrame(cancer.data, columns=cancer.feature_names)\n",
    "\n",
    "# target 데이터를 담은 'diagnosis' 컬럼 생성\n",
    "df_data['diagnosis'] = cancer.target\n",
    "\n",
    "# scatterplot 출력: mean concave points, worst texture -> diagnosis로 구분\n",
    "s = sns.scatterplot(x='mean concave points', y='worst texture', hue='diagnosis', data=df_data)\n",
    "\n",
    "s.legend_.texts[0].set_text('malignant')\n",
    "s.legend_.texts[1].set_text('benign')"
   ]
  },
  {
   "cell_type": "markdown",
   "metadata": {
    "id": "tfO0G7BgQT2F"
   },
   "source": [
    "### GridSearchCV 하이퍼 파라미터 튜닝"
   ]
  },
  {
   "cell_type": "code",
   "execution_count": 17,
   "metadata": {
    "id": "4RHuPq9QQT2F"
   },
   "outputs": [
    {
     "data": {
      "text/plain": [
       "GridSearchCV(cv=3, estimator=DecisionTreeClassifier(random_state=0),\n",
       "             param_grid={'max_depth': [2, 3, 4, 5, 6, 7, 8],\n",
       "                         'min_samples_split': [2, 3, 4, 5]})"
      ]
     },
     "execution_count": 17,
     "metadata": {},
     "output_type": "execute_result"
    }
   ],
   "source": [
    "from sklearn.tree import DecisionTreeClassifier\n",
    "from sklearn.model_selection import GridSearchCV\n",
    "\n",
    "# DecisionTreeClassifier 객체 생성\n",
    "dtree = DecisionTreeClassifier(random_state=0)\n",
    "\n",
    "# 하이퍼 파라미터 dictionary 생성\n",
    "parameters = {'max_depth':[2, 3, 4, 5, 6, 7, 8], 'min_samples_split':[2, 3, 4, 5]}\n",
    "\n",
    "# GridSearchCV 수행(cv=3)\n",
    "grid_dtree = GridSearchCV(dtree, param_grid=parameters, cv=3)\n",
    "\n",
    "# 모델 학습\n",
    "grid_dtree.fit(x_train, y_train)"
   ]
  },
  {
   "cell_type": "code",
   "execution_count": 18,
   "metadata": {
    "id": "jGgp5O0eQT2F"
   },
   "outputs": [
    {
     "name": "stdout",
     "output_type": "stream",
     "text": [
      "Optimal parameter: {'max_depth': 4, 'min_samples_split': 4}\n",
      "Max accuracy: 0.9347\n"
     ]
    }
   ],
   "source": [
    "# 최적의 파라미터(best_params_)와 최고의 정확도(best_score_) 출력\n",
    "print('Optimal parameter:', grid_dtree.best_params_)\n",
    "print(f'Max accuracy: {grid_dtree.best_score_:.4f}') "
   ]
  },
  {
   "cell_type": "code",
   "execution_count": 19,
   "metadata": {
    "colab": {
     "base_uri": "https://localhost:8080/"
    },
    "executionInfo": {
     "elapsed": 272,
     "status": "ok",
     "timestamp": 1656168640099,
     "user": {
      "displayName": "HI Lee",
      "userId": "04262798284985525111"
     },
     "user_tz": -540
    },
    "id": "7DqdxHdAQT2G",
    "outputId": "7d9ed079-651b-4807-a3c3-991400c8c702"
   },
   "outputs": [
    {
     "name": "stdout",
     "output_type": "stream",
     "text": [
      "Test datast accuracy: 0.9474\n"
     ]
    }
   ],
   "source": [
    "from sklearn.metrics import accuracy_score\n",
    "\n",
    "# 최적의 파라미터로 예측 수행\n",
    "grid_pred = grid_dtree.predict(x_test)\n",
    "\n",
    "# 예측 정확도 출력\n",
    "accur = accuracy_score(y_test, grid_pred)\n",
    "print(f'Test datast accuracy: {accur:.4f}')"
   ]
  },
  {
   "cell_type": "markdown",
   "metadata": {
    "id": "ub_r8QC-QT2G"
   },
   "source": [
    "### 성능 지표"
   ]
  },
  {
   "cell_type": "code",
   "execution_count": 20,
   "metadata": {
    "id": "k7XLgNV4QT2G",
    "outputId": "34ab3402-942a-4cbb-9e06-a8a4bfb0b288"
   },
   "outputs": [
    {
     "data": {
      "text/plain": [
       "array([[ 59,   4],\n",
       "       [  5, 103]], dtype=int64)"
      ]
     },
     "execution_count": 20,
     "metadata": {},
     "output_type": "execute_result"
    }
   ],
   "source": [
    "from sklearn.metrics import confusion_matrix, f1_score\n",
    "\n",
    "# 정오 행렬 출력\n",
    "confusion_matrix(y_test, grid_pred)"
   ]
  },
  {
   "cell_type": "code",
   "execution_count": 24,
   "metadata": {
    "scrolled": true
   },
   "outputs": [
    {
     "data": {
      "text/plain": [
       "array(['malignant', 'benign'], dtype='<U9')"
      ]
     },
     "execution_count": 24,
     "metadata": {},
     "output_type": "execute_result"
    }
   ],
   "source": [
    "cancer.target_names"
   ]
  },
  {
   "cell_type": "code",
   "execution_count": 25,
   "metadata": {
    "id": "26wyXRoJQT2G",
    "outputId": "a3e50946-12c7-48c7-f875-6033cf2e7e3c"
   },
   "outputs": [
    {
     "data": {
      "image/png": "[encoded data removed]",
      "text/plain": [
       "<Figure size 432x288 with 2 Axes>"
      ]
     },
     "metadata": {
      "needs_background": "light"
     },
     "output_type": "display_data"
    }
   ],
   "source": [
    "# 히트맵으로 정오 행렬 출력(malignant: 0, benign: 1)\n",
    "sns.heatmap(confusion_matrix(y_test, grid_pred), annot=True, cmap='Blues', fmt='d')\n",
    "plt.xlabel('Predict')\n",
    "plt.ylabel('Actual')\n",
    "plt.show()"
   ]
  },
  {
   "cell_type": "code",
   "execution_count": 26,
   "metadata": {
    "id": "nehLw-F-QT2H",
    "outputId": "0aa80a73-338a-4d5f-ac3a-b9c02141c3a0"
   },
   "outputs": [
    {
     "name": "stdout",
     "output_type": "stream",
     "text": [
      "Accuracy(Test): 0.9474\n",
      "Precision(Test): 0.9626\n",
      "Recall(Test): 0.9537\n",
      "F1 Score(Test): 0.9581\n"
     ]
    }
   ],
   "source": [
    "# 성능 지표 출력\n",
    "\n",
    "from sklearn.metrics import precision_score, recall_score, f1_score\n",
    "\n",
    "acccuracy = accuracy_score(y_test, grid_pred)\n",
    "precision = precision_score(y_test, grid_pred)\n",
    "recall = recall_score(y_test, grid_pred)\n",
    "f1 = f1_score(y_test, grid_pred)\n",
    "\n",
    "print(f'Accuracy(Test): {acccuracy:.4f}')\n",
    "print(f'Precision(Test): {precision:.4f}')\n",
    "print(f'Recall(Test): {recall:.4f}')\n",
    "print(f'F1 Score(Test): {f1:.4f}')"
   ]
  }
 ],
 "metadata": {
  "colab": {
   "collapsed_sections": [],
   "name": "8_분류_의사결정나무-문제.ipynb",
   "provenance": [
    {
     "file_id": "1_uQ4Em66Uvs6Xxs-b04t_cgac8SxwPin",
     "timestamp": 1656168798916
    }
   ]
  },
  "kernelspec": {
   "display_name": "Python 3 (ipykernel)",
   "language": "python",
   "name": "python3"
  },
  "language_info": {
   "codemirror_mode": {
    "name": "ipython",
    "version": 3
   },
   "file_extension": ".py",
   "mimetype": "text/x-python",
   "name": "python",
   "nbconvert_exporter": "python",
   "pygments_lexer": "ipython3",
   "version": "3.9.12"
  },
  "toc": {
   "base_numbering": 1,
   "nav_menu": {},
   "number_sections": true,
   "sideBar": true,
   "skip_h1_title": false,
   "title_cell": "Table of Contents",
   "title_sidebar": "Contents",
   "toc_cell": false,
   "toc_position": {},
   "toc_section_display": true,
   "toc_window_display": false
  },
  "varInspector": {
   "cols": {
    "lenName": 16,
    "lenType": 16,
    "lenVar": 40
   },
   "kernels_config": {
    "python": {
     "delete_cmd_postfix": "",
     "delete_cmd_prefix": "del ",
     "library": "var_list.py",
     "varRefreshCmd": "print(var_dic_list())"
    },
    "r": {
     "delete_cmd_postfix": ") ",
     "delete_cmd_prefix": "rm(",
     "library": "var_list.r",
     "varRefreshCmd": "cat(var_dic_list()) "
    }
   },
   "types_to_exclude": [
    "module",
    "function",
    "builtin_function_or_method",
    "instance",
    "_Feature"
   ],
   "window_display": false
  }
 },
 "nbformat": 4,
 "nbformat_minor": 1
}
