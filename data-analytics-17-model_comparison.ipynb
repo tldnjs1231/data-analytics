{
 "cells": [
  {
   "cell_type": "markdown",
   "metadata": {
    "id": "4w25biB_5-G4"
   },
   "source": [
    "## 회귀(regression) 예측 모델 성능 비교"
   ]
  },
  {
   "cell_type": "markdown",
   "metadata": {
    "id": "xlUKcoPiJid2"
   },
   "source": [
    "[공식문서](https://scikit-learn.org/stable/supervised_learning.html#supervised-learning)"
   ]
  },
  {
   "cell_type": "code",
   "execution_count": 1,
   "metadata": {
    "id": "4ozZxnwpv7Dg"
   },
   "outputs": [],
   "source": [
    "import pandas as pd\n",
    "import numpy as np\n",
    "import warnings\n",
    "\n",
    "warnings.filterwarnings(\"ignore\")"
   ]
  },
  {
   "cell_type": "markdown",
   "metadata": {
    "id": "sIqBLdbnu-7_"
   },
   "source": [
    "## 보스턴 주택가격 데이터 로드"
   ]
  },
  {
   "cell_type": "code",
   "execution_count": 2,
   "metadata": {
    "id": "Og6aM-_7wIEG"
   },
   "outputs": [],
   "source": [
    "from sklearn.datasets import load_boston"
   ]
  },
  {
   "cell_type": "code",
   "execution_count": 3,
   "metadata": {
    "id": "DHjz2_orwMHe"
   },
   "outputs": [],
   "source": [
    "# 데이터 로드\n",
    "boston = load_boston()"
   ]
  },
  {
   "cell_type": "code",
   "execution_count": 4,
   "metadata": {
    "id": "pIhh3ThhwRed"
   },
   "outputs": [],
   "source": [
    "# 보스턴 주택가격 데이터프레임 생성\n",
    "df = pd.DataFrame(boston.data, columns=boston.feature_names)"
   ]
  },
  {
   "cell_type": "code",
   "execution_count": 5,
   "metadata": {
    "id": "zwp9xs9JRFFD"
   },
   "outputs": [],
   "source": [
    "# 데이터프레임에 target 데이터 추가(PRICE 컬럼 생성)\n",
    "df['PRICE'] = boston.target"
   ]
  },
  {
   "cell_type": "code",
   "execution_count": 6,
   "metadata": {
    "id": "qEcK8Erlwi7a"
   },
   "outputs": [
    {
     "data": {
      "text/html": [
       "<div>\n",
       "<style scoped>\n",
       "    .dataframe tbody tr th:only-of-type {\n",
       "        vertical-align: middle;\n",
       "    }\n",
       "\n",
       "    .dataframe tbody tr th {\n",
       "        vertical-align: top;\n",
       "    }\n",
       "\n",
       "    .dataframe thead th {\n",
       "        text-align: right;\n",
       "    }\n",
       "</style>\n",
       "<table border=\"1\" class=\"dataframe\">\n",
       "  <thead>\n",
       "    <tr style=\"text-align: right;\">\n",
       "      <th></th>\n",
       "      <th>CRIM</th>\n",
       "      <th>ZN</th>\n",
       "      <th>INDUS</th>\n",
       "      <th>CHAS</th>\n",
       "      <th>NOX</th>\n",
       "      <th>RM</th>\n",
       "      <th>AGE</th>\n",
       "      <th>DIS</th>\n",
       "      <th>RAD</th>\n",
       "      <th>TAX</th>\n",
       "      <th>PTRATIO</th>\n",
       "      <th>B</th>\n",
       "      <th>LSTAT</th>\n",
       "      <th>PRICE</th>\n",
       "    </tr>\n",
       "  </thead>\n",
       "  <tbody>\n",
       "    <tr>\n",
       "      <th>0</th>\n",
       "      <td>0.00632</td>\n",
       "      <td>18.0</td>\n",
       "      <td>2.31</td>\n",
       "      <td>0.0</td>\n",
       "      <td>0.538</td>\n",
       "      <td>6.575</td>\n",
       "      <td>65.2</td>\n",
       "      <td>4.0900</td>\n",
       "      <td>1.0</td>\n",
       "      <td>296.0</td>\n",
       "      <td>15.3</td>\n",
       "      <td>396.90</td>\n",
       "      <td>4.98</td>\n",
       "      <td>24.0</td>\n",
       "    </tr>\n",
       "    <tr>\n",
       "      <th>1</th>\n",
       "      <td>0.02731</td>\n",
       "      <td>0.0</td>\n",
       "      <td>7.07</td>\n",
       "      <td>0.0</td>\n",
       "      <td>0.469</td>\n",
       "      <td>6.421</td>\n",
       "      <td>78.9</td>\n",
       "      <td>4.9671</td>\n",
       "      <td>2.0</td>\n",
       "      <td>242.0</td>\n",
       "      <td>17.8</td>\n",
       "      <td>396.90</td>\n",
       "      <td>9.14</td>\n",
       "      <td>21.6</td>\n",
       "    </tr>\n",
       "    <tr>\n",
       "      <th>2</th>\n",
       "      <td>0.02729</td>\n",
       "      <td>0.0</td>\n",
       "      <td>7.07</td>\n",
       "      <td>0.0</td>\n",
       "      <td>0.469</td>\n",
       "      <td>7.185</td>\n",
       "      <td>61.1</td>\n",
       "      <td>4.9671</td>\n",
       "      <td>2.0</td>\n",
       "      <td>242.0</td>\n",
       "      <td>17.8</td>\n",
       "      <td>392.83</td>\n",
       "      <td>4.03</td>\n",
       "      <td>34.7</td>\n",
       "    </tr>\n",
       "    <tr>\n",
       "      <th>3</th>\n",
       "      <td>0.03237</td>\n",
       "      <td>0.0</td>\n",
       "      <td>2.18</td>\n",
       "      <td>0.0</td>\n",
       "      <td>0.458</td>\n",
       "      <td>6.998</td>\n",
       "      <td>45.8</td>\n",
       "      <td>6.0622</td>\n",
       "      <td>3.0</td>\n",
       "      <td>222.0</td>\n",
       "      <td>18.7</td>\n",
       "      <td>394.63</td>\n",
       "      <td>2.94</td>\n",
       "      <td>33.4</td>\n",
       "    </tr>\n",
       "    <tr>\n",
       "      <th>4</th>\n",
       "      <td>0.06905</td>\n",
       "      <td>0.0</td>\n",
       "      <td>2.18</td>\n",
       "      <td>0.0</td>\n",
       "      <td>0.458</td>\n",
       "      <td>7.147</td>\n",
       "      <td>54.2</td>\n",
       "      <td>6.0622</td>\n",
       "      <td>3.0</td>\n",
       "      <td>222.0</td>\n",
       "      <td>18.7</td>\n",
       "      <td>396.90</td>\n",
       "      <td>5.33</td>\n",
       "      <td>36.2</td>\n",
       "    </tr>\n",
       "  </tbody>\n",
       "</table>\n",
       "</div>"
      ],
      "text/plain": [
       "      CRIM    ZN  INDUS  CHAS    NOX     RM   AGE     DIS  RAD    TAX  \\\n",
       "0  0.00632  18.0   2.31   0.0  0.538  6.575  65.2  4.0900  1.0  296.0   \n",
       "1  0.02731   0.0   7.07   0.0  0.469  6.421  78.9  4.9671  2.0  242.0   \n",
       "2  0.02729   0.0   7.07   0.0  0.469  7.185  61.1  4.9671  2.0  242.0   \n",
       "3  0.03237   0.0   2.18   0.0  0.458  6.998  45.8  6.0622  3.0  222.0   \n",
       "4  0.06905   0.0   2.18   0.0  0.458  7.147  54.2  6.0622  3.0  222.0   \n",
       "\n",
       "   PTRATIO       B  LSTAT  PRICE  \n",
       "0     15.3  396.90   4.98   24.0  \n",
       "1     17.8  396.90   9.14   21.6  \n",
       "2     17.8  392.83   4.03   34.7  \n",
       "3     18.7  394.63   2.94   33.4  \n",
       "4     18.7  396.90   5.33   36.2  "
      ]
     },
     "execution_count": 6,
     "metadata": {},
     "output_type": "execute_result"
    }
   ],
   "source": [
    "df.head()"
   ]
  },
  {
   "cell_type": "markdown",
   "metadata": {
    "id": "2OJKxGHGQyra"
   },
   "source": [
    "**컬럼 소개**\n",
    "\n",
    "속성 수 : 13\n",
    "\n",
    "* **CRIM**: 범죄율\n",
    "* **ZN**: 25,000 평방 피트 당 주거용 토지의 비율\n",
    "* **INDUS**: 비소매(non-retail) 비즈니스 면적 비율\n",
    "* **CHAS**: 찰스 강 더미 변수 (통로가 하천을 향하면 1; 그렇지 않으면 0)\n",
    "* **NOX**: 산화 질소 농도 (천만 분의 1)\n",
    "* **RM**:주거 당 평균 객실 수\n",
    "* **AGE**: 1940 년 이전에 건축된 자가 소유 점유 비율\n",
    "* **DIS**: 5 개의 보스턴 고용 센터까지의 가중 거리     \n",
    "* **RAD**: 고속도로 접근성 지수\n",
    "* **TAX**: 10,000 달러 당 전체 가치 재산 세율\n",
    "* **PTRATIO**  도시 별 학생-교사 비율\n",
    "* **B**: 1000 (Bk-0.63) ^ 2 여기서 Bk는 도시 별 검정 비율입니다.\n",
    "* **LSTAT**: 인구의 낮은 지위\n",
    "* **MEDV**: 자가 주택의 중앙값 (1,000 달러 단위)"
   ]
  },
  {
   "cell_type": "markdown",
   "metadata": {
    "id": "g1sJLkENt18N"
   },
   "source": [
    "## 데이터셋 분리"
   ]
  },
  {
   "cell_type": "code",
   "execution_count": 7,
   "metadata": {
    "id": "Jt8fMUFYELEQ"
   },
   "outputs": [],
   "source": [
    "from sklearn.model_selection import train_test_split"
   ]
  },
  {
   "cell_type": "code",
   "execution_count": 8,
   "metadata": {
    "id": "CiT58Hq3EK-l"
   },
   "outputs": [],
   "source": [
    "y_target = df['PRICE'] # target 데이터\n",
    "x_data = df.drop(['PRICE'], axis=1) # target 데이터를 제외한 feature\n",
    "\n",
    "# 학습/테스트 데이터 분할(test_size: 30%)\n",
    "x_train, x_test, y_train, y_test = train_test_split(x_data, y_target,\n",
    "                                                   test_size=0.3, random_state=156)"
   ]
  },
  {
   "cell_type": "code",
   "execution_count": 9,
   "metadata": {
    "colab": {
     "base_uri": "https://localhost:8080/"
    },
    "executionInfo": {
     "elapsed": 288,
     "status": "ok",
     "timestamp": 1656191735258,
     "user": {
      "displayName": "HI Lee",
      "userId": "04262798284985525111"
     },
     "user_tz": -540
    },
    "id": "vCfOM_LDviy6",
    "outputId": "15015efc-1bb0-4e48-85fd-f076c2cbd9d9"
   },
   "outputs": [
    {
     "data": {
      "text/plain": [
       "((354, 13), (152, 13))"
      ]
     },
     "execution_count": 9,
     "metadata": {},
     "output_type": "execute_result"
    }
   ],
   "source": [
    "# x_train, x_test 크기 확인(7:3 분할된 학습/테스트 데이터)\n",
    "x_train.shape, x_test.shape"
   ]
  },
  {
   "cell_type": "markdown",
   "metadata": {
    "id": "Yt9pqvyOGW0N"
   },
   "source": [
    "### 모델 별 성능 확인을 위한 함수"
   ]
  },
  {
   "cell_type": "code",
   "execution_count": 10,
   "metadata": {
    "id": "X07ZYxxQtZtD"
   },
   "outputs": [],
   "source": [
    "import matplotlib.pyplot as plt\n",
    "import seaborn as sns\n",
    "from sklearn.metrics import mean_squared_error\n",
    "\n",
    "\n",
    "# 무작위로 그래프 색상을 선택하기 위한 색상 list\n",
    "colors = ['b','g','r', 'c', 'm', 'y', 'k', \n",
    "          'lightcoral', 'mistyrose', 'tomato', 'darkred', 'sienna',\n",
    "          'forestgreen', 'royalblue', 'orange', 'lemonchiffon','skyblue',\n",
    "          'chocolate', 'greenyellow','lime','aqua','lightpink','lightgreen',\n",
    "          'gold', 'seagreen', 'deepskyblue', 'steelblue', 'slategray']\n",
    "\n",
    "\n",
    "# 1) plot_pred_actual()\n",
    "# 실제값과 예측값을 scatter plot으로 보여주는 함수\n",
    "# 실제값은 'x'로, 예측값은 'o'로 표시하여 어느정도 차이를 보이는지 확인\n",
    "\n",
    "def plot_pred_actual(pred, actual):\n",
    "    \n",
    "    df = pd.DataFrame({'prediction':pred, 'actual':y_test})\n",
    "    df = df.sort_values(by='actual').reset_index(drop=True)\n",
    "\n",
    "    plt.figure(figsize=(8, 6))\n",
    "    plt.scatter(df.index, df['prediction'], marker='x', color='r')\n",
    "    plt.scatter(df.index, df['actual'], alpha=0.5, marker='o', color='b')\n",
    "    plt.title('Linear Regression', fontsize=15)\n",
    "    plt.legend(['prediction', 'actual'], fontsize=12)\n",
    "\n",
    "\n",
    "# 2) add_msevalue()\n",
    "# 학습/예측을 실행한 모델명을 key로, 예측값과 실데이터의 MSE를 value로 predictions에 저장\n",
    "# predictions에 모델명이 없으면 추가, 이미 존재하면 수정\n",
    "\n",
    "predictions = {} # 알고리즘의 이름과 MSE를 저장할 dictionary\n",
    "\n",
    "def add_msevalue(model_name, pred, actual):\n",
    "    \n",
    "    global predictions\n",
    "\n",
    "    mse = mean_squared_error(pred, actual) # 실제값과 예측값의 MSE\n",
    "    predictions[model_name] = mse # predictions에 모델 이름과 해당 모델의 MSE를 저장\n",
    "\n",
    "\n",
    "# 3) mse_graph()\n",
    "# predictions에 저장된 모델명과 MSE를 그래프(barh)로 나타내는 함수\n",
    "\n",
    "def mse_graph():\n",
    "\n",
    "    global predictions\n",
    "    global colors\n",
    "\n",
    "    eval_value = sorted(predictions.items(), key=lambda x: x[1], reverse=True)\n",
    "    \n",
    "    df = pd.DataFrame(eval_value, columns=['model', 'mse'])\n",
    "    print(df)\n",
    "    min_tick = df['mse'].min() - 10\n",
    "    max_tick = df['mse'].max() + 10\n",
    "    \n",
    "    fig, axes = plt.subplots(figsize=(10,len(df)))\n",
    "    axes.set_yticks(np.arange(len(df)))\n",
    "    axes.set_yticklabels(df['model'], fontsize=15)\n",
    "    bars = axes.barh(np.arange(len(df)), df['mse'])\n",
    "    \n",
    "    for i, v in enumerate(df['mse']):\n",
    "        idx = np.random.choice(len(colors)) # 그래프 색상은 colors에서 랜덤 지정\n",
    "        bars[i].set_color(colors[idx])\n",
    "        axes.text(v + 2, i, str(round(v, 3)), color='k', fontsize=15, fontweight='bold')\n",
    "        \n",
    "    plt.title('MSE ', fontsize=15)\n",
    "    plt.xlim(min_tick, max_tick)"
   ]
  },
  {
   "cell_type": "markdown",
   "metadata": {
    "id": "qJmSsQ2yv0oV"
   },
   "source": [
    "## 모델 적용 "
   ]
  },
  {
   "cell_type": "markdown",
   "metadata": {
    "id": "y-GEe01eueXU"
   },
   "source": [
    "### LinearRegression"
   ]
  },
  {
   "cell_type": "code",
   "execution_count": 11,
   "metadata": {
    "id": "y2cYsPENv_q0"
   },
   "outputs": [],
   "source": [
    "from sklearn.linear_model import LinearRegression"
   ]
  },
  {
   "cell_type": "code",
   "execution_count": 12,
   "metadata": {
    "colab": {
     "base_uri": "https://localhost:8080/",
     "height": 156
    },
    "executionInfo": {
     "elapsed": 439,
     "status": "ok",
     "timestamp": 1656191850483,
     "user": {
      "displayName": "HI Lee",
      "userId": "04262798284985525111"
     },
     "user_tz": -540
    },
    "id": "1nBUN6VWwFB7",
    "outputId": "d073420a-0aa8-498e-e26d-4c7f80c63b7d"
   },
   "outputs": [
    {
     "name": "stdout",
     "output_type": "stream",
     "text": [
      "              model        mse\n",
      "0  LinearRegression  17.296916\n"
     ]
    },
    {
     "data": {
      "image/png": "[encoded data removed]",
      "text/plain": [
       "<Figure size 720x72 with 1 Axes>"
      ]
     },
     "metadata": {
      "needs_background": "light"
     },
     "output_type": "display_data"
    }
   ],
   "source": [
    "# LinearRegression 알고리즘 학습/예측, MSE 산출 및 MSE 그래프 출력\n",
    "\n",
    "# 모델 객체 생성\n",
    "lin_reg = LinearRegression()\n",
    "\n",
    "# 모델 학습\n",
    "lin_reg.fit(x_train, y_train)\n",
    "\n",
    "# 예측 수행\n",
    "lin_pred = lin_reg.predict(x_test)\n",
    "\n",
    "# MSE 산출 및 dictionary 저장\n",
    "add_msevalue('LinearRegression', lin_pred, y_test)\n",
    "\n",
    "# MSE 그래프 출력\n",
    "mse_graph()"
   ]
  },
  {
   "cell_type": "markdown",
   "metadata": {
    "id": "2f9ZKMb0yDF7"
   },
   "source": [
    "### RandomForestRegressor"
   ]
  },
  {
   "cell_type": "code",
   "execution_count": 13,
   "metadata": {
    "id": "c0kYJuLDFWra"
   },
   "outputs": [],
   "source": [
    "from sklearn.ensemble import RandomForestRegressor"
   ]
  },
  {
   "cell_type": "code",
   "execution_count": 17,
   "metadata": {
    "colab": {
     "base_uri": "https://localhost:8080/",
     "height": 229
    },
    "executionInfo": {
     "elapsed": 413,
     "status": "ok",
     "timestamp": 1656191884915,
     "user": {
      "displayName": "HI Lee",
      "userId": "04262798284985525111"
     },
     "user_tz": -540
    },
    "id": "nP23iV4k2LvN",
    "outputId": "133e8d83-2593-4209-8c93-24afa97efbc5"
   },
   "outputs": [
    {
     "name": "stdout",
     "output_type": "stream",
     "text": [
      "              model        mse\n",
      "0  LinearRegression  17.296916\n",
      "1      RandomForest   7.366744\n"
     ]
    },
    {
     "data": {
      "image/png": "[encoded data removed]",
      "text/plain": [
       "<Figure size 720x144 with 1 Axes>"
      ]
     },
     "metadata": {
      "needs_background": "light"
     },
     "output_type": "display_data"
    }
   ],
   "source": [
    "# RandomForest 알고리즘 학습/예측, MSE 산출 및 MSE 그래프 출력\n",
    "\n",
    "# 모델 객체 생성, 학습/예측\n",
    "rfr = RandomForestRegressor()\n",
    "rfr.fit(x_train, y_train)\n",
    "rfr_pred = rfr.predict(x_test)\n",
    "\n",
    "# MSE 산출/저장, 그래프 출력\n",
    "add_msevalue('RandomForest',rfr_pred, y_test)\n",
    "mse_graph()\n",
    "\n",
    "# RandomForest 모델의 성능이 월등히 우수함"
   ]
  },
  {
   "cell_type": "code",
   "execution_count": 18,
   "metadata": {
    "colab": {
     "base_uri": "https://localhost:8080/",
     "height": 300
    },
    "executionInfo": {
     "elapsed": 1607,
     "status": "ok",
     "timestamp": 1656191894980,
     "user": {
      "displayName": "HI Lee",
      "userId": "04262798284985525111"
     },
     "user_tz": -540
    },
    "id": "Kx9NbXWMtZtF",
    "outputId": "3fdeb8ab-2358-42ad-e929-d80591d020d2"
   },
   "outputs": [
    {
     "name": "stdout",
     "output_type": "stream",
     "text": [
      "                 model        mse\n",
      "0     LinearRegression  17.296916\n",
      "1  RandomFroest tuning   7.999284\n",
      "2         RandomForest   7.366744\n"
     ]
    },
    {
     "data": {
      "image/png": "[encoded data removed]",
      "text/plain": [
       "<Figure size 720x216 with 1 Axes>"
      ]
     },
     "metadata": {
      "needs_background": "light"
     },
     "output_type": "display_data"
    }
   ],
   "source": [
    "# 하이퍼 파라미터 튜닝\n",
    "\n",
    "# 모델 객체 생성(n_estimators, max_depth, max_features 하이퍼 파라미터 사용)\n",
    "rf_t = RandomForestRegressor(random_state=42, n_estimators=500, max_depth=6, max_features=0.9)\n",
    "\n",
    "# 학습/예측\n",
    "rf_t.fit(x_train, y_train)\n",
    "rf_t_pred = rf_t.predict(x_test)\n",
    "\n",
    "# MSE 산출/저장, 그래프 출력\n",
    "add_msevalue('RandomFroest tuning', rf_t_pred, y_test)\n",
    "mse_graph()"
   ]
  },
  {
   "cell_type": "markdown",
   "metadata": {
    "id": "-E_-IeE6tZtG"
   },
   "source": [
    "###  XGBoost"
   ]
  },
  {
   "cell_type": "code",
   "execution_count": 19,
   "metadata": {
    "id": "O4qZl2fgPwL-"
   },
   "outputs": [],
   "source": [
    "from xgboost import XGBRegressor"
   ]
  },
  {
   "cell_type": "code",
   "execution_count": 26,
   "metadata": {
    "colab": {
     "base_uri": "https://localhost:8080/",
     "height": 390
    },
    "executionInfo": {
     "elapsed": 877,
     "status": "ok",
     "timestamp": 1656191900943,
     "user": {
      "displayName": "HI Lee",
      "userId": "04262798284985525111"
     },
     "user_tz": -540
    },
    "id": "h91GFyKjQC26",
    "outputId": "f5f4f682-2b56-4bee-a948-04e0cc4123da"
   },
   "outputs": [
    {
     "name": "stdout",
     "output_type": "stream",
     "text": [
      "                 model        mse\n",
      "0     LinearRegression  17.296916\n",
      "1  RandomFroest tuning   7.999284\n",
      "2         RandomForest   7.366744\n",
      "3              XGBoost   6.908383\n"
     ]
    },
    {
     "data": {
      "image/png": "[encoded data removed]",
      "text/plain": [
       "<Figure size 720x288 with 1 Axes>"
      ]
     },
     "metadata": {
      "needs_background": "light"
     },
     "output_type": "display_data"
    }
   ],
   "source": [
    "# XGB 알고리즘 학습/예측, MSE 산출 및 MSE 그래프 출력\n",
    "\n",
    "# 모델 객체 생성, 학습/예측\n",
    "xg = XGBRegressor(random_state=10)\n",
    "xg.fit(x_train, y_train)\n",
    "xg_pred = xg.predict(x_test)\n",
    "\n",
    "# MSE 산출/저장, 그래프 출력\n",
    "add_msevalue('XGBoost', xg_pred, y_test)\n",
    "mse_graph()"
   ]
  },
  {
   "cell_type": "code",
   "execution_count": 30,
   "metadata": {
    "colab": {
     "base_uri": "https://localhost:8080/",
     "height": 463
    },
    "executionInfo": {
     "elapsed": 1390,
     "status": "ok",
     "timestamp": 1656191908520,
     "user": {
      "displayName": "HI Lee",
      "userId": "04262798284985525111"
     },
     "user_tz": -540
    },
    "id": "a6YRIuAM6Njw",
    "outputId": "b3615d49-c75c-4300-cbdb-0f812519238c",
    "scrolled": false
   },
   "outputs": [
    {
     "name": "stdout",
     "output_type": "stream",
     "text": [
      "                 model        mse\n",
      "0     LinearRegression  17.296916\n",
      "1  RandomFroest tuning   7.999284\n",
      "2         RandomForest   7.366744\n",
      "3              XGBoost   6.908383\n",
      "4       XGBoost tuning   6.908383\n"
     ]
    },
    {
     "data": {
      "image/png": "[encoded data removed]",
      "text/plain": [
       "<Figure size 720x360 with 1 Axes>"
      ]
     },
     "metadata": {
      "needs_background": "light"
     },
     "output_type": "display_data"
    }
   ],
   "source": [
    "# 하이퍼 파라미터 튜닝\n",
    "\n",
    "# 모델 객체 생성(learning_rate, n_estimators, subsample, max_depth 하이퍼 파라미터 사용)\n",
    "xg_t = XGBRegressor(random_state=42,\n",
    "                    learning_rate=0.01, n_estimators=1000, \n",
    "                    subsample=0.8,  max_depth=7)\n",
    "\n",
    "# 학습/예측\n",
    "xg_t.fit(x_train, y_train)\n",
    "xgb_t_pred = xg.predict(x_test)\n",
    "\n",
    "# MSE 산출/저장, 그래프 출력\n",
    "add_msevalue('XGBoost tuning', xgb_t_pred, y_test)\n",
    "mse_graph()\n",
    "\n",
    "# RandomForest, XGBoost 모델의 성능이 월등히 우수하지만,\n",
    "# LinearRegression, LogisticRegression 모델이 회귀와 분류 모델의 기본"
   ]
  }
 ],
 "metadata": {
  "colab": {
   "collapsed_sections": [],
   "name": "10_회귀모델_성능측정-문제.ipynb",
   "provenance": [
    {
     "file_id": "1A_izpMy4GGjtQcM4pc15frtfxw8Y7w7W",
     "timestamp": 1656191943142
    }
   ]
  },
  "kernelspec": {
   "display_name": "Python 3 (ipykernel)",
   "language": "python",
   "name": "python3"
  },
  "language_info": {
   "codemirror_mode": {
    "name": "ipython",
    "version": 3
   },
   "file_extension": ".py",
   "mimetype": "text/x-python",
   "name": "python",
   "nbconvert_exporter": "python",
   "pygments_lexer": "ipython3",
   "version": "3.9.12"
  },
  "toc": {
   "base_numbering": 1,
   "nav_menu": {},
   "number_sections": true,
   "sideBar": true,
   "skip_h1_title": false,
   "title_cell": "Table of Contents",
   "title_sidebar": "Contents",
   "toc_cell": false,
   "toc_position": {},
   "toc_section_display": true,
   "toc_window_display": false
  },
  "varInspector": {
   "cols": {
    "lenName": 16,
    "lenType": 16,
    "lenVar": 40
   },
   "kernels_config": {
    "python": {
     "delete_cmd_postfix": "",
     "delete_cmd_prefix": "del ",
     "library": "var_list.py",
     "varRefreshCmd": "print(var_dic_list())"
    },
    "r": {
     "delete_cmd_postfix": ") ",
     "delete_cmd_prefix": "rm(",
     "library": "var_list.r",
     "varRefreshCmd": "cat(var_dic_list()) "
    }
   },
   "types_to_exclude": [
    "module",
    "function",
    "builtin_function_or_method",
    "instance",
    "_Feature"
   ],
   "window_display": false
  }
 },
 "nbformat": 4,
 "nbformat_minor": 1
}
