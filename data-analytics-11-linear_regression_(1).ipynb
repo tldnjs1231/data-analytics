{
 "cells": [
  {
   "cell_type": "markdown",
   "metadata": {
    "id": "UfSjKBNEUYRU"
   },
   "source": [
    "## 선형 회귀(Linear Regression)"
   ]
  },
  {
   "cell_type": "code",
   "execution_count": 1,
   "metadata": {
    "id": "FvbhUoW7UN5q"
   },
   "outputs": [],
   "source": [
    "import numpy as np\n",
    "import matplotlib.pyplot as plt\n",
    "import warnings\n",
    "warnings.filterwarnings('ignore')"
   ]
  },
  {
   "cell_type": "markdown",
   "metadata": {
    "id": "9ejsylpuUf6N"
   },
   "source": [
    "### 샘플 데이터를 활용한 실습\n",
    "- np.random 모듈을 사용하여 샘플 데이터(feature) 생성\n",
    "- 임의로 설정한 회귀계수/절편과 샘플 데이터로 정답 데이터(target) 산출\n",
    "- 샘플 feature/target 모델 학습 수행\n",
    "- 모델이 예측한 회귀계수와 앞서 설정한 회귀계수 비교"
   ]
  },
  {
   "cell_type": "code",
   "execution_count": 2,
   "metadata": {
    "id": "kALwS0LmUZ1M"
   },
   "outputs": [
    {
     "name": "stdout",
     "output_type": "stream",
     "text": [
      "Feature: \n",
      "[[1.31559515]\n",
      " [2.90681165]\n",
      " [1.3501849 ]\n",
      " [2.79655068]\n",
      " [0.27191601]\n",
      " [2.37605334]\n",
      " [1.69269196]\n",
      " [2.22372241]\n",
      " [0.19464283]\n",
      " [2.84836116]] ...\n",
      "\n",
      "Noise: \n",
      "[[ 1.37898938]\n",
      " [ 0.60384191]\n",
      " [-0.54750171]\n",
      " [ 1.33875879]\n",
      " [-1.4178871 ]\n",
      " [-0.0332912 ]\n",
      " [ 0.23885054]\n",
      " [ 1.61528768]\n",
      " [ 0.43876468]\n",
      " [ 0.53327561]] ...\n",
      "\n",
      "Target: \n",
      "[[11.64136999]\n",
      " [17.23108852]\n",
      " [ 9.85323791]\n",
      " [17.52496151]\n",
      " [ 4.66977694]\n",
      " [14.47092218]\n",
      " [12.00961838]\n",
      " [15.5101773 ]\n",
      " [ 6.21733599]\n",
      " [16.92672025]] ...\n"
     ]
    }
   ],
   "source": [
    "# 임의의 weight, bias 설정\n",
    "b = 5\n",
    "w1 = 4\n",
    "\n",
    "# 샘플 feature 생성 -> 0~3의 값을 가지는 임의의 실수 100개\n",
    "x = 3 * np.random.rand(100, 1)\n",
    "\n",
    "# 데이터의 간격을 벌리기 위하여 데이터에 부여할 noise 생성\n",
    "noise = np.random.randn(100, 1)\n",
    "\n",
    "# 정답 데이터 y 산출\n",
    "y = w1*x + b + noise\n",
    "\n",
    "print(f'Feature: \\n{x[:10]} ...')\n",
    "print()\n",
    "print(f'Noise: \\n{noise[:10]} ...')\n",
    "print()\n",
    "print(f'Target: \\n{y[:10]} ...')\n",
    "\n",
    "# python random\n",
    "# 1) random.randint(start, end): start, end-1 사이의 랜덤한 숫자 1개 추출\n",
    "# 2) random.rand(m, n): 0~1의 균일분포/균등분포 난수를 생성(m x n array 형태)\n",
    "# 3) random.randn(m, n): 평균 0, 표준편차 1의 가우시안 표준정규분포 난수를 생성(대체로 -1~1의 값)"
   ]
  },
  {
   "cell_type": "code",
   "execution_count": 3,
   "metadata": {
    "id": "eV1dA5d0UbvP"
   },
   "outputs": [
    {
     "data": {
      "text/plain": [
       "<matplotlib.collections.PathCollection at 0x14ba6e57820>"
      ]
     },
     "execution_count": 3,
     "metadata": {},
     "output_type": "execute_result"
    },
    {
     "data": {
      "image/png": "[encoded data removed]",
      "text/plain": [
       "<Figure size 432x288 with 1 Axes>"
      ]
     },
     "metadata": {
      "needs_background": "light"
     },
     "output_type": "display_data"
    }
   ],
   "source": [
    "# 샘플 데이터 분포 시각화\n",
    "plt.scatter(x, y)"
   ]
  },
  {
   "cell_type": "code",
   "execution_count": 4,
   "metadata": {
    "id": "lMMkTvj1Ubr3"
   },
   "outputs": [
    {
     "name": "stdout",
     "output_type": "stream",
     "text": [
      "Bias: [4.82000326]\n",
      "Weight: [[4.07768991]]\n"
     ]
    }
   ],
   "source": [
    "from sklearn.linear_model import LinearRegression\n",
    "\n",
    "# LinearRegression 모델 객체 생성\n",
    "lr = LinearRegression()\n",
    "\n",
    "# 모델 학습\n",
    "lr.fit(x, y)\n",
    "\n",
    "print('Bias:', lr.intercept_)\n",
    "print('Weight:', lr.coef_)\n",
    "\n",
    "# 실제 weight, bias 값과 유사한 값을 반환"
   ]
  },
  {
   "cell_type": "code",
   "execution_count": 5,
   "metadata": {
    "id": "ian8qSJ_Ubof"
   },
   "outputs": [
    {
     "data": {
      "text/plain": [
       "[<matplotlib.lines.Line2D at 0x14ba9954310>]"
      ]
     },
     "execution_count": 5,
     "metadata": {},
     "output_type": "execute_result"
    },
    {
     "data": {
      "image/png": "[encoded data removed]",
      "text/plain": [
       "<Figure size 432x288 with 1 Axes>"
      ]
     },
     "metadata": {
      "needs_background": "light"
     },
     "output_type": "display_data"
    }
   ],
   "source": [
    "# y에 대한 예측 수행\n",
    "pred = lr.predict(x)\n",
    "\n",
    "# 실제 데이터와 회귀선 시각화\n",
    "plt.scatter(x, y) # actual y\n",
    "plt.plot(x, pred, 'r') # predicted y"
   ]
  }
 ],
 "metadata": {
  "colab": {
   "authorship_tag": "ABX9TyM92C+coINbUJ1Isc3moFJY",
   "name": "5_회귀모델_샘플_데이터_실습",
   "provenance": []
  },
  "kernelspec": {
   "display_name": "Python 3 (ipykernel)",
   "language": "python",
   "name": "python3"
  },
  "language_info": {
   "codemirror_mode": {
    "name": "ipython",
    "version": 3
   },
   "file_extension": ".py",
   "mimetype": "text/x-python",
   "name": "python",
   "nbconvert_exporter": "python",
   "pygments_lexer": "ipython3",
   "version": "3.9.12"
  }
 },
 "nbformat": 4,
 "nbformat_minor": 1
}
