{
 "cells": [
  {
   "cell_type": "code",
   "execution_count": 1,
   "metadata": {
    "id": "Npa5g_y_0gZf"
   },
   "outputs": [],
   "source": [
    "import warnings\n",
    "import pandas as pd\n",
    "import numpy as np\n",
    "warnings.filterwarnings('ignore') # 불필요한 경고 출력 방지"
   ]
  },
  {
   "cell_type": "markdown",
   "metadata": {
    "id": "34f9-kO3RyI8"
   },
   "source": [
    "## 앙상블 모델\n"
   ]
  },
  {
   "cell_type": "markdown",
   "metadata": {
    "id": "XfAwIZBxZhJz"
   },
   "source": [
    "### 유방암 진단 데이터 로드 & 데이터 세트 분리"
   ]
  },
  {
   "cell_type": "code",
   "execution_count": 2,
   "metadata": {
    "id": "ey0YK82WT8tF"
   },
   "outputs": [],
   "source": [
    "from sklearn.datasets import load_breast_cancer\n",
    "from sklearn.model_selection import train_test_split\n",
    "\n",
    "# 데이터 로드\n",
    "cancer = load_breast_cancer()\n",
    "\n",
    "# 학습/테스트 데이터 분할(test_size: 30%, stratify 옵션 사용)\n",
    "x_train, x_test, y_train, y_test = train_test_split(cancer.data, cancer.target,\n",
    "                                                 test_size=0.2, random_state=156,\n",
    "                                                 stratify=cancer.target)\n",
    "\n",
    "# target 데이터의 분포가 불균형하여 stratify 적용(특별히 이번에만 적용한 다른 이유가 있는 것은 아님)"
   ]
  },
  {
   "cell_type": "markdown",
   "metadata": {
    "id": "-vT1LiGXZhJ0"
   },
   "source": [
    "### 랜덤 포레스트 모델 적용"
   ]
  },
  {
   "cell_type": "code",
   "execution_count": 3,
   "metadata": {
    "id": "f_n_CldeZhJ0"
   },
   "outputs": [
    {
     "name": "stdout",
     "output_type": "stream",
     "text": [
      "Random Forest Accuracy: 0.9649\n"
     ]
    }
   ],
   "source": [
    "from sklearn.ensemble import RandomForestClassifier\n",
    "from sklearn.metrics import accuracy_score\n",
    "\n",
    "# 모델 객체 생성(n_jobs 옵션 사용)\n",
    "rf_clf = RandomForestClassifier(random_state=0, n_jobs=-1)\n",
    "\n",
    "# 모델 학습\n",
    "rf_clf.fit(x_train, y_train)\n",
    "\n",
    "# 예측값 생성\n",
    "pred = rf_clf.predict(x_test)\n",
    "\n",
    "# 예측 정확도 출력\n",
    "print(f'Random Forest Accuracy: {accuracy_score(y_test, pred):.4f}')"
   ]
  },
  {
   "cell_type": "markdown",
   "metadata": {
    "id": "z6_1NPd9ZhJ1"
   },
   "source": [
    "### GridSearchCV 하이퍼 파라미터 조정"
   ]
  },
  {
   "cell_type": "code",
   "execution_count": 4,
   "metadata": {
    "colab": {
     "base_uri": "https://localhost:8080/"
    },
    "executionInfo": {
     "elapsed": 49596,
     "status": "ok",
     "timestamp": 1656189543052,
     "user": {
      "displayName": "HI Lee",
      "userId": "04262798284985525111"
     },
     "user_tz": -540
    },
    "id": "BHE3vLd6ZhJ1",
    "outputId": "9298ab14-f161-4f9c-f68f-0799e4935725"
   },
   "outputs": [
    {
     "name": "stdout",
     "output_type": "stream",
     "text": [
      "Optimal Hyper Parameter: {'max_depth': 8, 'min_samples_split': 2, 'n_estimators': 500}\n",
      "Max Accuracy: 0.9450\n"
     ]
    }
   ],
   "source": [
    "from sklearn.model_selection import GridSearchCV\n",
    "\n",
    "# 하이퍼 파라미터 dictionary 형태로 저장\n",
    "params = {'n_estimators':[500],\n",
    "          'max_depth':[3, 4, 5, 6, 8],\n",
    "          'min_samples_split':[2, 3, 4, 8, 10]}\n",
    "\n",
    "# GridSearchCV 수행(cv=2, n_job=-1) -> GridSearchCV에도 n_jobs 옵션 존재\n",
    "grid_cv = GridSearchCV(rf_clf, param_grid=params, cv=2, n_jobs=-1)\n",
    "\n",
    "# 모델 학습\n",
    "grid_cv.fit(x_train, y_train)\n",
    "\n",
    "# 최적의 파라미터와 최고의 정확도 출력\n",
    "print('Optimal Hyper Parameter:', grid_cv.best_params_)\n",
    "print(f'Max Accuracy: {grid_cv.best_score_:.4f}')"
   ]
  },
  {
   "cell_type": "code",
   "execution_count": 5,
   "metadata": {
    "colab": {
     "base_uri": "https://localhost:8080/"
    },
    "executionInfo": {
     "elapsed": 301,
     "status": "ok",
     "timestamp": 1656189735839,
     "user": {
      "displayName": "HI Lee",
      "userId": "04262798284985525111"
     },
     "user_tz": -540
    },
    "id": "EED7DBD1ZhJ1",
    "outputId": "effaa5d8-e687-49c5-870c-4aed02dfc39d"
   },
   "outputs": [
    {
     "name": "stdout",
     "output_type": "stream",
     "text": [
      "Test Data Accuracy: 0.9737\n"
     ]
    }
   ],
   "source": [
    "from sklearn.metrics import accuracy_score\n",
    "\n",
    "# 예측값 생성\n",
    "grid_pred = grid_cv.predict(x_test) \n",
    "\n",
    "# 예측 정확도 출력\n",
    "accur = accuracy_score(y_test, grid_pred)\n",
    "print(f'Test Data Accuracy: {accur:.4f}')"
   ]
  },
  {
   "cell_type": "code",
   "execution_count": 6,
   "metadata": {
    "colab": {
     "base_uri": "https://localhost:8080/"
    },
    "executionInfo": {
     "elapsed": 3338,
     "status": "ok",
     "timestamp": 1656189846859,
     "user": {
      "displayName": "HI Lee",
      "userId": "04262798284985525111"
     },
     "user_tz": -540
    },
    "id": "q_QhhvU-ZhJ2",
    "outputId": "93afbbb0-fa84-4f88-d49f-eea6e236df65"
   },
   "outputs": [
    {
     "name": "stdout",
     "output_type": "stream",
     "text": [
      "Accuracy: 0.9737\n"
     ]
    }
   ],
   "source": [
    "# 최적의 파라미터를 사용하여 RandomForestClassifier 객체 생성\n",
    "rf_clf_grid = RandomForestClassifier(n_estimators=500, max_depth=8, min_samples_split=2,\n",
    "                                     n_jobs = -1, random_state = 0)\n",
    "\n",
    "# 모델 학습, 예측 수행, 성능 지표 출력\n",
    "rf_clf_grid.fit(x_train, y_train)\n",
    "pred = rf_clf_grid.predict(x_test)\n",
    "\n",
    "accur = accuracy_score(y_test, pred)\n",
    "print(f'Accuracy: {accur:.4f}')\n",
    "\n",
    "# GridSearchCV는 특성 중요도를 반환하지 않으므로,\n",
    "# 특성 중요도를 살펴보기 위해 최적의 파라미터로 Random Forest 모델로 학습/예측 한 번 더 수행"
   ]
  },
  {
   "cell_type": "markdown",
   "metadata": {
    "id": "pO6pA7pAZhJ2"
   },
   "source": [
    "### Feature Importance(특성 중요도)"
   ]
  },
  {
   "cell_type": "code",
   "execution_count": 7,
   "metadata": {
    "colab": {
     "base_uri": "https://localhost:8080/",
     "height": 499
    },
    "executionInfo": {
     "elapsed": 588,
     "status": "ok",
     "timestamp": 1656190115900,
     "user": {
      "displayName": "HI Lee",
      "userId": "04262798284985525111"
     },
     "user_tz": -540
    },
    "id": "Q6VmfD61ZhJ2",
    "outputId": "91799125-8101-40d8-d158-10a7ed7f4e0e"
   },
   "outputs": [
    {
     "data": {
      "image/png": "[encoded data removed]",
      "text/plain": [
       "<Figure size 576x504 with 1 Axes>"
      ]
     },
     "metadata": {
      "needs_background": "light"
     },
     "output_type": "display_data"
    }
   ],
   "source": [
    "import matplotlib.pyplot as plt\n",
    "import seaborn as sns\n",
    "import pandas as pd\n",
    "\n",
    "# 특성 중요도를 ftr_importances_values 변수에 저장\n",
    "ftr_importances_values = rf_clf_grid.feature_importances_\n",
    "\n",
    "# numpy 배열 형식의 feature_importances_를 보기 편한 Series 형태로 변환\n",
    "# 넘파이 어레이 형식이므로 보기 편하게 시리즈 안에 넣어줌\n",
    "ftr_importances = pd.Series(ftr_importances_values, index=cancer.feature_names)\n",
    "\n",
    "# 중요도 상위 20개의 feature를 ftr_top20 변수에 저장\n",
    "# Series는 컬럼이 하나이므로 sort 기준이 되는 컬럼을 적어줄 필요 없음(by=)\n",
    "ftr_top20 = ftr_importances.sort_values(ascending=False).head(20) # [:20]\n",
    "\n",
    "# ftr_top20 막대그래프 출력\n",
    "plt.figure(figsize=(8, 7))\n",
    "plt.title('Feature importances Top 20')\n",
    "sns.barplot(x= ftr_top20, y=ftr_top20.index)\n",
    "\n",
    "plt.show()"
   ]
  },
  {
   "cell_type": "code",
   "execution_count": 9,
   "metadata": {
    "colab": {
     "base_uri": "https://localhost:8080/"
    },
    "executionInfo": {
     "elapsed": 298,
     "status": "ok",
     "timestamp": 1656190185149,
     "user": {
      "displayName": "HI Lee",
      "userId": "04262798284985525111"
     },
     "user_tz": -540
    },
    "id": "JdVD-aoNZhJ2",
    "outputId": "f77f6cd5-5736-4311-ad4b-406cb2873cac"
   },
   "outputs": [
    {
     "data": {
      "text/plain": [
       "array([[41,  1],\n",
       "       [ 2, 70]], dtype=int64)"
      ]
     },
     "execution_count": 9,
     "metadata": {},
     "output_type": "execute_result"
    }
   ],
   "source": [
    "from sklearn.metrics import confusion_matrix,f1_score\n",
    "\n",
    "# confusion_matrix 출력\n",
    "cm = confusion_matrix(y_test, pred)\n",
    "cm"
   ]
  },
  {
   "cell_type": "code",
   "execution_count": 10,
   "metadata": {
    "colab": {
     "base_uri": "https://localhost:8080/",
     "height": 283
    },
    "executionInfo": {
     "elapsed": 527,
     "status": "ok",
     "timestamp": 1656190190770,
     "user": {
      "displayName": "HI Lee",
      "userId": "04262798284985525111"
     },
     "user_tz": -540
    },
    "id": "H842opxMZhJ3",
    "outputId": "ace3cad4-34d1-415e-ae3a-bdd60638e99b"
   },
   "outputs": [
    {
     "data": {
      "image/png": "[encoded data removed]",
      "text/plain": [
       "<Figure size 432x288 with 2 Axes>"
      ]
     },
     "metadata": {
      "needs_background": "light"
     },
     "output_type": "display_data"
    }
   ],
   "source": [
    "# 히트맵으로 정오 행렬 출력(malignant: 0, benign: 1)\n",
    "sns.heatmap(cm, annot=True, cmap='Blues', fmt='d')\n",
    "plt.xlabel('Predict')\n",
    "plt.ylabel('Actual')\n",
    "plt.show()"
   ]
  },
  {
   "cell_type": "code",
   "execution_count": 11,
   "metadata": {
    "colab": {
     "base_uri": "https://localhost:8080/"
    },
    "executionInfo": {
     "elapsed": 291,
     "status": "ok",
     "timestamp": 1656190213631,
     "user": {
      "displayName": "HI Lee",
      "userId": "04262798284985525111"
     },
     "user_tz": -540
    },
    "id": "q4JRpRNHZhJ3",
    "outputId": "43c2ca93-9813-4161-94d8-93ace8b6a324"
   },
   "outputs": [
    {
     "name": "stdout",
     "output_type": "stream",
     "text": [
      "Accuracy(Test): 0.9737\n",
      "Precision(Test): 0.9859\n",
      "Recall(Test): 0.9722\n",
      "F1 Score(Test): 0.9790\n"
     ]
    }
   ],
   "source": [
    "from sklearn.metrics import precision_score, recall_score, f1_score\n",
    "\n",
    "# 성능 지표(accuracy, precision, recall, f1 score) 출력\n",
    "\n",
    "acccuracy = accuracy_score(y_test, pred)\n",
    "precision = precision_score(y_test, pred)\n",
    "recall = recall_score(y_test, pred)\n",
    "f1 = f1_score(y_test, pred)\n",
    "\n",
    "print(f'Accuracy(Test): {acccuracy:.4f}')\n",
    "print(f'Precision(Test): {precision:.4f}')\n",
    "print(f'Recall(Test): {recall:.4f}')\n",
    "print(f'F1 Score(Test): {f1:.4f}')"
   ]
  },
  {
   "cell_type": "markdown",
   "metadata": {
    "id": "zXDc3CIFZhJ3"
   },
   "source": [
    "#### 분류모델 성능비교 함수"
   ]
  },
  {
   "cell_type": "code",
   "execution_count": 12,
   "metadata": {
    "id": "KgxqCzxuZhJ4"
   },
   "outputs": [],
   "source": [
    "# 학습과 예측에 사용된 모델의 성능을 그래프로 시각화하여 확인하기 위한 함수 생성\n",
    "\n",
    "import matplotlib.pyplot as plt\n",
    "import seaborn as sns\n",
    "\n",
    "\n",
    "# 무작위로 그래프 색상을 선택하기 위한 색상 list\n",
    "colors = ['b','g','r', 'c', 'm', 'y', 'k', \n",
    "          'lightcoral', 'mistyrose', 'tomato', 'darkred', 'sienna',\n",
    "          'forestgreen', 'royalblue', 'orange', 'lemonchiffon','skyblue',\n",
    "          'chocolate', 'greenyellow','lime','aqua','lightpink','lightgreen',\n",
    "          'gold', 'seagreen', 'deepskyblue', 'steelblue', 'slategray']\n",
    "\n",
    "\n",
    "# 1) add_accuracy()\n",
    "# 학습/예측을 실행한 모델명을 key로, 예측값과 실데이터의 예측 정확도를 value로 predictions에 저장\n",
    "# predictions에 모델명이 없으면 추가, 이미 존재하면 수정\n",
    "\n",
    "predictions = {} # 알고리즘의 이름과 예측 정확도를 저장할 dictionary\n",
    "\n",
    "def add_accuracy(model_name, acc):\n",
    "    \n",
    "    global predictions\n",
    "    \n",
    "    predictions[model_name] = acc # predictions에 모델 이름과 해당 모델의 예측 정확도를 저장\n",
    "\n",
    "\n",
    "# 3) accuracy_graph()\n",
    "# predictions에 저장된 모델명과 예측 정확도를 그래프(barh)로 나타내는 함수\n",
    "\n",
    "def accuracy_graph():\n",
    "    \n",
    "    global predictions\n",
    "    global colors\n",
    "\n",
    "    eval_value = sorted(predictions.items(), key=lambda x: x[1], reverse=False)\n",
    "    \n",
    "    df = pd.DataFrame(eval_value, columns=['model', 'accuracy'])\n",
    "    print(df)\n",
    "    \n",
    "    fig, axes = plt.subplots(figsize=(7, len(df)))\n",
    "    axes.set_yticks(np.arange(len(df)))\n",
    "    axes.set_yticklabels(df['model'], fontsize=15)\n",
    "    bars = axes.barh(np.arange(len(df)), df['accuracy'])\n",
    "    \n",
    "    for i, v in enumerate(df['accuracy']):\n",
    "        idx = np.random.choice(len(colors))\n",
    "        bars[i].set_color(colors[idx])\n",
    "        # axes.text(v + 2, i, str(round(v, 3)), color='k', fontsize=15, fontweight='bold')\n",
    "        axes.text(1, i, str(round(v, 4)), color='k', fontsize=15, fontweight='bold')\n",
    "        \n",
    "    plt.title('Accuracy ', fontsize=15)\n",
    "    plt.xlim(0, 2)"
   ]
  },
  {
   "cell_type": "markdown",
   "metadata": {
    "id": "VuriZkONZhJ4"
   },
   "source": [
    "## 분류 모델 성능 비교"
   ]
  },
  {
   "cell_type": "markdown",
   "metadata": {
    "id": "83u6xv7jZhJ4"
   },
   "source": [
    "###  Logistic Regression"
   ]
  },
  {
   "cell_type": "code",
   "execution_count": 14,
   "metadata": {
    "colab": {
     "base_uri": "https://localhost:8080/",
     "height": 156
    },
    "executionInfo": {
     "elapsed": 304,
     "status": "ok",
     "timestamp": 1656190433327,
     "user": {
      "displayName": "HI Lee",
      "userId": "04262798284985525111"
     },
     "user_tz": -540
    },
    "id": "vyVzXu0HZhJ4",
    "outputId": "8b4e3db2-6155-4a8b-922b-7ea2fe659474"
   },
   "outputs": [
    {
     "name": "stdout",
     "output_type": "stream",
     "text": [
      "                model  accuracy\n",
      "0  LogisticRegression  0.947368\n"
     ]
    },
    {
     "data": {
      "image/png": "[encoded data removed]",
      "text/plain": [
       "<Figure size 504x72 with 1 Axes>"
      ]
     },
     "metadata": {
      "needs_background": "light"
     },
     "output_type": "display_data"
    }
   ],
   "source": [
    "from sklearn.linear_model import LogisticRegression\n",
    "\n",
    "# 객체 생성, 학습, 예측\n",
    "log_reg =  LogisticRegression()\n",
    "log_reg.fit(x_train, y_train)\n",
    "pred = log_reg.predict(x_test)\n",
    "\n",
    "# 예측 정확도 변수 생성\n",
    "lr_acc = accuracy_score(y_test, pred)\n",
    "\n",
    "# 예측 정확도 시각화\n",
    "add_accuracy('LogisticRegression', lr_acc)\n",
    "accuracy_graph()"
   ]
  },
  {
   "cell_type": "markdown",
   "metadata": {
    "id": "QblyXfcEZhJ4"
   },
   "source": [
    "### Random Forest"
   ]
  },
  {
   "cell_type": "code",
   "execution_count": 15,
   "metadata": {
    "colab": {
     "base_uri": "https://localhost:8080/",
     "height": 229
    },
    "executionInfo": {
     "elapsed": 727,
     "status": "ok",
     "timestamp": 1656190474025,
     "user": {
      "displayName": "HI Lee",
      "userId": "04262798284985525111"
     },
     "user_tz": -540
    },
    "id": "tB0PchRGZhJ5",
    "outputId": "a522fedb-560b-4a1d-d224-cd5c9f08e18c"
   },
   "outputs": [
    {
     "name": "stdout",
     "output_type": "stream",
     "text": [
      "                model  accuracy\n",
      "0  LogisticRegression  0.947368\n",
      "1       Random Forest  0.964912\n"
     ]
    },
    {
     "data": {
      "image/png": "[encoded data removed]",
      "text/plain": [
       "<Figure size 504x144 with 1 Axes>"
      ]
     },
     "metadata": {
      "needs_background": "light"
     },
     "output_type": "display_data"
    }
   ],
   "source": [
    "from sklearn.ensemble import RandomForestClassifier\n",
    "\n",
    "# 객체 생성, 학습, 예측\n",
    "rf_clf = RandomForestClassifier(random_state=0, n_jobs=-1)\n",
    "rf_clf.fit(x_train, y_train)\n",
    "rf_pred = rf_clf.predict(x_test)\n",
    "\n",
    "# 예측 정확도 시각화\n",
    "rf_acc = accuracy_score(y_test, rf_pred)\n",
    "add_accuracy('Random Forest', rf_acc)\n",
    "accuracy_graph()"
   ]
  },
  {
   "cell_type": "markdown",
   "metadata": {
    "id": "PT4G_Mk5ZhJ5"
   },
   "source": [
    "###  Random Forest - tuning"
   ]
  },
  {
   "cell_type": "code",
   "execution_count": 16,
   "metadata": {
    "colab": {
     "base_uri": "https://localhost:8080/",
     "height": 300
    },
    "executionInfo": {
     "elapsed": 1805,
     "status": "ok",
     "timestamp": 1656190491468,
     "user": {
      "displayName": "HI Lee",
      "userId": "04262798284985525111"
     },
     "user_tz": -540
    },
    "id": "nr_PaEF-ZhJ5",
    "outputId": "491bef4f-bbd9-4fde-e015-c0b5f7512dad"
   },
   "outputs": [
    {
     "name": "stdout",
     "output_type": "stream",
     "text": [
      "                  model  accuracy\n",
      "0    LogisticRegression  0.947368\n",
      "1         Random Forest  0.964912\n",
      "2  Random Forest Tuning  0.973684\n"
     ]
    },
    {
     "data": {
      "image/png": "[encoded data removed]",
      "text/plain": [
       "<Figure size 504x216 with 1 Axes>"
      ]
     },
     "metadata": {
      "needs_background": "light"
     },
     "output_type": "display_data"
    }
   ],
   "source": [
    "rf_clf_tuning = RandomForestClassifier(n_estimators=500,\n",
    "                                 max_depth=8,\n",
    "                                 min_samples_split=2,\n",
    "                                 n_jobs=-1, random_state=0)\n",
    "\n",
    "# 모델 학습, 예측 수행\n",
    "rf_clf_tuning.fit(x_train, y_train)\n",
    "rf_tunning_pred = rf_clf_tuning.predict(x_test)\n",
    "\n",
    "# 예측 정확도 시각화\n",
    "rf_tuning_acc = accuracy_score(y_test, rf_tunning_pred)\n",
    "add_accuracy('Random Forest Tuning',rf_tuning_acc)\n",
    "accuracy_graph()\n",
    "\n",
    "# 최적의 하이퍼 파라미터를 넣어서 튜닝한 모델의 성능이 가장 우수함"
   ]
  },
  {
   "cell_type": "markdown",
   "metadata": {
    "id": "OED4exLtZhJ5"
   },
   "source": [
    "## 부스팅 계열의 알고리즘\n",
    "### XGBoost\n",
    "\n",
    "[공식문서](https://xgboost.readthedocs.io/en/latest/)\n",
    "\n",
    "- scikit-learn 패키지에 속한 모델이 아니므로 xgboost 설치 필요\n",
    "- !pip install xgboost: jupyter notebook 셀에서 설치 시 ! 삽입"
   ]
  },
  {
   "cell_type": "code",
   "execution_count": 21,
   "metadata": {
    "colab": {
     "base_uri": "https://localhost:8080/",
     "height": 372
    },
    "executionInfo": {
     "elapsed": 868,
     "status": "ok",
     "timestamp": 1656190532829,
     "user": {
      "displayName": "HI Lee",
      "userId": "04262798284985525111"
     },
     "user_tz": -540
    },
    "id": "bJL4h5-zZhJ5",
    "outputId": "a7582e2f-069b-4df8-9a67-49c18ff787aa"
   },
   "outputs": [
    {
     "name": "stdout",
     "output_type": "stream",
     "text": [
      "                  model  accuracy\n",
      "0    LogisticRegression  0.947368\n",
      "1         Random Forest  0.964912\n",
      "2  Random Forest Tuning  0.973684\n",
      "3               XGBoost  0.982456\n"
     ]
    },
    {
     "data": {
      "image/png": "[encoded data removed]",
      "text/plain": [
       "<Figure size 504x288 with 1 Axes>"
      ]
     },
     "metadata": {
      "needs_background": "light"
     },
     "output_type": "display_data"
    }
   ],
   "source": [
    "from xgboost import XGBClassifier # 회귀 모델의 경우 XGBRegressor 사용\n",
    "\n",
    "# 모델 객체 생성, 모델 학습, 예측 수행\n",
    "xgb = XGBClassifier(random_state=42)\n",
    "xgb.fit(x_train, y_train)\n",
    "xgb_pred = xgb.predict(x_test)\n",
    "\n",
    "# 예측 정확도 시각화\n",
    "xgb_acc = accuracy_score(y_test, xgb_pred)\n",
    "add_accuracy('XGBoost',xgb_acc)\n",
    "accuracy_graph()\n",
    "\n",
    "# 예측에 실패한 값을 집중적으로 재학습하는 부스팅 계열 알고리즘의 성능이 가장 우수함"
   ]
  },
  {
   "cell_type": "markdown",
   "metadata": {
    "id": "uUN-QLgUZhJ6"
   },
   "source": [
    "### XGBoost - tuning"
   ]
  },
  {
   "cell_type": "markdown",
   "metadata": {
    "id": "mLo178svZhJ6"
   },
   "source": [
    "**주요 Hyperparameter**\n",
    "- n_jobs : CPU 사용 개수\n",
    "- learning_rate : 학습률\n",
    " - 너무 큰 학습률은 성능을 떨어뜨리고, 너무 작은 학습률은 학습이 느리므로 적절한 값을 찾아야 함(default=0.1)\n",
    " - 경사 하강법: 같은 간격(Learning-Rate)으로 이동하면서 최소 오차를 찾아가는데, 간격이 너무 크면 최소 오차를 지나칠 수 있음\n",
    "- n_estimators : 부스팅 스테이지 수(랜덤 포레스트 트리의 개수 설정과 비슷한 개념, default=100)\n",
    "- max_depth : 의사결정나무의 최대 깊이(과대적합 방지용, default=3)\n",
    "- subsample : 샘플 사용 비율(과대적합 방지용, default=1)\n",
    "- max_features : 최대로 사용할 feature의 비율(과대적합 방지용, default=1)"
   ]
  },
  {
   "cell_type": "code",
   "execution_count": 22,
   "metadata": {
    "colab": {
     "base_uri": "https://localhost:8080/",
     "height": 445
    },
    "executionInfo": {
     "elapsed": 1606,
     "status": "ok",
     "timestamp": 1656190672287,
     "user": {
      "displayName": "HI Lee",
      "userId": "04262798284985525111"
     },
     "user_tz": -540
    },
    "id": "FaaVvF6EZhJ6",
    "outputId": "f362858d-3214-468e-80d1-5d13879e5309"
   },
   "outputs": [
    {
     "name": "stdout",
     "output_type": "stream",
     "text": [
      "                  model  accuracy\n",
      "0    LogisticRegression  0.947368\n",
      "1         Random Forest  0.964912\n",
      "2  Random Forest Tuning  0.973684\n",
      "3               XGBoost  0.982456\n",
      "4        XGBoost Tuning  0.982456\n"
     ]
    },
    {
     "data": {
      "image/png": "[encoded data removed]",
      "text/plain": [
       "<Figure size 504x360 with 1 Axes>"
      ]
     },
     "metadata": {
      "needs_background": "light"
     },
     "output_type": "display_data"
    }
   ],
   "source": [
    "xgb_t = XGBClassifier(random_state=42, learning_rate=0.01, \n",
    "                      n_estimators=1000, subsample=0.8,  max_depth=7)\n",
    "\n",
    "# 모델 학습, 예측 수행\n",
    "xgb_t.fit(x_train, y_train)\n",
    "xgb_t_pred = xgb_t.predict(x_test)\n",
    "\n",
    "# 예측 정확도 시각화\n",
    "xgb_t_acc = accuracy_score(y_test, xgb_t_pred)\n",
    "add_accuracy('XGBoost Tuning', xgb_t_acc)\n",
    "accuracy_graph()"
   ]
  }
 ],
 "metadata": {
  "colab": {
   "collapsed_sections": [],
   "name": "9_분류_랜덤포레스트-문제.ipynb",
   "provenance": [
    {
     "file_id": "1W0RFuUaI7qWa4Lt5ysuHYHGcAliAdjqV",
     "timestamp": 1656190704986
    }
   ]
  },
  "kernelspec": {
   "display_name": "Python 3 (ipykernel)",
   "language": "python",
   "name": "python3"
  },
  "language_info": {
   "codemirror_mode": {
    "name": "ipython",
    "version": 3
   },
   "file_extension": ".py",
   "mimetype": "text/x-python",
   "name": "python",
   "nbconvert_exporter": "python",
   "pygments_lexer": "ipython3",
   "version": "3.9.12"
  },
  "toc": {
   "base_numbering": 1,
   "nav_menu": {},
   "number_sections": true,
   "sideBar": true,
   "skip_h1_title": false,
   "title_cell": "Table of Contents",
   "title_sidebar": "Contents",
   "toc_cell": false,
   "toc_position": {},
   "toc_section_display": true,
   "toc_window_display": false
  },
  "varInspector": {
   "cols": {
    "lenName": 16,
    "lenType": 16,
    "lenVar": 40
   },
   "kernels_config": {
    "python": {
     "delete_cmd_postfix": "",
     "delete_cmd_prefix": "del ",
     "library": "var_list.py",
     "varRefreshCmd": "print(var_dic_list())"
    },
    "r": {
     "delete_cmd_postfix": ") ",
     "delete_cmd_prefix": "rm(",
     "library": "var_list.r",
     "varRefreshCmd": "cat(var_dic_list()) "
    }
   },
   "types_to_exclude": [
    "module",
    "function",
    "builtin_function_or_method",
    "instance",
    "_Feature"
   ],
   "window_display": false
  }
 },
 "nbformat": 4,
 "nbformat_minor": 1
}
